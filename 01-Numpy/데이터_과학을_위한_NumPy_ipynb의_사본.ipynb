{
  "nbformat": 4,
  "nbformat_minor": 0,
  "metadata": {
    "colab": {
      "provenance": [],
      "collapsed_sections": [
        "JPq9Zh8Ekg9n",
        "vj0WRG9-hbd4"
      ],
      "toc_visible": true
    },
    "kernelspec": {
      "name": "python3",
      "display_name": "Python 3"
    },
    "accelerator": "GPU"
  },
  "cells": [
    {
      "cell_type": "markdown",
      "metadata": {
        "id": "XOmhYVEwXIcH"
      },
      "source": [
        "![alt text](https://lh3.googleusercontent.com/jS2nj0Ju7rvJJangnpFrnveoLlMAVc-Ee-k38WW3bRT1rpOooDKa8c3Uh2hZs5j6-XNc1ZFry07GtQTX8sYRpyZGgz8TZuBpGw75pAZqSKQRSfKA0Isy3I-222AHDlZa1WNAvFGmQLfeR4S96qK3agRN-br82Od1243W4uVZbFmbkZPykYy4_qDeE2UrbT1nVr8QZccLXjjtjiJRM8WQ_8eZFSRUBP1BMQg5AG6l7tdGXuWlQDmqFOFcDcEQE5ZX30N7TIcDSOiMWjp0gGZgtMfaR983h4NP8dUp-ej-Vo1D4FSpa_zTpjvKRrpbfnVir1LpIw0yC9OjD7aCMtLcul9Npe-voMkiJgz5XNvFatCgq5WmfcoaDDvkkEQZgp7LQoOqqprzvdItdiyWagMtCVQONtypoZhc2kQQkfav2M0sC9kG4AXDJ6nOlpi8iSbJSVVPKHN9wzGzN1gxo2dDtaua9VfHd5MTOWiRV6ArL6pzwzSzAPSAgUFZZhc4RHGzk5ChHsJBaO3gzvn8GF4Cr7P7GahgXEhw98u1Z0VlNqDmp37B4cUHm5dujBm7jQXGTvPqM5zuDHwiviFId6OMjcjW6xZNckM9_KM8opmUYN_RKP-YPs51qrz9NVksS73JOhHpBHtVQMDCFycT6ZSKv-zdwZN7_FW7=w2160-h856-no)"
      ]
    },
    {
      "cell_type": "markdown",
      "metadata": {
        "id": "6cMgoMfCa04s"
      },
      "source": [
        "# 들어가며"
      ]
    },
    {
      "cell_type": "markdown",
      "metadata": {
        "id": "RbbfuWbnYG4p"
      },
      "source": [
        "## Google Colab 사용 방법"
      ]
    },
    {
      "cell_type": "markdown",
      "metadata": {
        "id": "N-19yBZf9p0X"
      },
      "source": [
        "- 방향키 ↑↓: 셀 간 이동\n",
        "- Enter: 편집모드\n",
        "- Ctrl + Enter: 셀 실행\n",
        "- Shift + Enter: 셀 실행 + 다음 셀 선택\n",
        "\n",
        "---\n",
        "\n",
        "- Ctrl +M D: 셀 삭제\n",
        "- Ctrl + M K: 셀 위로 이동\n",
        "- Ctrl + M J: 셀 아래로 이동"
      ]
    },
    {
      "cell_type": "markdown",
      "metadata": {
        "id": "lzIDPJDeUOjE"
      },
      "source": [
        "#**1. NumPy의 존재 이유**\n"
      ]
    },
    {
      "cell_type": "markdown",
      "metadata": {
        "id": "ph6QEFZ7hH7n"
      },
      "source": [
        "![alt text](https://lh3.googleusercontent.com/AP7oMf3hAk2jjhu_cHRNZ6JHxjOZ9FOtthMkSw_wPoRBgSuroW8s4BhP5vAeOrMoBlc7fTeX79ItwpWn5Wmek4wunewkSVe_emEmmFxJUlFbM-a4mFE06ghc5dmpsa9pIRbXQbadTpnOYw9lY9Ujr-UKp5rqi_-IUEh7SFUoWhcGv2ch60Kz3u1j0TWukwW4xCOXd85gkesdMHsaMo_qllLu1mzWeIrABxeASD3n8RuWyiETGJruH5mpiq0X7PkprxJkbwTmaOfwQTolZp64xW05yvXb2xEN_dJuHaWvhCdX05RVcqjw6JjWrqnmLKSwYKgHUy-l4yXBgsZFSh0Vi-di4-DB4e5LxNJa_9ykJuC9sr_msdeub6EMBJnvwziHIkdqwmfUUEl13EHFpkbt2AsJVeSj-ctJTUIxGCx1kD2OPA0VID_BTNpJDBXH1RtMC8JoRysIClD4NVL0tSh96R0ZownNqE8FZlextg86VQuhP7_CRSFtuEdzD5I0SxHDqPWhHzA9Okb5gmDwBykEf55jla53ta1thdxwKG8uJAm9ksW0lnsmG7HcA0l6UJibRJVhnf4-jEmJ_0CvCQ61rf0lbP_-bJOGOy3HZP5NrqOfVbJvX0Ey9UYURK1H7XuhDdydyTi4JY_V-7htYv7RxKUTED5Bd7R1WiQnCIYwbrDPbTyR6KHZgO7ydMp37hOlr9Fw745ASonaxuyPA2XTdRSCXg=w708-h371-no)\n",
        "\n",
        "NumPy는 Pandas, Scikit-learn, Tensorflow등 데이터 사이언스 분야에서 사용되는 라이브러리들의 토대가 되는 라이브러리입니다. NumPy 그 자체로는 높은 수준의 데이터 분석 기능을 제공하지 않지만 NumPy를 활용해 데이터를 Python상에서 표현하고 다룰 줄 알아야만 데이터 분석이라는 그 이후 단계로 나아갈 수 있습니다.\n",
        "\n",
        "이번 강의에서는 데이터 분석의 토대가 될 NumPy의 기본 기능들과 더 빠르고 효율적인 연산을 위한 NumPy 활용법들을 다룰 예정입니다."
      ]
    },
    {
      "cell_type": "markdown",
      "metadata": {
        "id": "-532MytnX9MS"
      },
      "source": [
        "## 데이터 과학에서 다차원 배열의 필요성"
      ]
    },
    {
      "cell_type": "markdown",
      "metadata": {
        "id": "-Q-jtnLMzU_E"
      },
      "source": [
        "### 숫자 자료형"
      ]
    },
    {
      "cell_type": "markdown",
      "metadata": {
        "id": "3dM8Kpc6ieIl"
      },
      "source": [
        "파이썬에서는 데이터를 숫자형 변수에 저장할 수 있습니다.\n",
        "\n",
        "세명의 학생들로 이루어진 반이 있고 이 학생들의 수학점수를 각각의 **숫자형 변수**에 저장하는 경우 아래처럼 처리할 수 있습니다."
      ]
    },
    {
      "cell_type": "code",
      "metadata": {
        "id": "uBPH_VzffLcT"
      },
      "source": [
        "MathScore1 = 11\n",
        "MathScore2 = 12\n",
        "MathScore3 = 13"
      ],
      "execution_count": null,
      "outputs": []
    },
    {
      "cell_type": "markdown",
      "metadata": {
        "id": "8S69KSR0k-Ua"
      },
      "source": [
        "점수들의 합과, 평균은 아래처럼 구할 수 있습니다."
      ]
    },
    {
      "cell_type": "code",
      "metadata": {
        "id": "17qPqrBJfU5o",
        "colab": {
          "base_uri": "https://localhost:8080/"
        },
        "outputId": "ba936498-bc93-432d-f93b-c76af7ecf665"
      },
      "source": [
        "MathScoreSum = MathScore1 + MathScore2 + MathScore3\n",
        "MathScoreAverage = MathScoreSum/3\n",
        "\n",
        "print(\"수학점수 합: {}\".format(MathScoreSum))\n",
        "print(\"수학점수 평균: {}\".format(MathScoreAverage))"
      ],
      "execution_count": null,
      "outputs": [
        {
          "output_type": "stream",
          "name": "stdout",
          "text": [
            "수학점수 합: 36\n",
            "수학점수 평균: 12.0\n"
          ]
        }
      ]
    },
    {
      "cell_type": "markdown",
      "metadata": {
        "id": "28PfXZzYmkwo"
      },
      "source": [
        "만약 새로운 학생이 전학을 와서 시험을 쳤고 이 학생의 성적을 추가한 점수들의 합과 평균을 구하려면 어떻게 해야 할까요?\n",
        "\n",
        "새로운 변수를 추가해야 합니다."
      ]
    },
    {
      "cell_type": "code",
      "metadata": {
        "id": "qdzLb2iPm41S"
      },
      "source": [
        "MathScore4 = 14"
      ],
      "execution_count": null,
      "outputs": []
    },
    {
      "cell_type": "markdown",
      "metadata": {
        "id": "xS6-rRa7m83D"
      },
      "source": [
        "그리고 합과 평균을 구하는 코드 역시 수정해야합니다."
      ]
    },
    {
      "cell_type": "code",
      "metadata": {
        "id": "LLsJ9qawm7vA",
        "colab": {
          "base_uri": "https://localhost:8080/"
        },
        "outputId": "2058a541-6fb7-4afa-e7e2-e8061a31b4c8"
      },
      "source": [
        "MathScoreSum = MathScore1 + MathScore2 + MathScore3 + MathScore4  # 추가된 MathScore4를 합 구할때 고려\n",
        "MathScoreAverage = MathScoreSum/4                                 # 수정: 분모를 3에서 4로 수정\n",
        "\n",
        "print(\"수학점수 합: {}\".format(MathScoreSum))\n",
        "print(\"수학점수 평균: {}\".format(MathScoreAverage))"
      ],
      "execution_count": null,
      "outputs": [
        {
          "output_type": "stream",
          "name": "stdout",
          "text": [
            "수학점수 합: 50\n",
            "수학점수 평균: 12.5\n"
          ]
        }
      ]
    },
    {
      "cell_type": "markdown",
      "metadata": {
        "id": "ojfCyAcWzZvz"
      },
      "source": [
        "### 리스트 자료형"
      ]
    },
    {
      "cell_type": "markdown",
      "metadata": {
        "id": "G5_DhNL4o3Fs"
      },
      "source": [
        "추가된 데이터를 새로 선언해 주는것은 어쩔수 없다 하더라도 합과 평균을 구하는 코드를 매번 변경하는건 비효율적인 일입니다."
      ]
    },
    {
      "cell_type": "markdown",
      "metadata": {
        "id": "YndLMp1Zznur"
      },
      "source": [
        "리스트 자료형에 데이터를 저장하면 이 문제를 해결할 수 있습니다.\n",
        "\n",
        "다섯명의 학생들로 이루어진 반이 있고 이 학생들의 수학점수를 **리스트**에 저장하는 경우 아래처럼 처리할 수 있습니다."
      ]
    },
    {
      "cell_type": "code",
      "metadata": {
        "id": "RkZXCTbMyvDz",
        "colab": {
          "base_uri": "https://localhost:8080/"
        },
        "outputId": "52567574-b162-4793-d1c9-6e0e18ac989e"
      },
      "source": [
        "MathScoreList = [11, 12, 13]\n",
        "\n",
        "print(MathScoreList)"
      ],
      "execution_count": null,
      "outputs": [
        {
          "output_type": "stream",
          "name": "stdout",
          "text": [
            "[11, 12, 13]\n"
          ]
        }
      ]
    },
    {
      "cell_type": "markdown",
      "metadata": {
        "id": "arCJlQ3J0RY5"
      },
      "source": [
        "점수들의 합과, 평균은 아래처럼 구할 수 있습니다."
      ]
    },
    {
      "cell_type": "code",
      "metadata": {
        "id": "0nfV0KGFfU3a",
        "colab": {
          "base_uri": "https://localhost:8080/"
        },
        "outputId": "c72a6992-3e09-487e-81c6-4f956a6df91a"
      },
      "source": [
        "listMathScoreSum = 0      # 변수 선언&초기화\n",
        "listMathScoreAverage = 0  # 변수 선언&초기화\n",
        "\n",
        "for e in MathScoreList:\n",
        "  listMathScoreSum += e   # listMathScoreSum = listMathScoreSum + e 와 동일한 코드\n",
        "\n",
        "listMathScoreAverage = listMathScoreSum / len(MathScoreList)\n",
        "\n",
        "print(\"수학점수 합: {}\".format(listMathScoreSum))\n",
        "print(\"수학점수 평균: {}\".format(listMathScoreAverage))"
      ],
      "execution_count": null,
      "outputs": [
        {
          "output_type": "stream",
          "name": "stdout",
          "text": [
            "수학점수 합: 36\n",
            "수학점수 평균: 12.0\n"
          ]
        }
      ]
    },
    {
      "cell_type": "markdown",
      "metadata": {
        "id": "iyULeL49s1o3"
      },
      "source": [
        "만약 새로운 학생이 전학을 와서 시험을 쳤고 이 학생의 성적을 추가한 점수들의 합과 평균을 구하려면 어떻게 해야 할까요?\n",
        "\n",
        "~~새로운 변수를 추가해야 합니다.~~\n",
        "\n",
        "기존의 리스트에 새로운 데이터를 추가하면 됩니다."
      ]
    },
    {
      "cell_type": "code",
      "metadata": {
        "id": "XLU6-OJO02Pq"
      },
      "source": [
        "# append: list의 끝에 요소를 추가할 때 사용하는 메서드\n",
        "MathScoreList.append(14)  # 데이터 추가"
      ],
      "execution_count": null,
      "outputs": []
    },
    {
      "cell_type": "markdown",
      "metadata": {
        "id": "WwlsHrpO06-B"
      },
      "source": [
        "~~그리고 합과 평균을 구하는 코드 역시 수정해야합니다.~~\n",
        "\n",
        "새로운 데이터가 추가되더라도 평균과 합을 구하는 **코드는 수정 없이 그대로 사용할 수 있습니다**."
      ]
    },
    {
      "cell_type": "code",
      "metadata": {
        "id": "hZ9b6Es8fU1Q",
        "colab": {
          "base_uri": "https://localhost:8080/"
        },
        "outputId": "b3de1488-4e9a-4094-d690-0f9dd27737f2"
      },
      "source": [
        "listMathScoreSum = 0      # 변수 선언&초기화\n",
        "listMathScoreAverage = 0  # 변수 선언&초기화\n",
        "\n",
        "for e in MathScoreList:\n",
        "  listMathScoreSum += e   # listMathScoreSum = listMathScoreSum + e 와 동일한 코드\n",
        "\n",
        "listMathScoreAverage = listMathScoreSum / len(MathScoreList)\n",
        "\n",
        "print(\"수학점수 합: {}\".format(listMathScoreSum))\n",
        "print(\"수학점수 평균: {}\".format(listMathScoreAverage))"
      ],
      "execution_count": null,
      "outputs": [
        {
          "output_type": "stream",
          "name": "stdout",
          "text": [
            "수학점수 합: 50\n",
            "수학점수 평균: 12.5\n"
          ]
        }
      ]
    },
    {
      "cell_type": "markdown",
      "metadata": {
        "id": "HaiPjaN4lgr0"
      },
      "source": [
        "만약 시험문제의 오류가 발견되어 모두 정답처리를 해 모든 학생의 점수를 1점씩 올려줘야 하는 상황에서는 어떻게 해야할까요?\n",
        "\n",
        "반복문이나 List comprehension같은 방법이 있습니다."
      ]
    },
    {
      "cell_type": "markdown",
      "metadata": {
        "id": "gwRCBixOvF4R"
      },
      "source": [
        "**반복문**"
      ]
    },
    {
      "cell_type": "code",
      "metadata": {
        "id": "DWLrwbYJvF4J",
        "colab": {
          "base_uri": "https://localhost:8080/"
        },
        "outputId": "077764f3-709a-49a6-8095-4d063e133683"
      },
      "source": [
        "MathScoreList2 = []\n",
        "for e in MathScoreList:\n",
        "  MathScoreList2.append(e+1)\n",
        "\n",
        "\n",
        "print(MathScoreList2)"
      ],
      "execution_count": null,
      "outputs": [
        {
          "output_type": "stream",
          "name": "stdout",
          "text": [
            "[12, 13, 14, 15]\n"
          ]
        }
      ]
    },
    {
      "cell_type": "markdown",
      "metadata": {
        "id": "JhKvljj4nxEh"
      },
      "source": [
        "**List Comprehension**"
      ]
    },
    {
      "cell_type": "code",
      "metadata": {
        "id": "5eViBzeRjmxp",
        "colab": {
          "base_uri": "https://localhost:8080/"
        },
        "outputId": "efda1429-c3c1-4459-d651-d3c4e56990bc"
      },
      "source": [
        "MathScoreList3 = [e +1 for e in MathScoreList]\n",
        "\n",
        "print(MathScoreList3)"
      ],
      "execution_count": null,
      "outputs": [
        {
          "output_type": "stream",
          "name": "stdout",
          "text": [
            "[12, 13, 14, 15]\n"
          ]
        }
      ]
    },
    {
      "cell_type": "markdown",
      "metadata": {
        "id": "fx6d-Cq8X9HP"
      },
      "source": [
        "## 파이썬 기본 자료형으로 구현한 다차원 배열"
      ]
    },
    {
      "cell_type": "markdown",
      "metadata": {
        "id": "z-7ZLOVbu798"
      },
      "source": [
        "#### Nested List (중첩 리스트)"
      ]
    },
    {
      "cell_type": "markdown",
      "metadata": {
        "id": "C-611O6VyZek"
      },
      "source": [
        "1반의 점수가 11, 12, 13\n",
        "\n",
        "2반의 점수가 21, 22, 23\n",
        "\n",
        "3반의 점수가 31, 32, 33점이라고 한다면,\n",
        "\n",
        "리스트 안에 리스트를 넣어 위 데이터를 아래처럼 나타낼 수 있습니다."
      ]
    },
    {
      "cell_type": "code",
      "metadata": {
        "id": "MZU0pOw4u48h",
        "colab": {
          "base_uri": "https://localhost:8080/"
        },
        "outputId": "4e080b66-f2bc-4c2e-db2c-f04972a919b6"
      },
      "source": [
        "MathScoreNestedList = [[11, 12, 13], [21, 22, 23], [31, 32, 33]]\n",
        "\n",
        "print(MathScoreNestedList)"
      ],
      "execution_count": null,
      "outputs": [
        {
          "output_type": "stream",
          "name": "stdout",
          "text": [
            "[[11, 12, 13], [21, 22, 23], [31, 32, 33]]\n"
          ]
        }
      ]
    },
    {
      "cell_type": "markdown",
      "metadata": {
        "id": "Lc76UfCXvO06"
      },
      "source": [
        "<p class=\"aligncenter\">\n",
        "    <img src=\"https://lh3.googleusercontent.com/pQw2wvQVpsV40t7Uk6O-iNMwVX0GUesvvA-snrEVl1lGWeRsrDjU-2YlkO0jlW7XFMmQNVQchD1XM4sbWVSPtTWjvSc50mY2iuFKNYc72N-rSvymejq4dCpuG4WeheZ2M4tqkJzO37xcujHDe4MJNc0URISUgTXt2452rMh2wDrCVKOa0Ywh85x3cqL9IRYJxjUm0yKmjtCTJhDSXZVEXvnc1RtQoLJzviQsSp6yDdHrA7UwZNBzgMQc3_ol7PUREYY3tLXTXs0_eA-XaJ_J0ONIk2xUnW4B_erXbjeA-UDXFg76BXSmq0CHmcmIewz__z7QI8W7XMS-p087h2mvgxHQFC9tOE2SKQl8oLHFKPm5QrViTs1vrH6sHSYfVoEnJ4XHtV4GPEU0gRco2aYF6x7lfM6I_FGDG0Xm1lncuZUxJ6ger9CF5KB0t881bJbnAvx3WdpPNPw23uG2CqqcadZ5phhvLhh7UDT_kmvq9p04w2E1OTRGxnpljA0qppfFIAAB9wcKdD7cJW48cYjoFTnxKxRaIJYATgquEQ7uzLXsmMu_JeWQpe7gjPlc0lTzguOYp5Rn0vLRxeYZhsN2rwO-g_9XBgZ5_smxUuVYLQeujJvJL41NwOkLtWHWe-r1B449P7Y2Y1uktbd0v5xDRPsde4MynOh3TJWUVw8S2bTP82giPHRryz3l3NRfMaxAJ-fgEggmJV7RNelOAnKYIXnNLA=w1124-h422-no\" alt=\"centered image\"  width=\"400\" height=\"200\">\n",
        "</p>\n",
        "\n",
        "> (source: https://cognitiveclass.ai/blog/nested-lists-multidimensional-numpy-arrays/)"
      ]
    },
    {
      "cell_type": "markdown",
      "metadata": {
        "id": "bJJJv6tHz0FA"
      },
      "source": [
        "각 원소에 1을 더하는 코드는 아래와 같습니다."
      ]
    },
    {
      "cell_type": "code",
      "metadata": {
        "id": "NuyFbrDWyzRH",
        "colab": {
          "base_uri": "https://localhost:8080/"
        },
        "outputId": "d1e221b1-1d29-4c62-f7f5-5e5c5912866b"
      },
      "source": [
        "MathScoreNestedList2 = []\n",
        "\n",
        "for list in MathScoreNestedList:\n",
        "  tempList = []\n",
        "\n",
        "  for e in list:\n",
        "    tempList.append(e+1)\n",
        "\n",
        "  MathScoreNestedList2.append(tempList)\n",
        "\n",
        "\n",
        "print(MathScoreNestedList2)"
      ],
      "execution_count": null,
      "outputs": [
        {
          "output_type": "stream",
          "name": "stdout",
          "text": [
            "[[12, 13, 14], [22, 23, 24], [32, 33, 34]]\n"
          ]
        }
      ]
    },
    {
      "cell_type": "markdown",
      "metadata": {
        "id": "Ggk9YaVCEeQk"
      },
      "source": [
        "#### 문제점\n",
        "\n",
        "1차원에서 2차원으로 데이터의 차원이 증가하니 반복문도 하나 더 사용해야 합니다.\n",
        "\n",
        "데이터의 차원이 증가할수록 코드는 복잡해질 수밖에 없습니다."
      ]
    },
    {
      "cell_type": "markdown",
      "metadata": {
        "id": "KyRVZiGsX8-d"
      },
      "source": [
        "## NumPy로 구현한 다차원 배열"
      ]
    },
    {
      "cell_type": "markdown",
      "metadata": {
        "id": "VAJJqz6Gx-LD"
      },
      "source": [
        "**NumPy**를 사용하면 다차원배열을 효율적으로 다룰 수 있습니다.\n",
        "\n",
        "`import numpy as np` 형태로 import하는게 일반적입니다."
      ]
    },
    {
      "cell_type": "code",
      "metadata": {
        "id": "oWA0-ULoyHe2",
        "colab": {
          "base_uri": "https://localhost:8080/"
        },
        "outputId": "55e40b1b-9dfa-4dde-95d3-83bbf863efd8"
      },
      "source": [
        "import numpy as np\n",
        "\n",
        "mathScoreNdarray = np.array(MathScoreNestedList)\n",
        "# mathScoreNdarray = np.array([[11, 12, 13], [21, 22, 23], [31, 32, 33]])\n",
        "\n",
        "print(mathScoreNdarray)"
      ],
      "execution_count": null,
      "outputs": [
        {
          "output_type": "stream",
          "name": "stdout",
          "text": [
            "[[11 12 13]\n",
            " [21 22 23]\n",
            " [31 32 33]]\n"
          ]
        }
      ]
    },
    {
      "cell_type": "code",
      "metadata": {
        "id": "eBOJNzZzci-R",
        "colab": {
          "base_uri": "https://localhost:8080/"
        },
        "outputId": "db64f909-05cb-401d-b7c7-26e8f5b19de7"
      },
      "source": [
        "mathScoreNdarray"
      ],
      "execution_count": null,
      "outputs": [
        {
          "output_type": "execute_result",
          "data": {
            "text/plain": [
              "array([[11, 12, 13],\n",
              "       [21, 22, 23],\n",
              "       [31, 32, 33]])"
            ]
          },
          "metadata": {},
          "execution_count": 24
        }
      ]
    },
    {
      "cell_type": "markdown",
      "metadata": {
        "id": "lgl_tzgkC7Zt"
      },
      "source": [
        "각 원소에 1을 더하려면"
      ]
    },
    {
      "cell_type": "code",
      "metadata": {
        "id": "d3fecKmbyjVJ",
        "colab": {
          "base_uri": "https://localhost:8080/"
        },
        "outputId": "04aacdc8-3ec7-40a3-f670-fbc2de0d6788"
      },
      "source": [
        "mathScoreNdarray + 1 # 이것이 바로 브로드캐스팅! 후반부에 다룰 예정입니다."
      ],
      "execution_count": null,
      "outputs": [
        {
          "output_type": "execute_result",
          "data": {
            "text/plain": [
              "array([[12, 13, 14],\n",
              "       [22, 23, 24],\n",
              "       [32, 33, 34]])"
            ]
          },
          "metadata": {},
          "execution_count": 25
        }
      ]
    },
    {
      "cell_type": "markdown",
      "metadata": {
        "id": "0tvgQrXOC-U9"
      },
      "source": [
        "NumPy에 구현된 메서드를 활용해 합이나 평균도 쉽게 구할 수 있습니다."
      ]
    },
    {
      "cell_type": "code",
      "metadata": {
        "id": "ZSoke9ZuGTO9",
        "colab": {
          "base_uri": "https://localhost:8080/"
        },
        "outputId": "e7ea5c9f-66dd-4e96-c2ad-d8063ca27416"
      },
      "source": [
        "# 전체 합 구하기\n",
        "np.sum(mathScoreNdarray)"
      ],
      "execution_count": null,
      "outputs": [
        {
          "output_type": "execute_result",
          "data": {
            "text/plain": [
              "198"
            ]
          },
          "metadata": {},
          "execution_count": 26
        }
      ]
    },
    {
      "cell_type": "code",
      "metadata": {
        "id": "io9nIHuLDAYn",
        "colab": {
          "base_uri": "https://localhost:8080/"
        },
        "outputId": "7a939059-4371-41e1-f581-1bebc8df131b"
      },
      "source": [
        "# 전체 평균 구하기\n",
        "np.mean(mathScoreNdarray)"
      ],
      "execution_count": null,
      "outputs": [
        {
          "output_type": "execute_result",
          "data": {
            "text/plain": [
              "22.0"
            ]
          },
          "metadata": {},
          "execution_count": 27
        }
      ]
    },
    {
      "cell_type": "code",
      "metadata": {
        "id": "rmXOPrigDJQN",
        "colab": {
          "base_uri": "https://localhost:8080/"
        },
        "outputId": "8310213c-22ff-490d-c1c0-4317f75b2fc0"
      },
      "source": [
        "# 열의 평균 구하기\n",
        "np.mean(mathScoreNdarray, axis=0)"
      ],
      "execution_count": null,
      "outputs": [
        {
          "output_type": "execute_result",
          "data": {
            "text/plain": [
              "array([21., 22., 23.])"
            ]
          },
          "metadata": {},
          "execution_count": 28
        }
      ]
    },
    {
      "cell_type": "code",
      "metadata": {
        "id": "oi3vpqc9DJEL",
        "colab": {
          "base_uri": "https://localhost:8080/"
        },
        "outputId": "703a7cb8-d0a2-4e59-dfcb-b7d40b5dd960"
      },
      "source": [
        "# 행의 평균 구하기\n",
        "np.mean(mathScoreNdarray, axis=1)"
      ],
      "execution_count": null,
      "outputs": [
        {
          "output_type": "execute_result",
          "data": {
            "text/plain": [
              "array([12., 22., 32.])"
            ]
          },
          "metadata": {},
          "execution_count": 29
        }
      ]
    },
    {
      "cell_type": "code",
      "source": [
        "# 산술평균\n",
        "np.mean(range(1,11))"
      ],
      "metadata": {
        "id": "vdVOXDFWtOMd"
      },
      "execution_count": null,
      "outputs": []
    },
    {
      "cell_type": "code",
      "source": [
        "# 가중평균\n",
        "np.average(range(1,11), weights=range(10,0,-1))   #10~0까지 -1씩 가중치를 줌 (1에서 가중치가 가장 큼)"
      ],
      "metadata": {
        "id": "uscsb3O6tT54"
      },
      "execution_count": null,
      "outputs": []
    },
    {
      "cell_type": "markdown",
      "metadata": {
        "id": "WO1oIiOgX83Z"
      },
      "source": [
        "## 파이썬 기본 자료형과 넘파이 비교"
      ]
    },
    {
      "cell_type": "markdown",
      "metadata": {
        "id": "ZsvICvfxa3vR"
      },
      "source": [
        "### Helper class"
      ]
    },
    {
      "cell_type": "markdown",
      "metadata": {
        "id": "JPq9Zh8Ekg9n"
      },
      "source": [
        "#### 정의\n",
        "\n"
      ]
    },
    {
      "cell_type": "code",
      "metadata": {
        "id": "cxDX7HUYZ3GC",
        "cellView": "code"
      },
      "source": [
        "# 이해하지 않아도 됩니다. NumPy 강의와 무관하며 시간을 측정하기 위한 클래스 입니다.\n",
        "import time\n",
        "class Timer(object):\n",
        "    def __init__(self, name=None):\n",
        "        self.name = name\n",
        "\n",
        "    def __enter__(self):\n",
        "        self.tstart = time.time()\n",
        "\n",
        "    def __exit__(self, type, value, traceback):\n",
        "        if self.name:\n",
        "            print('[%s]' % self.name)\n",
        "        print('Elapsed: %s' % (time.time() - self.tstart))\n"
      ],
      "execution_count": null,
      "outputs": []
    },
    {
      "cell_type": "markdown",
      "metadata": {
        "id": "bCgr99-nklgF"
      },
      "source": [
        "#### 사용법"
      ]
    },
    {
      "cell_type": "code",
      "metadata": {
        "id": "8gt-EEnbaKPh",
        "colab": {
          "base_uri": "https://localhost:8080/"
        },
        "outputId": "7ecea646-9058-4609-f8e5-aad712b6e2ae"
      },
      "source": [
        "with Timer('여기에 이름을 입력하세요'):\n",
        "   # 아래에 시간측정을 하고자 하는 코드를 입력하세요.\n",
        "  time.sleep(1)"
      ],
      "execution_count": null,
      "outputs": [
        {
          "output_type": "stream",
          "name": "stdout",
          "text": [
            "[여기에 이름을 입력하세요]\n",
            "Elapsed: 1.00130295753479\n"
          ]
        }
      ]
    },
    {
      "cell_type": "markdown",
      "metadata": {
        "id": "hF_Smb1tbYoU"
      },
      "source": [
        "### 비교"
      ]
    },
    {
      "cell_type": "code",
      "metadata": {
        "id": "gTrzJCePGKG2",
        "cellView": "both"
      },
      "source": [
        "# 크기가 100개 이내인 경우 NumPy는 순수 파이썬 구현 보다도 오히려 낮은 성능을 보이는 경향이 있습니다.\n",
        "\n",
        "# rows ,cols가 2일떄 아래 타이머코드를 실행해 보고 rows, cols를 1000으로 바꾼 뒤 다시 코드를 실행 해 보세요.\n",
        "# 차이를 볼 수 있습니다.\n",
        "rows = 500  # 행 # axis = 1\n",
        "cols = 500  # 열 # axis = 0\n",
        "sampleRand2Darray = np.random.rand(rows, cols)  # ndarry 선언\n",
        "sampleRand2Dlist = sampleRand2Darray.tolist()   # nested list 선언"
      ],
      "execution_count": null,
      "outputs": []
    },
    {
      "cell_type": "code",
      "metadata": {
        "id": "O0q9eIhjGn7f",
        "colab": {
          "base_uri": "https://localhost:8080/"
        },
        "outputId": "b780654d-fe1c-4aa6-db93-b28f20d8d1c8"
      },
      "source": [
        "# rows, cols가 1000넘어갈땐 실행 하지 마세요. (노트북 멈춥니다.)\n",
        "sampleRand2Darray  # numpy array"
      ],
      "execution_count": null,
      "outputs": [
        {
          "output_type": "execute_result",
          "data": {
            "text/plain": [
              "array([[0.33523019, 0.04861149],\n",
              "       [0.06234464, 0.57221328]])"
            ]
          },
          "metadata": {},
          "execution_count": 31
        }
      ]
    },
    {
      "cell_type": "code",
      "metadata": {
        "id": "34YB4XnRGnj2",
        "colab": {
          "base_uri": "https://localhost:8080/"
        },
        "outputId": "9e6245c2-7018-467c-e7f2-f299178b1db5"
      },
      "source": [
        "# rows, cols가 1000넘어갈땐 실행 하지 마세요. (노트북 멈춥니다.)\n",
        "sampleRand2Dlist  # nested list (파이썬 리스트의 중첩)"
      ],
      "execution_count": null,
      "outputs": [
        {
          "output_type": "execute_result",
          "data": {
            "text/plain": [
              "[[0.3352301882741151, 0.048611491478404156],\n",
              " [0.0623446369216164, 0.5722132802892029]]"
            ]
          },
          "metadata": {},
          "execution_count": 32
        }
      ]
    },
    {
      "cell_type": "code",
      "metadata": {
        "id": "JvAxm8IdFrx9",
        "colab": {
          "base_uri": "https://localhost:8080/"
        },
        "outputId": "27eb1451-7c2a-4970-83d1-e1136a687c8a"
      },
      "source": [
        "with Timer('파이썬 기본 자료형 사용 - 모든 원소의 합 구하기'):\n",
        "  sum = 0\n",
        "\n",
        "  for list in sampleRand2Dlist:\n",
        "    for e in list:\n",
        "      sum += e\n",
        "\n",
        "with Timer('파이썬 기본 자료형 사용 - 모든 원소에 1 더하기'):\n",
        "  sampleRand2Dlist2 = []\n",
        "\n",
        "  for list in sampleRand2Dlist:\n",
        "    tempList = []\n",
        "\n",
        "    for e in list:\n",
        "      tempList.append(e+1)\n",
        "\n",
        "    sampleRand2Dlist2.append(tempList)\n",
        "\n",
        "print(\"----------------------------------------------\")\n",
        "\n",
        "with Timer('NumPy사용 - 모든 원소의 합 구하기'):\n",
        "  sum = np.sum(sampleRand2Darray)\n",
        "\n",
        "with Timer('NumPy사용 - 모든 원소에 1 더하기'):\n",
        "  sampleRand2Darray2 = sampleRand2Darray + 1"
      ],
      "execution_count": null,
      "outputs": [
        {
          "output_type": "stream",
          "name": "stdout",
          "text": [
            "[파이썬 기본 자료형 사용 - 모든 원소의 합 구하기]\n",
            "Elapsed: 0.03088665008544922\n",
            "[파이썬 기본 자료형 사용 - 모든 원소에 1 더하기]\n",
            "Elapsed: 0.0394139289855957\n",
            "----------------------------------------------\n",
            "[NumPy사용 - 모든 원소의 합 구하기]\n",
            "Elapsed: 0.0010216236114501953\n",
            "[NumPy사용 - 모든 원소에 1 더하기]\n",
            "Elapsed: 0.0018672943115234375\n"
          ]
        }
      ]
    },
    {
      "cell_type": "markdown",
      "metadata": {
        "id": "C5afV1nFfowk"
      },
      "source": [
        "#### NumPy 장점\n",
        "\n",
        "- 코어 부분이 C로 구현되어 동일한 연산을 하더라도 Python에 비해 속도가 빠름\n",
        "- C언어는 컴퓨터 어셈블 언어와 일대일 대응, Python은 인터프리터 거쳐서 상대적으로 느림\n",
        "- 라이브러리에 구현되어있는 함수들을 활용해 짧고 간결한 코드 작성 가능\n",
        "- (효율적인 메모리 사용이 가능하도록 구현됨)"
      ]
    },
    {
      "cell_type": "markdown",
      "metadata": {
        "id": "UzwJlSsmPtTq"
      },
      "source": [
        "### (참고) ndarray가 list보다 빠른 이유"
      ]
    },
    {
      "cell_type": "markdown",
      "metadata": {
        "id": "gEqzxKWIMXSv"
      },
      "source": [
        "![alt text](https://lh3.googleusercontent.com/JD1ljKEm4S_4hvIu8XqTLUw75AjB6K-ElhXY6oMqBiPVEPIkNpHjlMLKsTbpWMIXOZ1X3Ompb-v3lI5FHqlyWWOFR0Pg3vLsio9_8OSgFoAywjGAC6oY85kCahlx-rJtSqW9M3szyXBVjrnlUYIo3opwX7ch7BYaV6sLReXAOwcJThS4f-E-PQWOzwSsCerL_-QEi_wcEV_4Aef_q0u9lrcjvZX-OwW-AcSILKPIB3yoZar4zTTOPHz-miQ4yq2gOktHY1wR4izuJ5SmIT2feKEdP6sD5So8I24vdt1mKKjro3fQenb9ExtH-zAxlJQarxaDnklts7801rG56sa6sE69ZJBp3ZzJ8qr59SM1xf2t9dU1WHcIvMWM5g39B85aIYHRCFmqfwaAx6Gl8x7To_33nyLpc8hA6gIbPQ46O6N_I3-s2G_t5E1dt9mEr0v9fgnco5ib53RP7myVnH6prsSOP4n0hzSvf_gBvKsYIJ2TJA-631XcIR5K7VgE6kycjbVGtTlfDn5fTbVbjgJyIR2xhjPFQ85rxpLnPD0NLE8LzGzjA7bo3CJiBjd0CUHbjbUbUINtLHm8H8lT9U7vZIEzLSIA4dvO3SujTC8R8F7dPBO5Bc91VTWF1mqUftGeWmIdJ61E-KlKb6lRYnRdNq55scpLa3sX2Y2v3tCFq4uHvUM2VO4gkyi_9WNZciyoq1gQD8e9_Ig3aUsWdU87JJMQNw=w638-h479-no)\n",
        "\n",
        "> (source: https://image.slidesharecdn.com/numpy20160519-160516164831/95/numpy-8-638.jpg)"
      ]
    },
    {
      "cell_type": "markdown",
      "metadata": {
        "id": "H-w7yLTNSuMM"
      },
      "source": [
        "**파이썬 list가 느린 이유**\n",
        "\n",
        "- 파이썬 리스트는 결국 포인터의 배열 (리스트의 주소가 저장되어 있어 주소에 할당된 데이터가 산재되어 있음)\n",
        "- 경우에 따라서 각각 객체가 메모리 여기저기 흩어져 있음\n",
        "- 그러므로 캐시 활용이 어려움\n",
        "- (구조상 느린 이유) : 데이터는 다른 곳에 있고, 데이터의 주소값을 받음\n",
        "- (언어상 느린 이유) : python언어 - 인터프리터방식을 거치기 때문\n",
        "\n",
        "\n",
        "\n",
        "**NumPy ndarray가 빠른 이유**\n",
        "\n",
        "- ndarray는 타입을 명시하여 원소의 배열로 데이터를 유지 (주소가 저장되어 있지 않고 원소의 값, 데이터가 적혀있음, 연속된 데이터 값)\n",
        "- 다차원 데이터도 연속된 메모리 공간이 할당됨\n",
        "- 많은 연산이 dimensions과 strides를 잘 활용하면 효율적으로 가능\n",
        "  - 가령 transpose는 strides를 바꾸는 것으로 거의 공짜\n",
        "- ndarray 구현 방식을 떠올리면 어떻게 성능을 낼 수 있는지 상상 가능\n",
        "- (구조상 빠른 이유) : 데이터를 그대로 받음\n",
        "- (언어상 빠른 이유) : 코어 부분이 C언어로 구현됨\n"
      ]
    },
    {
      "cell_type": "markdown",
      "metadata": {
        "id": "lZvri5rGa9ky"
      },
      "source": [
        "- 예) NumPy에서 Transpose 구현\n",
        "\n",
        "- Transpose : 대각선을 기준으로 데이터가 바뀜 (2,3의 위치가 바뀜)\n",
        "- x.Strides : (2,1)\n",
        "데이터를 읽을 때 1 읽고 다음 행에 들어갈 데이터는 2칸 건너뛴 3을 / 다음 열에 들어갈 데이터는 1칸 건너뛴 2를 읽어옴\n",
        "- y.Strides : (1,2)\n",
        "데이터를 읽을 때 1 읽고 다음 행에 들어갈 데이터는 1칸 뒤인 2를 / 다음 열에 들어갈 데이터는 2칸 건너뛴 3을 읽어옴\n"
      ]
    },
    {
      "cell_type": "markdown",
      "metadata": {
        "id": "tHcsagXmaore"
      },
      "source": [
        "![alt text](https://lh3.googleusercontent.com/-cTovEUtM3SZj9_Pd12Sf_hkJpwr9hvvlOTQVC80Q697w8bsSV7I4sAru5fHmgxU7FmxZtq9ZqgvOAqZg41oFjXaEwAtLMLVmN75BIk6HClFMfC6jecLYB6sKDWQUNcLDb2Pt5Vbi8jUVb6VLyWbZGvCVYobh1ev1aNvPoCrqBtR8uv1P8E99xSoaIvzp4dvVG14b_eLBGKuTnak0P305F8OgJgQq2M0Q8_unVPygZOo-vdA9fPx8z_LpOqB0ZIqIXEhf7NmsRWk0cuuUkgJlqJselVnHnTSIVCIohQaOLAU1U_Acufab3szF4BGP-D3DUUQaPcsN-HhxIkSEaFgxuylaRbEUOdYWeXwvuYe9tzNkIzndFtWaQ0MfeBbwlEscaIRVjxsICdCdT0xvX8vpgBegnNQUSo0kT2e3JjY3VLO8YQZ28W457BMyz_2NA_hKuwcGeFWotVoN0AlUTNNQSlpwQzitwSAsi_IlVfNDRYTTTFb-9dTjD9rdgQid3khyHmelE6k1VYayHnwJsJPiD_hcNGYpUChhC5WD-05Qg-R6vrOWXCvkB0tG4Q7fxMIh1_-fhOwEyEOsH91byk4afqJx559LeHldNiDVeU6I-rJRPtkG5mrBYPr0jD2uSIDvpX0ATVesWlunIKD7kvctEidPx8I7yhbKaI96L81K5cbGg49To2OpUaNZ3ttvZiztErvTbkLhruKXIj253HWAI2Jdg=w720-h405-no)"
      ]
    },
    {
      "cell_type": "code",
      "metadata": {
        "id": "bo2JDzn3X5LZ"
      },
      "source": [
        "x = np.array([[1,2],[3,4]], dtype=np.int8)\n",
        "\n",
        "y = x.T"
      ],
      "execution_count": null,
      "outputs": []
    },
    {
      "cell_type": "code",
      "metadata": {
        "id": "LZpAtMh_X-Xd",
        "colab": {
          "base_uri": "https://localhost:8080/"
        },
        "outputId": "3816ae4e-7fa7-46b3-a828-766303836347"
      },
      "source": [
        "x"
      ],
      "execution_count": null,
      "outputs": [
        {
          "output_type": "execute_result",
          "data": {
            "text/plain": [
              "array([[1, 2],\n",
              "       [3, 4]], dtype=int8)"
            ]
          },
          "metadata": {},
          "execution_count": 41
        }
      ]
    },
    {
      "cell_type": "code",
      "metadata": {
        "id": "5JU0K-K2X95g",
        "colab": {
          "base_uri": "https://localhost:8080/"
        },
        "outputId": "d5bb1e28-4530-46ba-da0f-08a526d224fc"
      },
      "source": [
        "y"
      ],
      "execution_count": null,
      "outputs": [
        {
          "output_type": "execute_result",
          "data": {
            "text/plain": [
              "array([[1, 3],\n",
              "       [2, 4]], dtype=int8)"
            ]
          },
          "metadata": {},
          "execution_count": 42
        }
      ]
    },
    {
      "cell_type": "code",
      "metadata": {
        "id": "46HZuKvGgCAE",
        "colab": {
          "base_uri": "https://localhost:8080/"
        },
        "outputId": "1f9f68c7-0301-4068-db8f-128e9854b0fe"
      },
      "source": [
        "print(x.strides)\n",
        "print(y.strides)"
      ],
      "execution_count": null,
      "outputs": [
        {
          "output_type": "stream",
          "name": "stdout",
          "text": [
            "(2, 1)\n",
            "(1, 2)\n"
          ]
        }
      ]
    },
    {
      "cell_type": "markdown",
      "metadata": {
        "id": "LdbiXqEKX8yr"
      },
      "source": [
        "# **2.다차원 배열 생성 1 (직접 입력)**"
      ]
    },
    {
      "cell_type": "markdown",
      "metadata": {
        "id": "YqF37G0_hJn1"
      },
      "source": [
        "nd.array\n",
        "다차원 배열\n",
        "n demension array\n",
        "\n",
        "명시적으로 값을 입력해 다차원 배열을 만드는 방법을 알아봅니다."
      ]
    },
    {
      "cell_type": "markdown",
      "metadata": {
        "id": "h7VbFRMGYTU3"
      },
      "source": [
        "## 다차원 배열의 자료형"
      ]
    },
    {
      "cell_type": "markdown",
      "metadata": {
        "id": "csIZ1CsL73Vj"
      },
      "source": [
        "![alt text](https://lh3.googleusercontent.com/ZhC-hkgaa_zQggBdbQ8J33aW8b6Ubbccwr4dLOiVlXAuJYgBiZzRR0jcrAe9C6h26h_3xfd1UbMt6vwIpLfDffABXNKDkUT6RUZre4-j7DtYt7CFsQ1b4RdNZwfCQoSkr_BWKACQQ42krqB0Jkri4CDHGMhKgALRRiJJaQCsR0frysFtltqxiX0ScqZleBxMkADkJr8FtFKh34ERS4w3lwIqddpWd9ctgu9bJsDA19yNEmLouiwapSV7NwAXgDko3fqxo_W4CY6NU_vXxx8xoyFtaXxdXRCs2yketYJ66IP8Rv_mADUSnXfcCfgHOPlU_PzkT-cLdnfLftHgitAPrDHOqiH7EpLmgg4bO_HWIhpDwfG7iu2upN_rw-sFl64aGj4XhhbPYfmDZpnIEyrvKE4DjycH6rITqxTbhMSWfkeeUBENLusqELkVnPRikaaxYiDVPRuedOp6hNXo7R4A-TghyLn-k61kV3Ruwc14ytOWhZ0BngaDXVo-KF_ZxJUr5GuaFOZbi4UKhXbvnObRZAb0QgKaCdvkYysxU31oryDHpx526hG6SW6b99CxOWbT0lBTy0RoynGz_WVV_ua_umNcmkBNMkt3u04uCUWk8a-BqMG_oVpyqNmqetASSOhCZNbisBzkEgmo4sDbdqsNlFcY3fa-Og8mB1UNmC2uWl5RefSArRAoKn6KxZpcr6qJdl8YWT98ncW6behEO1wLoNsdBg=w526-h413-no)\n",
        "\n",
        "(source: https://docs.scipy.org/doc/numpy/reference/arrays.scalars.html)"
      ]
    },
    {
      "cell_type": "markdown",
      "metadata": {
        "id": "klF_e3KW9Vpx"
      },
      "source": [
        "다차원 배열의 원소는 위와 같은 데이터 타입을 가질 수 있습니다.\n",
        "\n",
        "다차원 배열의 원소는 동일한 데이터 타입을 가져야 합니다."
      ]
    },
    {
      "cell_type": "markdown",
      "metadata": {
        "id": "T0lV8kuGYTkg"
      },
      "source": [
        "## 방법 1) 직접 원소를 입력해서 다차원 배열 생성하기"
      ]
    },
    {
      "cell_type": "markdown",
      "metadata": {
        "id": "8NpxbG2gDGnA"
      },
      "source": [
        "**np.array()**를 사용해 다차원 배열을 생성할 수 있습니다.\n",
        "- np.array(list)를 넣어 numpy의 다차원 배열을 생성할 수 있다."
      ]
    },
    {
      "cell_type": "code",
      "source": [
        "np.array([[1,2,3], [4,5,6]]) # 2차원 배열 생성 (nested list 형식)\n",
        "np.array([[1,2,3],[4,5,6]], [[1,2,3],[4,5,6]]) # 3차원 배열 생성"
      ],
      "metadata": {
        "id": "xGuFEbRmULaV"
      },
      "execution_count": null,
      "outputs": []
    },
    {
      "cell_type": "markdown",
      "metadata": {
        "id": "MWPPYiNFBuJa"
      },
      "source": [
        "### bool"
      ]
    },
    {
      "cell_type": "markdown",
      "metadata": {
        "id": "ppE0ijaUC6x5"
      },
      "source": [
        "boolean 데이터를 입력해서 다차원 배열을 생성해봅시다."
      ]
    },
    {
      "cell_type": "code",
      "metadata": {
        "id": "_a7cfM8aBiaf"
      },
      "source": [
        "import numpy as np\n",
        "\n",
        "boolArray = np.array([True, False, True, True, False])"
      ],
      "execution_count": null,
      "outputs": []
    },
    {
      "cell_type": "code",
      "metadata": {
        "id": "o8vfhrvL8o4l",
        "colab": {
          "base_uri": "https://localhost:8080/"
        },
        "outputId": "46bf5b0c-5aae-4560-aea7-803e2046b387"
      },
      "source": [
        "boolArray"
      ],
      "execution_count": null,
      "outputs": [
        {
          "output_type": "execute_result",
          "data": {
            "text/plain": [
              "array([ True, False,  True,  True, False])"
            ]
          },
          "metadata": {},
          "execution_count": 4
        }
      ]
    },
    {
      "cell_type": "code",
      "metadata": {
        "id": "cakQ3-2HBp54",
        "colab": {
          "base_uri": "https://localhost:8080/"
        },
        "outputId": "97c99ae9-f39b-4cdb-cb5a-944ef0165f10"
      },
      "source": [
        "boolArray.dtype"
      ],
      "execution_count": null,
      "outputs": [
        {
          "output_type": "execute_result",
          "data": {
            "text/plain": [
              "dtype('bool')"
            ]
          },
          "metadata": {},
          "execution_count": 5
        }
      ]
    },
    {
      "cell_type": "markdown",
      "metadata": {
        "id": "SPopJWaXBxOP"
      },
      "source": [
        "### number"
      ]
    },
    {
      "cell_type": "markdown",
      "metadata": {
        "id": "W1vU7-rxDqZi"
      },
      "source": [
        "number 데이터를 입력해서 다차원 배열을 생성해봅시다.\n",
        "\n",
        "정수형, 부호없는 정수형, 실수형, 복소수형이 있습니다."
      ]
    },
    {
      "cell_type": "markdown",
      "metadata": {
        "id": "VCNgKGDuCJSM"
      },
      "source": [
        "#### 정수형"
      ]
    },
    {
      "cell_type": "markdown",
      "metadata": {
        "id": "riYQenZzEUt_"
      },
      "source": [
        "정수형의 default data type은 'int64'입니다.\n",
        "\n",
        "<font color=\"red\">(진실: default data type은 운영체제에 따라 다릅니다.)</font>"
      ]
    },
    {
      "cell_type": "code",
      "metadata": {
        "id": "QPVhK1XvB6sH"
      },
      "source": [
        "intArray = np.array([[1, 2], [3, 4]])"
      ],
      "execution_count": null,
      "outputs": []
    },
    {
      "cell_type": "code",
      "metadata": {
        "id": "_0m-Jv15B_ha",
        "colab": {
          "base_uri": "https://localhost:8080/"
        },
        "outputId": "6fe66dd1-61f3-4cea-d287-6f3946e868bb"
      },
      "source": [
        "intArray"
      ],
      "execution_count": null,
      "outputs": [
        {
          "output_type": "execute_result",
          "data": {
            "text/plain": [
              "array([[1, 2],\n",
              "       [3, 4]])"
            ]
          },
          "metadata": {},
          "execution_count": 7
        }
      ]
    },
    {
      "cell_type": "code",
      "metadata": {
        "id": "XynD9eUOB_Zf",
        "colab": {
          "base_uri": "https://localhost:8080/"
        },
        "outputId": "f1a71a3f-2942-431e-c3ae-9134d8e69cfb"
      },
      "source": [
        "intArray.dtype"
      ],
      "execution_count": null,
      "outputs": [
        {
          "output_type": "execute_result",
          "data": {
            "text/plain": [
              "dtype('int64')"
            ]
          },
          "metadata": {},
          "execution_count": 8
        }
      ]
    },
    {
      "cell_type": "markdown",
      "metadata": {
        "id": "6ZENZr82D1jh"
      },
      "source": [
        "#### 부호없는 정수형"
      ]
    },
    {
      "cell_type": "markdown",
      "metadata": {
        "id": "9-eWQM6JEY48"
      },
      "source": [
        "부호없는 정수형의 default data type은 'uint64'입니다.\n",
        "uint = un signed int\n",
        "\n"
      ]
    },
    {
      "cell_type": "code",
      "metadata": {
        "id": "9xYaFEmMD39n"
      },
      "source": [
        "uintArray = np.array([[1, 2], [3, 4]], dtype='uint')\n",
        "uintArray = np.array([[1, 2], [3, 4]], dtype='uint64')"
      ],
      "execution_count": null,
      "outputs": []
    },
    {
      "cell_type": "code",
      "metadata": {
        "id": "COosTXN_EBiR",
        "colab": {
          "base_uri": "https://localhost:8080/"
        },
        "outputId": "93d87e46-be09-4a62-f02e-51c92b363ce6"
      },
      "source": [
        "uintArray"
      ],
      "execution_count": null,
      "outputs": [
        {
          "output_type": "execute_result",
          "data": {
            "text/plain": [
              "array([[1, 2],\n",
              "       [3, 4]], dtype=uint64)"
            ]
          },
          "metadata": {},
          "execution_count": 16
        }
      ]
    },
    {
      "cell_type": "code",
      "metadata": {
        "id": "_y00GptXEBOm",
        "colab": {
          "base_uri": "https://localhost:8080/"
        },
        "outputId": "4bdcb068-5fc1-4ab3-a271-4d81c7b2b502"
      },
      "source": [
        "uintArray.dtype"
      ],
      "execution_count": null,
      "outputs": [
        {
          "output_type": "execute_result",
          "data": {
            "text/plain": [
              "dtype('uint64')"
            ]
          },
          "metadata": {},
          "execution_count": 17
        }
      ]
    },
    {
      "cell_type": "markdown",
      "metadata": {
        "id": "9H0yDDqMB0fu"
      },
      "source": [
        "#### 실수형"
      ]
    },
    {
      "cell_type": "markdown",
      "metadata": {
        "id": "efVd88hfEjFr"
      },
      "source": [
        "실수형의 default data type은 'float64'입니다.\n",
        "- float 16으로 설정할 수 있고, 하나의 data가 차지하는 용량의 크기는 더 작지만, 표현할 수 있는 수의 범위도 더 작음"
      ]
    },
    {
      "cell_type": "code",
      "metadata": {
        "id": "ZlMmubOcCQbV"
      },
      "source": [
        "floatArray = np.array([[1.1, 2.2], [3.3, 4.4]])\n",
        "floatArray = np.array([[1.1, 2.2], [3.3, 4.4]], dtype='float64')"
      ],
      "execution_count": null,
      "outputs": []
    },
    {
      "cell_type": "code",
      "metadata": {
        "id": "9Yi94xAtCQYJ",
        "colab": {
          "base_uri": "https://localhost:8080/"
        },
        "outputId": "0bbad5fc-a38d-43dc-c421-0ab70339500c"
      },
      "source": [
        "floatArray"
      ],
      "execution_count": null,
      "outputs": [
        {
          "output_type": "execute_result",
          "data": {
            "text/plain": [
              "array([[1.1, 2.2],\n",
              "       [3.3, 4.4]])"
            ]
          },
          "metadata": {},
          "execution_count": 13
        }
      ]
    },
    {
      "cell_type": "code",
      "metadata": {
        "id": "IME-bubKCQTA",
        "colab": {
          "base_uri": "https://localhost:8080/"
        },
        "outputId": "a6f27f4a-96ba-47c6-c971-7d248879fbcd"
      },
      "source": [
        "floatArray.dtype"
      ],
      "execution_count": null,
      "outputs": [
        {
          "output_type": "execute_result",
          "data": {
            "text/plain": [
              "dtype('float64')"
            ]
          },
          "metadata": {},
          "execution_count": 14
        }
      ]
    },
    {
      "cell_type": "markdown",
      "metadata": {
        "id": "DWSVrft6IXv_"
      },
      "source": [
        "##### 형변환"
      ]
    },
    {
      "cell_type": "markdown",
      "metadata": {
        "id": "WLO7UIQGEras"
      },
      "source": [
        "데이터가 정수로 입력되더라도 data type을 실수형으로 명시한다면 실수형으로 자동 형변환이 일어납니다."
      ]
    },
    {
      "cell_type": "code",
      "metadata": {
        "id": "HIOBnBfECg_h"
      },
      "source": [
        "floatArray2 = np.array([[1, 2], [3, 4]], dtype='float64')"
      ],
      "execution_count": null,
      "outputs": []
    },
    {
      "cell_type": "code",
      "metadata": {
        "id": "TIs7n0qTCg8o",
        "colab": {
          "base_uri": "https://localhost:8080/"
        },
        "outputId": "956fee20-c97e-40d6-ce79-45470e0807eb"
      },
      "source": [
        "floatArray2"
      ],
      "execution_count": null,
      "outputs": [
        {
          "output_type": "execute_result",
          "data": {
            "text/plain": [
              "array([[1., 2.],\n",
              "       [3., 4.]])"
            ]
          },
          "metadata": {},
          "execution_count": 19
        }
      ]
    },
    {
      "cell_type": "code",
      "metadata": {
        "id": "5R-yc4IHCg4K",
        "colab": {
          "base_uri": "https://localhost:8080/"
        },
        "outputId": "210aa2a5-8d9e-4930-bf02-cbc572cbd791"
      },
      "source": [
        "floatArray2.dtype"
      ],
      "execution_count": null,
      "outputs": [
        {
          "output_type": "execute_result",
          "data": {
            "text/plain": [
              "dtype('float64')"
            ]
          },
          "metadata": {},
          "execution_count": 20
        }
      ]
    },
    {
      "cell_type": "markdown",
      "metadata": {
        "id": "ac-kL0GrIJXT"
      },
      "source": [
        "##### 더 나은 방법"
      ]
    },
    {
      "cell_type": "markdown",
      "metadata": {
        "id": "YOXJ-BHNI0WF"
      },
      "source": [
        "1.0, 2.0, 3.0, 4.0이라는 실수형 데이터를 가지는 다차원배열을 만들고 싶었다면, 아래 방법이 더 나은 코딩표준입니다.\n",
        "- 정수형 데이터를 넣은 후 float64로 읽어라는 방식보단, 실수형 데이터를 넣는 아래의 방식이 더 선호됨."
      ]
    },
    {
      "cell_type": "code",
      "metadata": {
        "id": "4TRVN90hH-Q0"
      },
      "source": [
        "floatArray3 = np.array([[1., 2.], [3., 4.]])"
      ],
      "execution_count": null,
      "outputs": []
    },
    {
      "cell_type": "code",
      "metadata": {
        "id": "t_EosM17IDgy",
        "colab": {
          "base_uri": "https://localhost:8080/"
        },
        "outputId": "49ec0a34-1587-4fd5-ade6-81a451d1aeae"
      },
      "source": [
        "floatArray3"
      ],
      "execution_count": null,
      "outputs": [
        {
          "output_type": "execute_result",
          "data": {
            "text/plain": [
              "array([[1., 2.],\n",
              "       [3., 4.]])"
            ]
          },
          "metadata": {},
          "execution_count": 22
        }
      ]
    },
    {
      "cell_type": "code",
      "metadata": {
        "id": "Sfln3jgRIDWI",
        "colab": {
          "base_uri": "https://localhost:8080/"
        },
        "outputId": "a1b6ffc8-f15e-401c-bd32-7eb455d8e1f8"
      },
      "source": [
        "floatArray3.dtype"
      ],
      "execution_count": null,
      "outputs": [
        {
          "output_type": "execute_result",
          "data": {
            "text/plain": [
              "dtype('float64')"
            ]
          },
          "metadata": {},
          "execution_count": 23
        }
      ]
    },
    {
      "cell_type": "markdown",
      "metadata": {
        "id": "dQT7fOIGG0Np"
      },
      "source": [
        "##### 참고"
      ]
    },
    {
      "cell_type": "markdown",
      "metadata": {
        "id": "GgSv92NxH0Lp"
      },
      "source": [
        "정수형에서 실수형으로의 형변환 과정은 데이터 손실이 일어나지 않아 문제될 부분이 없지만 실수형에서 정수형으로의 형변환 과정인 반대의 경우에는 문제가 발생할 수 있습니다."
      ]
    },
    {
      "cell_type": "code",
      "metadata": {
        "id": "OyI5R0pKHLjG"
      },
      "source": [
        "intArray2 = np.array([[1.1, 2.2], [3.3, 4.4]], dtype='int')"
      ],
      "execution_count": null,
      "outputs": []
    },
    {
      "cell_type": "code",
      "metadata": {
        "id": "0rqDle1lHSjP",
        "colab": {
          "base_uri": "https://localhost:8080/"
        },
        "outputId": "5004e3f6-f249-4636-ff93-2cfaf155013b"
      },
      "source": [
        "intArray2"
      ],
      "execution_count": null,
      "outputs": [
        {
          "output_type": "execute_result",
          "data": {
            "text/plain": [
              "array([[1, 2],\n",
              "       [3, 4]])"
            ]
          },
          "metadata": {},
          "execution_count": 25
        }
      ]
    },
    {
      "cell_type": "markdown",
      "metadata": {
        "id": "2w0QOfD3Igzv"
      },
      "source": [
        "실수가 정수로 형변환되며 데이터의 손실이 발생했습니다.\n",
        "<font color=\"red\">입력한 데이터와 다차원 배열내의 데이터가 다릅니다.</font>"
      ]
    },
    {
      "cell_type": "markdown",
      "metadata": {
        "id": "LbE2qHLjB0O9"
      },
      "source": [
        "#### (참고) 복소수형"
      ]
    },
    {
      "cell_type": "markdown",
      "metadata": {
        "id": "wkKPYQREGH40"
      },
      "source": [
        "복소수형의 default data type은 'complex128'입니다."
      ]
    },
    {
      "cell_type": "code",
      "metadata": {
        "id": "8YHs9hemF42o"
      },
      "source": [
        "complexArray = np.array([1+1j, 2+2j, 3+3j, 4+4j, 5+5j])"
      ],
      "execution_count": null,
      "outputs": []
    },
    {
      "cell_type": "code",
      "metadata": {
        "id": "JhWPA4DI53Eq",
        "colab": {
          "base_uri": "https://localhost:8080/"
        },
        "outputId": "906bbf58-2d9e-4c35-d48f-0ec8515ac943"
      },
      "source": [
        "complexArray"
      ],
      "execution_count": null,
      "outputs": [
        {
          "output_type": "execute_result",
          "data": {
            "text/plain": [
              "array([1.+1.j, 2.+2.j, 3.+3.j, 4.+4.j, 5.+5.j])"
            ]
          },
          "metadata": {},
          "execution_count": 27
        }
      ]
    },
    {
      "cell_type": "code",
      "metadata": {
        "id": "OfF1aCfQGCw3",
        "colab": {
          "base_uri": "https://localhost:8080/"
        },
        "outputId": "8ed3fdbe-4a23-4c0e-b6ad-44490fbd6cbd"
      },
      "source": [
        "complexArray.dtype"
      ],
      "execution_count": null,
      "outputs": [
        {
          "output_type": "execute_result",
          "data": {
            "text/plain": [
              "dtype('complex128')"
            ]
          },
          "metadata": {},
          "execution_count": 28
        }
      ]
    },
    {
      "cell_type": "markdown",
      "metadata": {
        "id": "-FJY7VRbYTuR"
      },
      "source": [
        "## 방법 2) 파일에서 데이터를 입력 받아 다차원 배열 생성하기\n"
      ]
    },
    {
      "cell_type": "markdown",
      "metadata": {
        "id": "3HdL2XcfTbAO"
      },
      "source": [
        "np.genfromtxt()을 이용하여 파일에 저장된 데이터를 입력받아 다차원 배열을 생성할 수 있습니다.\n",
        "\n",
        "하지만 사용할 일은 많지 않습니다. 그 이유는,\n",
        "\n",
        "- NumPy ndarray는 동일한 데이터타입만을 가질 수 있습니다.\n",
        "- 대부분 데이터 파일에는 하나의 데이터 타입만 있는게 아니라 정수, 실수, 문자열이 섞여 있습니다.\n",
        "\n",
        "파일에서 데이터를 읽어올땐 NumPy의 genfromtxt()보단 **Pandas의 read_csv()나 read_excel()**을 주로 사용합니다."
      ]
    },
    {
      "cell_type": "markdown",
      "metadata": {
        "id": "87ZULGqjNVo9"
      },
      "source": [
        "### 예시"
      ]
    },
    {
      "cell_type": "code",
      "metadata": {
        "id": "s3dNZLWiMfMj"
      },
      "source": [
        "# 파일 다운로드 받기\n",
        "!wget -O 'mnist_train_super_small.csv' https://docs.google.com/spreadsheets/d/1lUBHgDlG5EVoZxfSF84X5jbcyynjnWSK8_weiQApt2M/export?format=csv"
      ],
      "execution_count": null,
      "outputs": []
    },
    {
      "cell_type": "code",
      "metadata": {
        "id": "tyGFs4eANb5f"
      },
      "source": [
        "import numpy as np\n",
        "fromCSVArray = np.genfromtxt('mnist_train_super_small.csv', delimiter=',')"
      ],
      "execution_count": null,
      "outputs": []
    },
    {
      "cell_type": "code",
      "metadata": {
        "id": "jJV40k7tNbyA"
      },
      "source": [
        "fromCSVArray"
      ],
      "execution_count": null,
      "outputs": []
    },
    {
      "cell_type": "markdown",
      "metadata": {
        "id": "D6Oz2Ld0NQPW"
      },
      "source": [
        "### 구글 드라이브에서 파일 가져오기"
      ]
    },
    {
      "cell_type": "code",
      "metadata": {
        "id": "HXF0Vl0pKNar"
      },
      "source": [
        "# 구글드라이브의 파일을 가져오고 싶은 경우\n",
        "\n",
        "# 구글드라이브 마운트\n",
        "from google.colab import drive\n",
        "drive.mount('/content/drive')"
      ],
      "execution_count": null,
      "outputs": []
    },
    {
      "cell_type": "code",
      "metadata": {
        "id": "c5AgQYcnKjkM"
      },
      "source": [
        "# 구글드라이브내에 있는 파일 경로 지정\n",
        "fromCSVArray = np.genfromtxt('/content/drive/My Drive/talk-on-seminar-numpy/resources/mnist_train_super_small.csv', delimiter=',')\n",
        "# np.genfromtxt는 확장자 상관없이 binary로 읽어옴 (csv, txt 모두 가능)\n",
        "# csv = comma seperated, ,로 구분된 데이터를 읽어옴"
      ],
      "execution_count": null,
      "outputs": []
    },
    {
      "cell_type": "code",
      "metadata": {
        "id": "BqJXtoaAvISo"
      },
      "source": [
        "fromCSVArray"
      ],
      "execution_count": null,
      "outputs": []
    },
    {
      "cell_type": "markdown",
      "metadata": {
        "id": "K6FWAdVaYT1a"
      },
      "source": [
        "# **3. 다차원 배열 생성 2 (함수)**"
      ]
    },
    {
      "cell_type": "markdown",
      "metadata": {
        "id": "-nIkZ9IS9AAI"
      },
      "source": [
        "NumPy에 구현되어있는 함수를 활용해 다차원 배열을 만드는 방법을 알아봅니다.\n",
        "\n",
        "https://docs.scipy.org/doc/numpy/reference/routines.array-creation.html"
      ]
    },
    {
      "cell_type": "markdown",
      "metadata": {
        "id": "vOPgfIGmYT89"
      },
      "source": [
        "## numpy.empty"
      ]
    },
    {
      "cell_type": "markdown",
      "metadata": {
        "id": "cXi-LLekg6pC"
      },
      "source": [
        "Return a new array of given shape and type, without initializing entries.\n",
        "- 아무 값이 나옴 : 초기화 하지 않았기 때문\n",
        "- (2,3) 2행 3열 데이터"
      ]
    },
    {
      "cell_type": "code",
      "metadata": {
        "id": "FfORCLsWgd39",
        "colab": {
          "base_uri": "https://localhost:8080/"
        },
        "outputId": "a164eded-61a2-4c0e-bc3b-f07b9e4923bd"
      },
      "source": [
        "np.empty((4,3))"
      ],
      "execution_count": null,
      "outputs": [
        {
          "output_type": "execute_result",
          "data": {
            "text/plain": [
              "array([[5.04414716e-310, 0.00000000e+000, 0.00000000e+000],\n",
              "       [0.00000000e+000, 0.00000000e+000, 0.00000000e+000],\n",
              "       [0.00000000e+000, 0.00000000e+000, 0.00000000e+000],\n",
              "       [0.00000000e+000, 0.00000000e+000, 0.00000000e+000]])"
            ]
          },
          "metadata": {},
          "execution_count": 29
        }
      ]
    },
    {
      "cell_type": "code",
      "metadata": {
        "id": "_ZeJainFhFeO"
      },
      "source": [
        "A = np.array([[1, 2, 3], [4, 5, 6], [7, 8, 9]])"
      ],
      "execution_count": null,
      "outputs": []
    },
    {
      "cell_type": "code",
      "metadata": {
        "id": "ZM3ofgHfd8ie",
        "colab": {
          "base_uri": "https://localhost:8080/"
        },
        "outputId": "1393e54d-2801-40c3-d34d-c07411053370"
      },
      "source": [
        "A"
      ],
      "execution_count": null,
      "outputs": [
        {
          "output_type": "execute_result",
          "data": {
            "text/plain": [
              "array([[1, 2, 3],\n",
              "       [4, 5, 6],\n",
              "       [7, 8, 9]])"
            ]
          },
          "metadata": {},
          "execution_count": 31
        }
      ]
    },
    {
      "cell_type": "code",
      "metadata": {
        "id": "pv64IqQMhUdi",
        "colab": {
          "base_uri": "https://localhost:8080/"
        },
        "outputId": "f146a4b2-3b91-4a64-acdc-448b50e3535f"
      },
      "source": [
        "np.empty_like(A)  # 형태를 유지한 상태로, 초기화하지 않은 상태로 random한 수를 대입"
      ],
      "execution_count": null,
      "outputs": [
        {
          "output_type": "execute_result",
          "data": {
            "text/plain": [
              "array([[102094675340523,               0,               0],\n",
              "       [              0,               0,               0],\n",
              "       [              0,               0,               0]])"
            ]
          },
          "metadata": {},
          "execution_count": 32
        }
      ]
    },
    {
      "cell_type": "markdown",
      "metadata": {
        "id": "3SQd-8BcYT6O"
      },
      "source": [
        "## numpy.zeros"
      ]
    },
    {
      "cell_type": "markdown",
      "metadata": {
        "id": "PKH0lUxriSA6"
      },
      "source": [
        "Return a new array of given shape and type, filled with zeros.\n",
        "- 초기화를 0.0(실수)로 함"
      ]
    },
    {
      "cell_type": "code",
      "metadata": {
        "id": "gJEqvi2tiScc",
        "colab": {
          "base_uri": "https://localhost:8080/"
        },
        "outputId": "9354aa74-116f-4825-8d35-1914fb9b86be"
      },
      "source": [
        "np.zeros((2, 3))"
      ],
      "execution_count": null,
      "outputs": [
        {
          "output_type": "execute_result",
          "data": {
            "text/plain": [
              "array([[0., 0., 0.],\n",
              "       [0., 0., 0.]])"
            ]
          },
          "metadata": {},
          "execution_count": 33
        }
      ]
    },
    {
      "cell_type": "code",
      "metadata": {
        "id": "aBAZ2cC9ieG9",
        "colab": {
          "base_uri": "https://localhost:8080/"
        },
        "outputId": "443058f1-e5e3-4bc6-847c-2b909049ed96"
      },
      "source": [
        "np.zeros((2, 3), dtype=int) #data type을 정수형으로 명시할 경우"
      ],
      "execution_count": null,
      "outputs": [
        {
          "output_type": "execute_result",
          "data": {
            "text/plain": [
              "array([[0, 0, 0],\n",
              "       [0, 0, 0]])"
            ]
          },
          "metadata": {},
          "execution_count": 36
        }
      ]
    },
    {
      "cell_type": "code",
      "metadata": {
        "id": "bxdxGvAshgGS",
        "colab": {
          "base_uri": "https://localhost:8080/"
        },
        "outputId": "b8233018-6025-49c5-9c23-ba77d2cc1561"
      },
      "source": [
        "np.zeros_like(A)"
      ],
      "execution_count": null,
      "outputs": [
        {
          "output_type": "execute_result",
          "data": {
            "text/plain": [
              "array([[0, 0, 0],\n",
              "       [0, 0, 0],\n",
              "       [0, 0, 0]])"
            ]
          },
          "metadata": {},
          "execution_count": 35
        }
      ]
    },
    {
      "cell_type": "markdown",
      "metadata": {
        "id": "2f6I3TUUYT--"
      },
      "source": [
        "## numpy.ones"
      ]
    },
    {
      "cell_type": "markdown",
      "metadata": {
        "id": "2TtCx78Gf_Gu"
      },
      "source": [
        "Return a new array of given shape and type, filled with ones."
      ]
    },
    {
      "cell_type": "code",
      "metadata": {
        "id": "51_LeiXcfpzR",
        "colab": {
          "base_uri": "https://localhost:8080/"
        },
        "outputId": "6f55a4f1-d487-4584-93cf-9e2e6cfcbb2c"
      },
      "source": [
        "np.ones((2,3))"
      ],
      "execution_count": null,
      "outputs": [
        {
          "output_type": "execute_result",
          "data": {
            "text/plain": [
              "array([[1., 1., 1.],\n",
              "       [1., 1., 1.]])"
            ]
          },
          "metadata": {},
          "execution_count": 37
        }
      ]
    },
    {
      "cell_type": "code",
      "metadata": {
        "id": "4OqSJJs7hwbQ",
        "colab": {
          "base_uri": "https://localhost:8080/"
        },
        "outputId": "5c2e215f-b89c-4879-9c4a-6ff6c4393862"
      },
      "source": [
        "np.ones((2,3), dtype=int)"
      ],
      "execution_count": null,
      "outputs": [
        {
          "output_type": "execute_result",
          "data": {
            "text/plain": [
              "array([[1, 1, 1],\n",
              "       [1, 1, 1]])"
            ]
          },
          "metadata": {},
          "execution_count": 38
        }
      ]
    },
    {
      "cell_type": "code",
      "metadata": {
        "id": "FFIxgrN9hzSn",
        "colab": {
          "base_uri": "https://localhost:8080/"
        },
        "outputId": "7326fe44-5704-430a-e13d-15f73ae97bc2"
      },
      "source": [
        "np.ones_like(A)"
      ],
      "execution_count": null,
      "outputs": [
        {
          "output_type": "execute_result",
          "data": {
            "text/plain": [
              "array([[1, 1, 1],\n",
              "       [1, 1, 1],\n",
              "       [1, 1, 1]])"
            ]
          },
          "metadata": {},
          "execution_count": 39
        }
      ]
    },
    {
      "cell_type": "markdown",
      "metadata": {
        "id": "iYHi8SL9jHdR"
      },
      "source": [
        "## numpy.identity"
      ]
    },
    {
      "cell_type": "markdown",
      "metadata": {
        "id": "wppdmiYnjLVS"
      },
      "source": [
        "Return the identity array.\n",
        "- 단위행렬\n",
        "- nd.array : 다차원 배열 vs matrix : 다차원 배열이 2차원일 때"
      ]
    },
    {
      "cell_type": "code",
      "metadata": {
        "id": "gk5ptfwOjMoM",
        "colab": {
          "base_uri": "https://localhost:8080/"
        },
        "outputId": "f4db5189-987c-42dc-9aef-d2d1a10515bd"
      },
      "source": [
        "np.identity(2)"
      ],
      "execution_count": null,
      "outputs": [
        {
          "output_type": "execute_result",
          "data": {
            "text/plain": [
              "array([[1., 0.],\n",
              "       [0., 1.]])"
            ]
          },
          "metadata": {},
          "execution_count": 40
        }
      ]
    },
    {
      "cell_type": "code",
      "metadata": {
        "id": "ufzLDxObjMbQ",
        "colab": {
          "base_uri": "https://localhost:8080/"
        },
        "outputId": "44c0377a-58c8-462a-92e0-a7ae99ac59aa"
      },
      "source": [
        "np.identity(3, dtype=int)"
      ],
      "execution_count": null,
      "outputs": [
        {
          "output_type": "execute_result",
          "data": {
            "text/plain": [
              "array([[1, 0, 0],\n",
              "       [0, 1, 0],\n",
              "       [0, 0, 1]])"
            ]
          },
          "metadata": {},
          "execution_count": 41
        }
      ]
    },
    {
      "cell_type": "markdown",
      "metadata": {
        "id": "EphARzOujW1z"
      },
      "source": [
        "## 참고"
      ]
    },
    {
      "cell_type": "markdown",
      "metadata": {
        "id": "i-hkaJr0iG1v"
      },
      "source": [
        "### numpy.eye"
      ]
    },
    {
      "cell_type": "markdown",
      "metadata": {
        "id": "AqDYqxoIiU1x"
      },
      "source": [
        "Return a 2-D array with ones on the diagonal and zeros elsewhere.\n",
        "- np.identity는 정사각형 단위행렬만 형성 가능\n",
        "- np.eye는 직사각형 단위행렬도 가능함"
      ]
    },
    {
      "cell_type": "code",
      "metadata": {
        "id": "OMBY4vpth2fA",
        "colab": {
          "base_uri": "https://localhost:8080/"
        },
        "outputId": "9fea6246-aeae-4be4-d1f8-528bd937ee5a"
      },
      "source": [
        "np.eye(3)"
      ],
      "execution_count": null,
      "outputs": [
        {
          "output_type": "execute_result",
          "data": {
            "text/plain": [
              "array([[1., 0., 0.],\n",
              "       [0., 1., 0.],\n",
              "       [0., 0., 1.]])"
            ]
          },
          "metadata": {},
          "execution_count": 42
        }
      ]
    },
    {
      "cell_type": "code",
      "metadata": {
        "id": "RvJUTBkyh2Nr",
        "colab": {
          "base_uri": "https://localhost:8080/"
        },
        "outputId": "974fe2dc-048a-4481-d9d3-b6cc900c4bd8"
      },
      "source": [
        "np.eye(3, 4)"
      ],
      "execution_count": null,
      "outputs": [
        {
          "output_type": "execute_result",
          "data": {
            "text/plain": [
              "array([[1., 0., 0., 0.],\n",
              "       [0., 1., 0., 0.],\n",
              "       [0., 0., 1., 0.]])"
            ]
          },
          "metadata": {},
          "execution_count": 43
        }
      ]
    },
    {
      "cell_type": "code",
      "metadata": {
        "id": "yoB2BTKOiyvB",
        "colab": {
          "base_uri": "https://localhost:8080/"
        },
        "outputId": "218850a7-bbbc-45fe-a910-59de844ecb4b"
      },
      "source": [
        "np.eye(3, 4, 1) # 대각선이 1칸씩 오른쪽 이동"
      ],
      "execution_count": null,
      "outputs": [
        {
          "output_type": "execute_result",
          "data": {
            "text/plain": [
              "array([[0., 1., 0., 0.],\n",
              "       [0., 0., 1., 0.],\n",
              "       [0., 0., 0., 1.]])"
            ]
          },
          "metadata": {},
          "execution_count": 44
        }
      ]
    },
    {
      "cell_type": "code",
      "metadata": {
        "id": "Q5wD8DWRjuDs",
        "colab": {
          "base_uri": "https://localhost:8080/"
        },
        "outputId": "3e2fbfb6-2eaa-4115-f998-90c768e70dd6"
      },
      "source": [
        "np.eye(3, 4, -1) # 대각선이 1칸씩 왼쪽으로 이동"
      ],
      "execution_count": null,
      "outputs": [
        {
          "output_type": "execute_result",
          "data": {
            "text/plain": [
              "array([[0., 0., 0., 0.],\n",
              "       [1., 0., 0., 0.],\n",
              "       [0., 1., 0., 0.]])"
            ]
          },
          "metadata": {},
          "execution_count": 45
        }
      ]
    },
    {
      "cell_type": "markdown",
      "metadata": {
        "id": "o2-dCEXxkAsq"
      },
      "source": [
        "### numpy.full"
      ]
    },
    {
      "cell_type": "markdown",
      "metadata": {
        "id": "HlqXmw0rkHNn"
      },
      "source": [
        "numpy.full(shape, fill_value, dtype=None, order='C')\n",
        "\n",
        "Return a new array of given shape and type, filled with fill_value.\n",
        "- np.full((shape parameter), 채워질 수)"
      ]
    },
    {
      "cell_type": "code",
      "metadata": {
        "id": "geBFyWUEkG25",
        "colab": {
          "base_uri": "https://localhost:8080/"
        },
        "outputId": "26e90eaa-71c8-4bdf-b4bb-17d6c4a5246c"
      },
      "source": [
        "np.full((2, 3), 10)"
      ],
      "execution_count": null,
      "outputs": [
        {
          "output_type": "execute_result",
          "data": {
            "text/plain": [
              "array([[10, 10, 10],\n",
              "       [10, 10, 10]])"
            ]
          },
          "metadata": {},
          "execution_count": 46
        }
      ]
    },
    {
      "cell_type": "markdown",
      "metadata": {
        "id": "CnCSOJICkVjv"
      },
      "source": [
        "위 보다는 아래 방식을 선호합니다."
      ]
    },
    {
      "cell_type": "code",
      "metadata": {
        "id": "B3n5nkYgkPT3",
        "colab": {
          "base_uri": "https://localhost:8080/"
        },
        "outputId": "81490111-68d0-4e4b-83ad-003694b3f8d7"
      },
      "source": [
        "10 * np.ones((2,3), dtype=int)"
      ],
      "execution_count": null,
      "outputs": [
        {
          "output_type": "execute_result",
          "data": {
            "text/plain": [
              "array([[10, 10, 10],\n",
              "       [10, 10, 10]])"
            ]
          },
          "metadata": {},
          "execution_count": 47
        }
      ]
    },
    {
      "cell_type": "markdown",
      "metadata": {
        "id": "AdnkzqaLfk7O"
      },
      "source": [
        "### numpy.arange"
      ]
    },
    {
      "cell_type": "markdown",
      "metadata": {
        "id": "xgmdzhZPhOZs"
      },
      "source": [
        "Return evenly spaced values within a given interval."
      ]
    },
    {
      "cell_type": "code",
      "metadata": {
        "id": "5Sr383Cmfkd7",
        "colab": {
          "base_uri": "https://localhost:8080/"
        },
        "outputId": "e6c0eaf8-4eb0-420b-a2b8-7df148c575df"
      },
      "source": [
        "# default value\n",
        "# start = 0\n",
        "# step = 1\n",
        "np.arange(10)"
      ],
      "execution_count": null,
      "outputs": [
        {
          "output_type": "execute_result",
          "data": {
            "text/plain": [
              "array([0, 1, 2, 3, 4, 5, 6, 7, 8, 9])"
            ]
          },
          "metadata": {},
          "execution_count": 48
        }
      ]
    },
    {
      "cell_type": "code",
      "metadata": {
        "id": "n0rm-lH7gSmd",
        "colab": {
          "base_uri": "https://localhost:8080/"
        },
        "outputId": "147fa666-3a5e-4bf9-d2c6-beb9fd32ceef"
      },
      "source": [
        "np.arange(start=1.0, stop=5.0, step=0.5)"
      ],
      "execution_count": null,
      "outputs": [
        {
          "output_type": "execute_result",
          "data": {
            "text/plain": [
              "array([1. , 1.5, 2. , 2.5, 3. , 3.5, 4. , 4.5])"
            ]
          },
          "metadata": {},
          "execution_count": 49
        }
      ]
    },
    {
      "cell_type": "markdown",
      "metadata": {
        "id": "vj0WRG9-hbd4"
      },
      "source": [
        "### numpy.linspace"
      ]
    },
    {
      "cell_type": "markdown",
      "metadata": {
        "id": "azYRu3ophbRq"
      },
      "source": [
        "Return evenly spaced numbers over a specified interval."
      ]
    },
    {
      "cell_type": "code",
      "metadata": {
        "id": "AfShQksbhku-",
        "colab": {
          "base_uri": "https://localhost:8080/"
        },
        "outputId": "38a19842-503c-4ebf-e172-f6e4ad707679"
      },
      "source": [
        "np.linspace(2.0, 3.0, num=5)"
      ],
      "execution_count": null,
      "outputs": [
        {
          "output_type": "execute_result",
          "data": {
            "text/plain": [
              "array([2.  , 2.25, 2.5 , 2.75, 3.  ])"
            ]
          },
          "metadata": {},
          "execution_count": 50
        }
      ]
    },
    {
      "cell_type": "markdown",
      "metadata": {
        "id": "8umKaPA-YT4J"
      },
      "source": [
        "# **4.다차원 배열 다루기 1 (method로 통계값 구하기)**"
      ]
    },
    {
      "cell_type": "markdown",
      "metadata": {
        "id": "YJamUKL9nK3T"
      },
      "source": [
        "통계값을 구하는 함수에 대해 알아봅니다.\n",
        "- axis=0은 행을 따라 이동함\n",
        "- axis=1은 열을 따라 이동함\n",
        "\n",
        "<font color=\"red\">이제 반복문은 사용하지 않습니다.</font>\n",
        "\n",
        "https://docs.scipy.org/doc/numpy/reference/routines.statistics.html"
      ]
    },
    {
      "cell_type": "markdown",
      "metadata": {
        "id": "k_Ha7m_6oaVw"
      },
      "source": [
        "![alt text](https://lh3.googleusercontent.com/zXC7mbgObMUkQoUnkfMvog5wU8Qh2bvLEwINZo7eilDpq_aun8c3D_qCvaCZhQQLnC-iz7XxFP3iWylf3RZWNsKUaw2MFU0c4Oiu3cbZIPM4AsgSSUVYlDzZKVgG-ldbaEt2vty-cqaHNqrIYNPjsN6n8gT5XbJPqEk5GJjjTfL61t5ugfaDtHjbskwoZm45x8xbWJgkilc8fZ70hWGr8tpskk_5P4G3dI9zy0-ZNTDF9R2nGknAjcmCT3cP5nKhL0YM8mhhbWxS7jTotR1A-hKBPRXbu-5tFa1W54F8k4Do17Wvhz_JNaj0EX-5z0BT8ryE6XPvsJd4vlQAAzwYKdy9oIL7KYzTiIy3vi7MicCg7opIc87ueczPBpZUv2vczrUzzOT-6Yczc9Ay2UPvzyS6SmB2QJI2gGXXvdRFZAElecn83X98psuIHAGx7xii7OplLOQLNaDN3o0tCt4v0e2mgnP8zU87MfUGMCgs-zJwCZYeJz-2rt1EHGGk0IuiiDJQ-R_X91KUE1Z76VOHOjBt_saj-UJ40dTB2w_ITArQa1dH2GhPZCz7wC4_UmwYlr1BHUiohA1ByDBHRB2cA8sBF5MU3s7F1KKWPQUcBQqf2NhQgUJTYWnvWUrgqdmvEKRVRiXwqlJiwGVc1_nCFUAOtzXqLtJAvT0mlKso-GUEPy6NPFjR-Yvv4ci_QFfhtUh87MyVYTEphY7xcNwTaswPqw=w652-h341-no)"
      ]
    },
    {
      "cell_type": "markdown",
      "metadata": {
        "id": "WeQkeSp9YTxA"
      },
      "source": [
        "## numpy.amin"
      ]
    },
    {
      "cell_type": "markdown",
      "metadata": {
        "id": "tr0WYF7Co1ho"
      },
      "source": [
        "Return the minimum of an array or minimum along an axis."
      ]
    },
    {
      "cell_type": "code",
      "metadata": {
        "id": "_-Ptumyjo0dT",
        "colab": {
          "base_uri": "https://localhost:8080/"
        },
        "outputId": "c98e584c-4459-4c42-bb59-8cd87dbf2f80"
      },
      "source": [
        "A"
      ],
      "execution_count": null,
      "outputs": [
        {
          "output_type": "execute_result",
          "data": {
            "text/plain": [
              "array([[1, 2, 3],\n",
              "       [4, 5, 6],\n",
              "       [7, 8, 9]])"
            ]
          },
          "metadata": {},
          "execution_count": 51
        }
      ]
    },
    {
      "cell_type": "code",
      "metadata": {
        "id": "et4d4RNIocCs",
        "colab": {
          "base_uri": "https://localhost:8080/"
        },
        "outputId": "913eab38-db87-4aa4-8d8a-da12b35dfd76"
      },
      "source": [
        "np.amin(A, 0) # 각 열에서 1행~3행 중 가장 작은 값 출력 # axis=0은 행방향으로 이동 방향\n",
        "np.amin(A, axis=0)"
      ],
      "execution_count": null,
      "outputs": [
        {
          "output_type": "execute_result",
          "data": {
            "text/plain": [
              "array([1, 2, 3])"
            ]
          },
          "metadata": {},
          "execution_count": 53
        }
      ]
    },
    {
      "cell_type": "code",
      "metadata": {
        "id": "0jLWkPjdoyrB",
        "colab": {
          "base_uri": "https://localhost:8080/"
        },
        "outputId": "bd6a6a06-b0eb-45c4-f28c-3a1c2f38326b"
      },
      "source": [
        "np.amin(A, 1) # 각 행에서 1~3열 중 가장 작은 값 출력 # axis =1은 열방향으로 이동 방향\n",
        "np.amin(A, axis=1)"
      ],
      "execution_count": null,
      "outputs": [
        {
          "output_type": "execute_result",
          "data": {
            "text/plain": [
              "array([1, 4, 7])"
            ]
          },
          "metadata": {},
          "execution_count": 54
        }
      ]
    },
    {
      "cell_type": "code",
      "metadata": {
        "id": "QBbjFJ6GpDCn",
        "colab": {
          "base_uri": "https://localhost:8080/"
        },
        "outputId": "c5bcc8f3-b6d4-4c6d-c0df-b900fa2cf109"
      },
      "source": [
        "np.amin(A) # 1~3행과 1~3열 중 가장 작은 값 출력"
      ],
      "execution_count": null,
      "outputs": [
        {
          "output_type": "execute_result",
          "data": {
            "text/plain": [
              "1"
            ]
          },
          "metadata": {},
          "execution_count": 55
        }
      ]
    },
    {
      "cell_type": "markdown",
      "metadata": {
        "id": "gMsPpdw1pCWC"
      },
      "source": [
        "## numpy.amax"
      ]
    },
    {
      "cell_type": "markdown",
      "metadata": {
        "id": "Fqn9ZjeRpUgO"
      },
      "source": [
        "Return the maximum of an array or maximum along an axis."
      ]
    },
    {
      "cell_type": "code",
      "metadata": {
        "id": "oAootx86qA5z",
        "colab": {
          "base_uri": "https://localhost:8080/"
        },
        "outputId": "306bcea8-9c3f-461c-d186-f34cabf7b51c"
      },
      "source": [
        "A"
      ],
      "execution_count": null,
      "outputs": [
        {
          "output_type": "execute_result",
          "data": {
            "text/plain": [
              "array([[1, 2, 3],\n",
              "       [4, 5, 6],\n",
              "       [7, 8, 9]])"
            ]
          },
          "metadata": {},
          "execution_count": 56
        }
      ]
    },
    {
      "cell_type": "code",
      "metadata": {
        "id": "ej2Se2iXpJpQ",
        "colab": {
          "base_uri": "https://localhost:8080/"
        },
        "outputId": "44c3d855-2e3b-482d-c407-c60c5c5ed145"
      },
      "source": [
        "np.amax(A, 0)\n",
        "np.amax(A, axis=0)"
      ],
      "execution_count": null,
      "outputs": [
        {
          "output_type": "execute_result",
          "data": {
            "text/plain": [
              "array([7, 8, 9])"
            ]
          },
          "metadata": {},
          "execution_count": 57
        }
      ]
    },
    {
      "cell_type": "code",
      "metadata": {
        "id": "9sIDnzytpJna",
        "colab": {
          "base_uri": "https://localhost:8080/"
        },
        "outputId": "376e343d-132d-46ca-9e21-c706ca288c15"
      },
      "source": [
        "np.amax(A, 1)\n",
        "np.amax(A, axis=1)"
      ],
      "execution_count": null,
      "outputs": [
        {
          "output_type": "execute_result",
          "data": {
            "text/plain": [
              "array([3, 6, 9])"
            ]
          },
          "metadata": {},
          "execution_count": 58
        }
      ]
    },
    {
      "cell_type": "code",
      "metadata": {
        "id": "CL6YZbXSolnf",
        "colab": {
          "base_uri": "https://localhost:8080/"
        },
        "outputId": "e757eb02-92b6-404f-c497-3ffb28207d75"
      },
      "source": [
        "np.amax(A, 1).shape"
      ],
      "execution_count": null,
      "outputs": [
        {
          "output_type": "execute_result",
          "data": {
            "text/plain": [
              "(3,)"
            ]
          },
          "metadata": {},
          "execution_count": 59
        }
      ]
    },
    {
      "cell_type": "code",
      "metadata": {
        "id": "XKrEdPH1pJQj",
        "colab": {
          "base_uri": "https://localhost:8080/"
        },
        "outputId": "0ad11a82-f1b4-486c-dadf-abe34cf24721"
      },
      "source": [
        "np.amax(A)"
      ],
      "execution_count": null,
      "outputs": [
        {
          "output_type": "execute_result",
          "data": {
            "text/plain": [
              "9"
            ]
          },
          "metadata": {},
          "execution_count": 60
        }
      ]
    },
    {
      "cell_type": "markdown",
      "metadata": {
        "id": "yVHIj1Iupnhf"
      },
      "source": [
        "## numpy.ptp"
      ]
    },
    {
      "cell_type": "markdown",
      "metadata": {
        "id": "EFYuiVX4pxvj"
      },
      "source": [
        "Range of values (maximum - minimum) along an axis.\n",
        "\n",
        "The name of the function comes from the acronym for ‘peak to peak’.\n",
        "- 최대와 최소의 피크의 범위 -> 숫자 범위의 개형을 대략적으로 확인\n",
        "- array([6, 6, 6]) 6의 크기만큼 최댓값, 최솟값이 벌어져 있음"
      ]
    },
    {
      "cell_type": "code",
      "metadata": {
        "id": "8VxGXuinp8kQ",
        "colab": {
          "base_uri": "https://localhost:8080/"
        },
        "outputId": "f9b1a5da-6812-46a1-cc08-4792978c8a55"
      },
      "source": [
        "A"
      ],
      "execution_count": null,
      "outputs": [
        {
          "output_type": "execute_result",
          "data": {
            "text/plain": [
              "array([[1, 2, 3],\n",
              "       [4, 5, 6],\n",
              "       [7, 8, 9]])"
            ]
          },
          "metadata": {},
          "execution_count": 61
        }
      ]
    },
    {
      "cell_type": "code",
      "metadata": {
        "id": "Q6YNHrwOpzuZ",
        "colab": {
          "base_uri": "https://localhost:8080/"
        },
        "outputId": "ab230379-46c5-4f7d-e800-45442858dc0f"
      },
      "source": [
        "np.ptp(A, 0)"
      ],
      "execution_count": null,
      "outputs": [
        {
          "output_type": "execute_result",
          "data": {
            "text/plain": [
              "array([6, 6, 6])"
            ]
          },
          "metadata": {},
          "execution_count": 62
        }
      ]
    },
    {
      "cell_type": "code",
      "metadata": {
        "id": "Xm14LIGdp6a3",
        "colab": {
          "base_uri": "https://localhost:8080/"
        },
        "outputId": "170d1751-5eca-4d95-9c6f-1e5ae12aa960"
      },
      "source": [
        "np.ptp(A, 1)"
      ],
      "execution_count": null,
      "outputs": [
        {
          "output_type": "execute_result",
          "data": {
            "text/plain": [
              "array([2, 2, 2])"
            ]
          },
          "metadata": {},
          "execution_count": 63
        }
      ]
    },
    {
      "cell_type": "code",
      "metadata": {
        "id": "Z4QFXCVxp99u"
      },
      "source": [
        "np.ptp(A)"
      ],
      "execution_count": null,
      "outputs": []
    },
    {
      "cell_type": "markdown",
      "metadata": {
        "id": "FoCO6OmSqUhW"
      },
      "source": [
        "## numpy.median"
      ]
    },
    {
      "cell_type": "markdown",
      "metadata": {
        "id": "P-Eyf72Urhjz"
      },
      "source": [
        "Compute the median along the specified axis."
      ]
    },
    {
      "cell_type": "code",
      "metadata": {
        "id": "Bi64JNDerJ7W",
        "colab": {
          "base_uri": "https://localhost:8080/"
        },
        "outputId": "e74803a4-5d59-4996-f3b4-5b28c48f19bc"
      },
      "source": [
        "A"
      ],
      "execution_count": null,
      "outputs": [
        {
          "output_type": "execute_result",
          "data": {
            "text/plain": [
              "array([[1, 2, 3],\n",
              "       [4, 5, 6],\n",
              "       [7, 8, 9]])"
            ]
          },
          "metadata": {},
          "execution_count": 64
        }
      ]
    },
    {
      "cell_type": "code",
      "metadata": {
        "id": "ps-6IJLxrLTI",
        "colab": {
          "base_uri": "https://localhost:8080/"
        },
        "outputId": "e6d9853a-4daa-4fd5-813b-780d8e7bf63a"
      },
      "source": [
        "np.median(A, 0)"
      ],
      "execution_count": null,
      "outputs": [
        {
          "output_type": "execute_result",
          "data": {
            "text/plain": [
              "array([4., 5., 6.])"
            ]
          },
          "metadata": {},
          "execution_count": 65
        }
      ]
    },
    {
      "cell_type": "code",
      "metadata": {
        "id": "hsVht0ByrQN1",
        "colab": {
          "base_uri": "https://localhost:8080/"
        },
        "outputId": "fbd0783d-70d9-4a58-a70f-8c624e6fb007"
      },
      "source": [
        "np.median(A, 1)"
      ],
      "execution_count": null,
      "outputs": [
        {
          "output_type": "execute_result",
          "data": {
            "text/plain": [
              "array([2., 5., 8.])"
            ]
          },
          "metadata": {},
          "execution_count": 66
        }
      ]
    },
    {
      "cell_type": "code",
      "metadata": {
        "id": "SsqQsYZ1rU_N",
        "colab": {
          "base_uri": "https://localhost:8080/"
        },
        "outputId": "140e0826-e066-4206-891a-143bca0a33fd"
      },
      "source": [
        "np.median(A)"
      ],
      "execution_count": null,
      "outputs": [
        {
          "output_type": "execute_result",
          "data": {
            "text/plain": [
              "5.0"
            ]
          },
          "metadata": {},
          "execution_count": 67
        }
      ]
    },
    {
      "cell_type": "markdown",
      "metadata": {
        "id": "OBi1rF4uqYaW"
      },
      "source": [
        "## numpy.mean"
      ]
    },
    {
      "cell_type": "markdown",
      "metadata": {
        "id": "fxwp6vDBr0uO"
      },
      "source": [
        "Compute the arithmetic mean along the specified axis.\n",
        "\n",
        "(가중평균을 구하려면 numpy.average를 사용해야 합니다.)"
      ]
    },
    {
      "cell_type": "code",
      "metadata": {
        "id": "sbY1nmGHseNT",
        "colab": {
          "base_uri": "https://localhost:8080/"
        },
        "outputId": "8ac2534b-c0bf-4f1b-8f82-f217e8ed1cb9"
      },
      "source": [
        "A"
      ],
      "execution_count": null,
      "outputs": [
        {
          "output_type": "execute_result",
          "data": {
            "text/plain": [
              "array([[1, 2, 3],\n",
              "       [4, 5, 6],\n",
              "       [7, 8, 9]])"
            ]
          },
          "metadata": {},
          "execution_count": 68
        }
      ]
    },
    {
      "cell_type": "code",
      "metadata": {
        "id": "WnFfddIZrdsT",
        "colab": {
          "base_uri": "https://localhost:8080/"
        },
        "outputId": "c70c720d-c819-415a-b7bb-3a81fcf1b14c"
      },
      "source": [
        "np.mean(A, 0)"
      ],
      "execution_count": null,
      "outputs": [
        {
          "output_type": "execute_result",
          "data": {
            "text/plain": [
              "array([4., 5., 6.])"
            ]
          },
          "metadata": {},
          "execution_count": 69
        }
      ]
    },
    {
      "cell_type": "code",
      "metadata": {
        "id": "tNyK0HGXrdNp",
        "colab": {
          "base_uri": "https://localhost:8080/"
        },
        "outputId": "a79f3e66-bc4a-4bd8-cd24-ee9d411cb429"
      },
      "source": [
        "np.mean(A, 1)"
      ],
      "execution_count": null,
      "outputs": [
        {
          "output_type": "execute_result",
          "data": {
            "text/plain": [
              "array([2., 5., 8.])"
            ]
          },
          "metadata": {},
          "execution_count": 70
        }
      ]
    },
    {
      "cell_type": "code",
      "metadata": {
        "id": "n79iGG5jrc1M",
        "colab": {
          "base_uri": "https://localhost:8080/"
        },
        "outputId": "7b83f0c8-c7f1-4fc1-ff85-d1b3b9fad133"
      },
      "source": [
        "np.mean(A)"
      ],
      "execution_count": null,
      "outputs": [
        {
          "output_type": "execute_result",
          "data": {
            "text/plain": [
              "5.0"
            ]
          },
          "metadata": {},
          "execution_count": 71
        }
      ]
    },
    {
      "cell_type": "markdown",
      "metadata": {
        "id": "QtXO6zuuqYVa"
      },
      "source": [
        "## numpy.var"
      ]
    },
    {
      "cell_type": "markdown",
      "metadata": {
        "id": "wPXmUNHmsxrp"
      },
      "source": [
        "Compute the variance along the specified axis."
      ]
    },
    {
      "cell_type": "code",
      "metadata": {
        "id": "dSSXxSv7s_S0",
        "colab": {
          "base_uri": "https://localhost:8080/"
        },
        "outputId": "49eee394-7241-4234-e158-1cd6d9138d1c"
      },
      "source": [
        "np.var(A, 0)"
      ],
      "execution_count": null,
      "outputs": [
        {
          "output_type": "execute_result",
          "data": {
            "text/plain": [
              "array([6., 6., 6.])"
            ]
          },
          "metadata": {},
          "execution_count": 72
        }
      ]
    },
    {
      "cell_type": "code",
      "metadata": {
        "id": "0NMEX8w5s-6a",
        "colab": {
          "base_uri": "https://localhost:8080/"
        },
        "outputId": "e42c5c3b-561f-4faf-e99c-bffa80df4858"
      },
      "source": [
        "np.var(A, 1)"
      ],
      "execution_count": null,
      "outputs": [
        {
          "output_type": "execute_result",
          "data": {
            "text/plain": [
              "array([0.66666667, 0.66666667, 0.66666667])"
            ]
          },
          "metadata": {},
          "execution_count": 73
        }
      ]
    },
    {
      "cell_type": "code",
      "metadata": {
        "id": "LxQSe0JoqX5I",
        "colab": {
          "base_uri": "https://localhost:8080/"
        },
        "outputId": "8b469c3a-53d6-4127-f25d-c6cefc00ef4a"
      },
      "source": [
        "np.var(A)"
      ],
      "execution_count": null,
      "outputs": [
        {
          "output_type": "execute_result",
          "data": {
            "text/plain": [
              "6.666666666666667"
            ]
          },
          "metadata": {},
          "execution_count": 74
        }
      ]
    },
    {
      "cell_type": "markdown",
      "metadata": {
        "id": "5s-Mj7H8tEUR"
      },
      "source": [
        "## numpy.std"
      ]
    },
    {
      "cell_type": "markdown",
      "metadata": {
        "id": "enWqlt2rtHjV"
      },
      "source": [
        "Compute the standard deviation along the specified axis."
      ]
    },
    {
      "cell_type": "code",
      "metadata": {
        "id": "kgMKCi3MtKdT",
        "colab": {
          "base_uri": "https://localhost:8080/"
        },
        "outputId": "eb542d8a-639d-45c4-9265-31a80ce72c17"
      },
      "source": [
        "np.std(A, 0)"
      ],
      "execution_count": null,
      "outputs": [
        {
          "output_type": "execute_result",
          "data": {
            "text/plain": [
              "array([2.44948974, 2.44948974, 2.44948974])"
            ]
          },
          "metadata": {},
          "execution_count": 75
        }
      ]
    },
    {
      "cell_type": "code",
      "metadata": {
        "id": "3Rm1-Cq0tKKM",
        "colab": {
          "base_uri": "https://localhost:8080/"
        },
        "outputId": "c5a00326-e9d2-47a7-8596-b1cb9e2eb31e"
      },
      "source": [
        "np.std(A, 1)"
      ],
      "execution_count": null,
      "outputs": [
        {
          "output_type": "execute_result",
          "data": {
            "text/plain": [
              "array([0.81649658, 0.81649658, 0.81649658])"
            ]
          },
          "metadata": {},
          "execution_count": 76
        }
      ]
    },
    {
      "cell_type": "code",
      "metadata": {
        "id": "yIfc_SX2tKEq",
        "colab": {
          "base_uri": "https://localhost:8080/"
        },
        "outputId": "1e4462dc-b8bd-486b-8b7b-2b1e8c44f503"
      },
      "source": [
        "np.std(A)"
      ],
      "execution_count": null,
      "outputs": [
        {
          "output_type": "execute_result",
          "data": {
            "text/plain": [
              "2.581988897471611"
            ]
          },
          "metadata": {},
          "execution_count": 77
        }
      ]
    },
    {
      "cell_type": "markdown",
      "metadata": {
        "id": "DAql9fTuYTr_"
      },
      "source": [
        "# **5.다차원 배열 다루기 2 (형태 변경)**\n",
        "다차원 배열에서 일부분만 가져오거나 다차원 배열의 형태를 바꾸는 방법을 알아봅니다.\n",
        "\n",
        "https://docs.scipy.org/doc/numpy/reference/routines.array-manipulation.html"
      ]
    },
    {
      "cell_type": "markdown",
      "metadata": {
        "id": "YJOXeenmYTni"
      },
      "source": [
        "## 슬라이싱"
      ]
    },
    {
      "cell_type": "markdown",
      "metadata": {
        "id": "UrUs0eyi12sY"
      },
      "source": [
        "파이썬 리스트와 유사하게, Numpy 배열도 슬라이싱이 가능합니다.\n",
        "\n",
        "Numpy 배열은 다차원인 경우가 많기에, 각 차원별로 어떻게 슬라이스할건지 명확히 해야 합니다:\n",
        "\n",
        "Numpy 배열을 슬라이싱하면, 연속된 값을 가져오기에 결과로 얻어지는 배열은 언제나 원본 배열의 부분 배열입니다."
      ]
    },
    {
      "cell_type": "code",
      "metadata": {
        "id": "rSTklt9WuQj5"
      },
      "source": [
        "import numpy as np\n",
        "\n",
        "# shape가 (3, 4)인 2차원 배열 생성\n",
        "# [[ 1  2  3  4]\n",
        "#  [ 5  6  7  8]\n",
        "#  [ 9 10 11 12]]\n",
        "a = np.array([[1,2,3,4], [5,6,7,8], [9,10,11,12]])"
      ],
      "execution_count": null,
      "outputs": []
    },
    {
      "cell_type": "markdown",
      "metadata": {
        "id": "gvAMJaf9vPa7"
      },
      "source": [
        "다차원배열은 아래와 같은 방법으로 슬라이싱 합니다."
      ]
    },
    {
      "cell_type": "markdown",
      "metadata": {
        "id": "osPEARhNvmFf"
      },
      "source": [
        "`a[ : , : ]`\n",
        "\n",
        "\n",
        "`a[행 슬라이싱 시작:행 슬라이싱 끝, 열 슬라이싱 시작:열 슬라이싱 끝]`\n",
        "\n",
        "\n",
        "**시작값**부터 **끝값** <font color=\"red\">전</font>까지 슬라이싱 됩니다."
      ]
    },
    {
      "cell_type": "code",
      "metadata": {
        "id": "s6MPTZG2wmRW",
        "colab": {
          "base_uri": "https://localhost:8080/"
        },
        "outputId": "9ca74839-6796-46a3-a485-f699c2515688"
      },
      "source": [
        "a[0:2, 0:4]  #0행부터 2행전까지, 0열부터 4열전까지 슬라이싱 #0행~1행 , 0열~3열 출력"
      ],
      "execution_count": null,
      "outputs": [
        {
          "output_type": "execute_result",
          "data": {
            "text/plain": [
              "array([[1, 2, 3, 4],\n",
              "       [5, 6, 7, 8]])"
            ]
          },
          "metadata": {},
          "execution_count": 79
        }
      ]
    },
    {
      "cell_type": "markdown",
      "metadata": {
        "id": "1tA0TY58wrjf"
      },
      "source": [
        "0행부터 2행 전까지(= 1행 까지), 0열부터 4열 전까지(= 3열 까지) 슬라이스되었습니다.\n",
        "\n",
        "**생략 가능 : 시작값이 0인 경우, 끝 값이 shape의 값과 동일한 경우**\n",
        "\n",
        "`a[0:2, 0:4]`은 `a[:2, :]`로 표시할 수 있습니다."
      ]
    },
    {
      "cell_type": "code",
      "metadata": {
        "id": "sBVcKEPCwmNd",
        "colab": {
          "base_uri": "https://localhost:8080/"
        },
        "outputId": "d0b4a5dd-d15c-4794-eb42-25bd664561a0"
      },
      "source": [
        "a[:2, :]"
      ],
      "execution_count": null,
      "outputs": [
        {
          "output_type": "execute_result",
          "data": {
            "text/plain": [
              "array([[1, 2, 3, 4],\n",
              "       [5, 6, 7, 8]])"
            ]
          },
          "metadata": {},
          "execution_count": 80
        }
      ]
    },
    {
      "cell_type": "markdown",
      "metadata": {
        "id": "He-aVrqQ3eBA"
      },
      "source": [
        "위 코드는 열을 슬라이싱 하지 않는 코드이며 이런 경우 열 부분은 전체 생략 가능합니다.\n",
        "\n",
        "(행을 슬라이싱 하지 않는다고 하더라도, 행부분을 생략할 순 없습니다.)"
      ]
    },
    {
      "cell_type": "code",
      "metadata": {
        "id": "b7EOJsdkwmKb",
        "colab": {
          "base_uri": "https://localhost:8080/"
        },
        "outputId": "50836d3a-d2a4-4d03-c96b-9e849dda26ce"
      },
      "source": [
        "a[:2]"
      ],
      "execution_count": null,
      "outputs": [
        {
          "output_type": "execute_result",
          "data": {
            "text/plain": [
              "array([[1, 2, 3, 4],\n",
              "       [5, 6, 7, 8]])"
            ]
          },
          "metadata": {},
          "execution_count": 81
        }
      ]
    },
    {
      "cell_type": "markdown",
      "metadata": {
        "id": "_DFoCzNO4dRr"
      },
      "source": [
        "**슬라이싱에 익숙해지기 전까진 생략하지말고 명시적으로 코드를 작성해주는것이 실수를 방지하는 방법입니다.**"
      ]
    },
    {
      "cell_type": "markdown",
      "metadata": {
        "id": "o1fcIHf654TM"
      },
      "source": [
        "## 인덱싱"
      ]
    },
    {
      "cell_type": "markdown",
      "metadata": {
        "id": "WzL4Xo-N6b4k"
      },
      "source": [
        "인덱싱을 통해 원소에 접근할 수 있습니다.\n",
        "\n",
        "두 가지 표현법이 있습니다."
      ]
    },
    {
      "cell_type": "code",
      "metadata": {
        "id": "6P16QmWU6gLp",
        "colab": {
          "base_uri": "https://localhost:8080/"
        },
        "outputId": "a43f2d78-071b-46ff-9896-7ce4a5890509"
      },
      "source": [
        "# 선호하는 방식\n",
        "a[0, 0]"
      ],
      "execution_count": null,
      "outputs": [
        {
          "output_type": "execute_result",
          "data": {
            "text/plain": [
              "1"
            ]
          },
          "metadata": {},
          "execution_count": 82
        }
      ]
    },
    {
      "cell_type": "code",
      "metadata": {
        "id": "wTKkLKLS6VTf",
        "colab": {
          "base_uri": "https://localhost:8080/"
        },
        "outputId": "fed1e09d-0e5f-4fe4-eb2e-40d0a96ea06b"
      },
      "source": [
        "a[0][0]"
      ],
      "execution_count": null,
      "outputs": [
        {
          "output_type": "execute_result",
          "data": {
            "text/plain": [
              "1"
            ]
          },
          "metadata": {},
          "execution_count": 83
        }
      ]
    },
    {
      "cell_type": "markdown",
      "metadata": {
        "id": "mO7ZPlga57Yd"
      },
      "source": [
        "Numpy 배열을 슬라이싱하면, 연속된 값을 가져오기에 결과로 얻어지는 배열은 언제나 원본 배열의 부분 배열입니다.\n",
        "\n",
        "그러나 인덱싱을 한다면, 연속하지 않은 값을 가져올 수 있으니 원본과 다른 배열을 만들 수 있습니다."
      ]
    },
    {
      "cell_type": "code",
      "metadata": {
        "id": "ajcFwt7b9G_Z",
        "colab": {
          "base_uri": "https://localhost:8080/"
        },
        "outputId": "c46363c6-864c-4c30-8c39-f96a7dc39fc3"
      },
      "source": [
        "a"
      ],
      "execution_count": null,
      "outputs": [
        {
          "output_type": "execute_result",
          "data": {
            "text/plain": [
              "array([[ 1,  2,  3,  4],\n",
              "       [ 5,  6,  7,  8],\n",
              "       [ 9, 10, 11, 12]])"
            ]
          },
          "metadata": {},
          "execution_count": 84
        }
      ]
    },
    {
      "cell_type": "code",
      "metadata": {
        "id": "MX-MxYDl8eWr",
        "colab": {
          "base_uri": "https://localhost:8080/"
        },
        "outputId": "472f459c-4ac3-4c0f-8882-6e2b52eaba4b"
      },
      "source": [
        "# 0행, 2행만 인덱싱\n",
        "a[[0, 2], ]\n",
        "a[[0,2], 0:4]"
      ],
      "execution_count": null,
      "outputs": [
        {
          "output_type": "execute_result",
          "data": {
            "text/plain": [
              "array([[ 1,  2,  3,  4],\n",
              "       [ 9, 10, 11, 12]])"
            ]
          },
          "metadata": {},
          "execution_count": 87
        }
      ]
    },
    {
      "cell_type": "code",
      "metadata": {
        "id": "4F_hYGty9Vag",
        "colab": {
          "base_uri": "https://localhost:8080/"
        },
        "outputId": "6f70b6e0-dfa1-478d-b8e5-4ec399ea2931"
      },
      "source": [
        "# 0열, 1열, 3열만 인덱싱\n",
        "a[:, [0,1,3]]\n",
        "a[0:3, [0,1,3]]"
      ],
      "execution_count": null,
      "outputs": [
        {
          "output_type": "execute_result",
          "data": {
            "text/plain": [
              "array([[ 1,  2,  4],\n",
              "       [ 5,  6,  8],\n",
              "       [ 9, 10, 12]])"
            ]
          },
          "metadata": {},
          "execution_count": 90
        }
      ]
    },
    {
      "cell_type": "markdown",
      "metadata": {
        "id": "nKciLNy_RLI5"
      },
      "source": [
        "## 인덱싱&슬라이싱 - 차원축소&유지"
      ]
    },
    {
      "cell_type": "markdown",
      "metadata": {
        "id": "QAObDpXdRQPQ"
      },
      "source": [
        "정수 인덱싱과 슬라이싱을 혼합해서 사용하면 낮은 차원의 배열이 생성되지만,\n",
        "\n",
        "슬라이싱만 사용하면 원본 배열과 동일한 차원의 배열이 생성됩니다.\n",
        "\n",
        "0번째 행을 인덱싱하는 경우와 슬라이싱 하는 경우를 비교해보겠습니다."
      ]
    },
    {
      "cell_type": "code",
      "metadata": {
        "id": "OFo3Mmd4RP3w",
        "colab": {
          "base_uri": "https://localhost:8080/"
        },
        "outputId": "caad7e55-8d7d-44f9-eb6f-bbc98c27497b"
      },
      "source": [
        "print(a, a.shape, a.ndim)"
      ],
      "execution_count": null,
      "outputs": [
        {
          "output_type": "stream",
          "name": "stdout",
          "text": [
            "[[ 1  2  3  4]\n",
            " [ 5  6  7  8]\n",
            " [ 9 10 11 12]] (3, 4) 2\n"
          ]
        }
      ]
    },
    {
      "cell_type": "markdown",
      "source": [
        "**슬라이싱 추천** : 연산해야하는 경우 차원이 동일해야 하므로 차원이 유지되는 슬라이싱 추천!"
      ],
      "metadata": {
        "id": "jqWn8tmAqm7x"
      }
    },
    {
      "cell_type": "code",
      "metadata": {
        "id": "qIZ1PgyySLVK",
        "colab": {
          "base_uri": "https://localhost:8080/"
        },
        "outputId": "56a4ee37-0aee-4904-c2fd-5ab0a8b5cac4"
      },
      "source": [
        "# 슬라이싱만 사용 - 차원 유지됨 - 연산해야할 경우 차원이 동일해야 함\n",
        "slicedRow = a[0:1, :]\n",
        "print(slicedRow, slicedRow.shape, slicedRow.ndim)"
      ],
      "execution_count": null,
      "outputs": [
        {
          "output_type": "stream",
          "name": "stdout",
          "text": [
            "[[1 2 3 4]] (1, 4) 2\n"
          ]
        }
      ]
    },
    {
      "cell_type": "code",
      "metadata": {
        "id": "ost9l4B1R8tw",
        "colab": {
          "base_uri": "https://localhost:8080/"
        },
        "outputId": "bad1b648-fece-4048-bfa3-38f8c1469d47"
      },
      "source": [
        "# 아래와 동일한 코드\n",
        "# 행:인덱싱&열:슬라이싱 혼합 사용\n",
        "indexedRow = a[0] #0번행만 가져오므로 차원이 줄어듬\n",
        "print(indexedRow, indexedRow.shape, indexedRow.ndim)\n",
        "\n",
        "# 위와 동일한 코드\n",
        "# 행:인덱싱&열:슬라이싱 혼합 사용\n",
        "indexedRow2 = a[0, :]\n",
        "print(indexedRow2, indexedRow2.shape, indexedRow2.ndim)"
      ],
      "execution_count": null,
      "outputs": [
        {
          "output_type": "stream",
          "name": "stdout",
          "text": [
            "[1 2 3 4] (4,) 1\n",
            "[1 2 3 4] (4,) 1\n"
          ]
        }
      ]
    },
    {
      "cell_type": "markdown",
      "metadata": {
        "id": "OWuj2vu3TK6y"
      },
      "source": [
        "행이 아닌 열의 경우에도 마찬가지 입니다."
      ]
    },
    {
      "cell_type": "code",
      "metadata": {
        "id": "ZcXhWBMTSERz",
        "colab": {
          "base_uri": "https://localhost:8080/"
        },
        "outputId": "0415baee-4403-4828-a53a-4f6a7ce91fa0"
      },
      "source": [
        "# 슬라이싱만 사용\n",
        "slicedCol = a[:, 0:1]\n",
        "print(slicedCol, slicedCol.shape, slicedCol.ndim)"
      ],
      "execution_count": null,
      "outputs": [
        {
          "output_type": "stream",
          "name": "stdout",
          "text": [
            "[[1]\n",
            " [5]\n",
            " [9]] (3, 1) 2\n"
          ]
        }
      ]
    },
    {
      "cell_type": "code",
      "metadata": {
        "id": "Y09IJ9mFU4ct",
        "colab": {
          "base_uri": "https://localhost:8080/"
        },
        "outputId": "e94ad0e3-985a-4ce8-c3bf-7b2fb411f781"
      },
      "source": [
        "# 인덱싱&슬라이싱 혼합 사용\n",
        "indexedCol = a[:, 0]\n",
        "print(indexedCol, indexedCol.shape, indexedCol.ndim)"
      ],
      "execution_count": null,
      "outputs": [
        {
          "output_type": "stream",
          "name": "stdout",
          "text": [
            "[1 5 9] (3,) 1\n"
          ]
        }
      ]
    },
    {
      "cell_type": "markdown",
      "metadata": {
        "id": "6AFtk8WmVbfc"
      },
      "source": [
        "다차원배열간 연산에서 차원이 달라 문제가 발생하는 경우가 종종 있습니다.\n",
        "\n",
        "**특별히 인덱싱을 써야 하는 상황이 아니라면, 인덱싱보다 슬라이싱을 추천합니다.**"
      ]
    },
    {
      "cell_type": "markdown",
      "metadata": {
        "id": "2eLKR9auQK7m"
      },
      "source": [
        "## 인덱싱&슬라이싱 - 값 복사&참조"
      ]
    },
    {
      "cell_type": "markdown",
      "metadata": {
        "id": "SQGaAAhFQQLx"
      },
      "source": [
        "인덱싱은 값을 복사해옵니다. 복사된 값을 변경해도 원본의 값은 변하지 않습니다."
      ]
    },
    {
      "cell_type": "code",
      "metadata": {
        "id": "6__bo0VQQYmY",
        "colab": {
          "base_uri": "https://localhost:8080/"
        },
        "outputId": "fd0c11de-1657-43c2-9bcd-db43586ec1c2"
      },
      "source": [
        "a"
      ],
      "execution_count": null,
      "outputs": [
        {
          "output_type": "execute_result",
          "data": {
            "text/plain": [
              "array([[ 1,  2,  3,  4],\n",
              "       [ 5,  6,  7,  8],\n",
              "       [ 9, 10, 11, 12]])"
            ]
          },
          "metadata": {},
          "execution_count": 96
        }
      ]
    },
    {
      "cell_type": "code",
      "metadata": {
        "id": "4xtsM0d7P37t",
        "colab": {
          "base_uri": "https://localhost:8080/"
        },
        "outputId": "16ce608c-9b59-4387-e169-3c0b247cbe8d"
      },
      "source": [
        "# 인덱싱해서 b에 대입 -> 인덱싱할 때 값이 복사되어서 b에 대입 (원본값 유지됨)\n",
        "b = a[0, 0]\n",
        "\n",
        "# b값 수정\n",
        "b = 100\n",
        "\n",
        "print(\"a[0, 0]: {}\".format(a[0, 0]))\n",
        "print(\"b: {}\".format(b))"
      ],
      "execution_count": null,
      "outputs": [
        {
          "output_type": "stream",
          "name": "stdout",
          "text": [
            "a[0, 0]: 1\n",
            "b: 100\n"
          ]
        }
      ]
    },
    {
      "cell_type": "markdown",
      "metadata": {
        "id": "_JGPVOvtQ0gK"
      },
      "source": [
        "슬라이싱된 배열은 원본 배열과 같은 데이터를 참조합니다.\n",
        "\n",
        "<font color=\"red\">즉 슬라이싱된 배열을 수정하면 원본 배열 역시 수정됩니다.</font>"
      ]
    },
    {
      "cell_type": "code",
      "metadata": {
        "id": "uqVFNX_zQAha",
        "colab": {
          "base_uri": "https://localhost:8080/"
        },
        "outputId": "7599cb48-9d33-4fde-82db-0f95a07bf786"
      },
      "source": [
        "# a를 슬라이스하여 c 생성\n",
        "c = a[1:3, 1:3]\n",
        "\n",
        "print(c)"
      ],
      "execution_count": null,
      "outputs": [
        {
          "output_type": "stream",
          "name": "stdout",
          "text": [
            "[[ 6  7]\n",
            " [10 11]]\n"
          ]
        }
      ]
    },
    {
      "cell_type": "code",
      "metadata": {
        "id": "Sn84SoasQEbx",
        "colab": {
          "base_uri": "https://localhost:8080/"
        },
        "outputId": "a01e6763-13f1-4efd-fe32-a73a7cd3cc2a"
      },
      "source": [
        "# c[0, 0]은 a[1, 1]과 같은 데이터입니다.\n",
        "c[0, 0] = 100\n",
        "\n",
        "print(c)\n",
        "print('------------------')\n",
        "print(a)"
      ],
      "execution_count": null,
      "outputs": [
        {
          "output_type": "stream",
          "name": "stdout",
          "text": [
            "[[100   7]\n",
            " [ 10  11]]\n",
            "------------------\n",
            "[[  1   2   3   4]\n",
            " [  5 100   7   8]\n",
            " [  9  10  11  12]]\n"
          ]
        }
      ]
    },
    {
      "cell_type": "markdown",
      "metadata": {
        "id": "8HQJpEQA2wj2"
      },
      "source": [
        "## 불리언 배열 인덱싱"
      ]
    },
    {
      "cell_type": "markdown",
      "metadata": {
        "id": "ZPR4ewXDaJaT"
      },
      "source": [
        "불리언 배열 인덱싱을 통해 배열 속 요소를 취사선택할 수 있습니다.\n",
        "- 불리언 배열 인덱싱은 **특정 조건을 만족하게 하는 요소만 선택하고자 할 때** 자주 사용됩니다."
      ]
    },
    {
      "cell_type": "code",
      "metadata": {
        "id": "w4xl1Vbz2y71",
        "colab": {
          "base_uri": "https://localhost:8080/"
        },
        "outputId": "44dcfea2-b301-4d9a-e3bc-0ab14984aa5e"
      },
      "source": [
        "import numpy as np\n",
        "\n",
        "a = np.array([[1,2], [3, 4], [5, 6]])\n",
        "\n",
        "print(a)"
      ],
      "execution_count": null,
      "outputs": [
        {
          "output_type": "stream",
          "name": "stdout",
          "text": [
            "[[1 2]\n",
            " [3 4]\n",
            " [5 6]]\n"
          ]
        }
      ]
    },
    {
      "cell_type": "code",
      "metadata": {
        "id": "2caKbkRbbzVD",
        "colab": {
          "base_uri": "https://localhost:8080/"
        },
        "outputId": "9bf94643-03bb-4147-d1ba-476b81bdc00a"
      },
      "source": [
        "bool_idx = (a > 2)  # 2보다 큰 a의 요소를 찾습니다;\n",
        "                    # 이 코드는 a와 shape가 같고 불리언 자료형을 요소로 하는 numpy 배열을 반환합니다,\n",
        "                    # bool_idx의 각 요소는 동일한 위치에 있는 a의\n",
        "                    # 요소가 2보다 큰지를 말해줍니다.\n",
        "\n",
        "print(bool_idx)      # 출력 \"[[False False]\n",
        "                     #       [ True  True]\n",
        "                     #       [ True  True]]\"\n",
        "\n",
        "# 불리언 배열 인덱싱을 통해 bool_idx에서\n",
        "# 참 값을 가지는 요소로 구성되는\n",
        "# rank 1인 배열을 구성할 수 있습니다.\n",
        "print(a[bool_idx])  # 출력 \"[3 4 5 6]\" : bool_idx를 [bool_idx]불리언 인덱싱하여 참 값만 출력\n",
        "\n",
        "# 위에서 한 모든것을 한 문장으로 할 수 있습니다:\n",
        "print(a[a > 2])     # 출력 \"[3 4 5 6]\""
      ],
      "execution_count": null,
      "outputs": [
        {
          "output_type": "stream",
          "name": "stdout",
          "text": [
            "[[False False]\n",
            " [ True  True]\n",
            " [ True  True]]\n",
            "[3 4 5 6]\n",
            "[3 4 5 6]\n"
          ]
        }
      ]
    },
    {
      "cell_type": "markdown",
      "metadata": {
        "id": "orsL9GWLYTpQ"
      },
      "source": [
        "## (참조) 정수 배열 인덱싱"
      ]
    },
    {
      "cell_type": "code",
      "metadata": {
        "id": "gmXzZ-IyxESh"
      },
      "source": [
        "import numpy as np\n",
        "\n",
        "a = np.array([[1,2], [3, 4], [5, 6]])\n",
        "\n",
        "print(a)"
      ],
      "execution_count": null,
      "outputs": []
    },
    {
      "cell_type": "code",
      "metadata": {
        "id": "OBq04jLFZRGn"
      },
      "source": [
        "# 정수 배열 인덱싱의 예.\n",
        "# 반환되는 배열의 shape는 (3,)\n",
        "print(a[[0, 1, 2], [0, 1, 0]])  # 출력 \"[1 4 5]\": ((0,0),(1,1),(2,0) 출력)\n",
        "\n",
        "# 위에서 본 정수 배열 인덱싱 예제는 다음과 동일합니다:\n",
        "print(np.array([a[0, 0], a[1, 1], a[2, 0]]))  # 출력 \"[1 4 5]\"\n",
        "\n",
        "# 정수 배열 인덱싱을 사용할 때,\n",
        "# 원본 배열의 같은 요소를 재사용할 수 있습니다:\n",
        "print(a[[0, 0], [1, 1]])  # 출력 \"[2 2]\"\n",
        "\n",
        "# 위 예제는 다음과 동일합니다\n",
        "print(np.array([a[0, 1], a[0, 1]]))  # 출력 \"[2 2]\""
      ],
      "execution_count": null,
      "outputs": []
    },
    {
      "cell_type": "markdown",
      "metadata": {
        "id": "p3t9TzIMX5bG"
      },
      "source": [
        "## 전치(transpose)"
      ]
    },
    {
      "cell_type": "markdown",
      "metadata": {
        "id": "zFtuErBr3lN0"
      },
      "source": [
        "종종 배열의 모양을 바꾸거나 데이터를 처리해야 할 때가 있습니다. 가장 간단한 예는 행렬의 주 대각선을 기준으로 대칭되는 요소끼리 뒤바꾸는 것입니다;\n",
        "\n",
        "이를 전치라고 하며 행렬을 전치하기 위해선, 간단하게 배열 객체의 ‘T’ 속성을 사용하면 됩니다:"
      ]
    },
    {
      "cell_type": "code",
      "metadata": {
        "id": "BpMXJuMb3nti",
        "colab": {
          "base_uri": "https://localhost:8080/"
        },
        "outputId": "5b581a62-3b16-4a44-e416-e7f6a66d8a0a"
      },
      "source": [
        "import numpy as np\n",
        "\n",
        "x = np.array([[1,2], [3,4]])\n",
        "print(x)    # 출력 \"[[1 2]\n",
        "            #       [3 4]]\"\n",
        "print(x.T)  # 출력 \"[[1 3]\n",
        "            #       [2 4]]\"\n",
        "\n",
        "# 차원이 1인 배열을 전치할 경우 아무 일도 일어나지 않습니다:\n",
        "v = np.array([1,2,3])\n",
        "print(v)    # 출력 \"[1 2 3]\"\n",
        "print(v.T)  # 출력 \"[1 2 3]\""
      ],
      "execution_count": null,
      "outputs": [
        {
          "output_type": "stream",
          "name": "stdout",
          "text": [
            "[[1 2]\n",
            " [3 4]]\n",
            "[[1 3]\n",
            " [2 4]]\n",
            "[1 2 3]\n",
            "[1 2 3]\n"
          ]
        }
      ]
    },
    {
      "cell_type": "markdown",
      "metadata": {
        "id": "PLZ_crwrYmvQ"
      },
      "source": [
        "## Shape 변경"
      ]
    },
    {
      "cell_type": "markdown",
      "metadata": {
        "id": "aflbVOpd708-"
      },
      "source": [
        "### numpy.reshape"
      ]
    },
    {
      "cell_type": "markdown",
      "metadata": {
        "id": "XCMTsEvP7273"
      },
      "source": [
        "Gives a new shape to an array without changing its data"
      ]
    },
    {
      "cell_type": "markdown",
      "source": [
        "방법1) np.arrange(6).reshape(3,2)"
      ],
      "metadata": {
        "id": "6jIhcNVovI96"
      }
    },
    {
      "cell_type": "code",
      "metadata": {
        "id": "t8dR7iPqwgzA",
        "colab": {
          "base_uri": "https://localhost:8080/"
        },
        "outputId": "14178c8d-3f49-4a30-9653-8ffb5e7bd2e0"
      },
      "source": [
        "np.arange(6)"
      ],
      "execution_count": null,
      "outputs": [
        {
          "output_type": "execute_result",
          "data": {
            "text/plain": [
              "array([0, 1, 2, 3, 4, 5])"
            ]
          },
          "metadata": {},
          "execution_count": 103
        }
      ]
    },
    {
      "cell_type": "code",
      "metadata": {
        "id": "sZabiDuswjzb",
        "colab": {
          "base_uri": "https://localhost:8080/"
        },
        "outputId": "5288b057-6db6-4c5c-86ed-7254802b966c"
      },
      "source": [
        "np.arange(6).reshape((3, 2))"
      ],
      "execution_count": null,
      "outputs": [
        {
          "output_type": "execute_result",
          "data": {
            "text/plain": [
              "array([[0, 1],\n",
              "       [2, 3],\n",
              "       [4, 5]])"
            ]
          },
          "metadata": {},
          "execution_count": 104
        }
      ]
    },
    {
      "cell_type": "code",
      "metadata": {
        "id": "C5D6ux9P8ACt"
      },
      "source": [
        "a = np.arange(6).reshape((3, 2))"
      ],
      "execution_count": null,
      "outputs": []
    },
    {
      "cell_type": "markdown",
      "source": [
        "방법2) a를 지정한 후, np.reshape(a, (2,3))"
      ],
      "metadata": {
        "id": "U6d6tUBJvO_j"
      }
    },
    {
      "cell_type": "code",
      "metadata": {
        "id": "DLBAyj0K8Jgk",
        "colab": {
          "base_uri": "https://localhost:8080/"
        },
        "outputId": "6f481281-cb3c-47c9-e7a4-37bcc46ac338"
      },
      "source": [
        "a"
      ],
      "execution_count": null,
      "outputs": [
        {
          "output_type": "execute_result",
          "data": {
            "text/plain": [
              "array([[0, 1, 2],\n",
              "       [3, 4, 5]])"
            ]
          },
          "metadata": {},
          "execution_count": 106
        }
      ]
    },
    {
      "cell_type": "code",
      "metadata": {
        "id": "VCg8dOLG5JC1",
        "colab": {
          "base_uri": "https://localhost:8080/"
        },
        "outputId": "746d6f3a-c3f0-4fb7-ffd5-a60e9f2ea786"
      },
      "source": [
        "np.reshape(a, (2,3))"
      ],
      "execution_count": null,
      "outputs": [
        {
          "output_type": "execute_result",
          "data": {
            "text/plain": [
              "array([[0, 1, 2],\n",
              "       [3, 4, 5]])"
            ]
          },
          "metadata": {},
          "execution_count": 107
        }
      ]
    },
    {
      "cell_type": "code",
      "metadata": {
        "id": "Dz_ffZkx5q-_",
        "colab": {
          "base_uri": "https://localhost:8080/"
        },
        "outputId": "df7b549b-043a-460d-dce9-346ef85237be"
      },
      "source": [
        "# 2차원\n",
        "np.reshape(a, (1,6))"
      ],
      "execution_count": null,
      "outputs": [
        {
          "output_type": "execute_result",
          "data": {
            "text/plain": [
              "array([[0, 1, 2, 3, 4, 5]])"
            ]
          },
          "metadata": {},
          "execution_count": 108
        }
      ]
    },
    {
      "cell_type": "code",
      "metadata": {
        "id": "8lVoSmog5qkf",
        "colab": {
          "base_uri": "https://localhost:8080/"
        },
        "outputId": "c3971eaa-2e25-4d04-9a9a-e8fce89eba46"
      },
      "source": [
        "# 1차원\n",
        "np.reshape(a, 6)"
      ],
      "execution_count": null,
      "outputs": [
        {
          "output_type": "execute_result",
          "data": {
            "text/plain": [
              "array([0, 1, 2, 3, 4, 5])"
            ]
          },
          "metadata": {},
          "execution_count": 109
        }
      ]
    },
    {
      "cell_type": "markdown",
      "metadata": {
        "id": "LWmGFdPN8sHz"
      },
      "source": [
        "### numpy.ravel()"
      ]
    },
    {
      "cell_type": "markdown",
      "metadata": {
        "id": "spkzJmkO80L6"
      },
      "source": [
        "Return a contiguous flattened array.\n",
        "- neural network 학습할 때 사용 (2,3차원 데이터를 1차원으로 변경할 때)"
      ]
    },
    {
      "cell_type": "code",
      "metadata": {
        "id": "IzmcXTCq5qaH",
        "colab": {
          "base_uri": "https://localhost:8080/"
        },
        "outputId": "568e6d96-201a-4955-c91f-0b7d3dfd67d0"
      },
      "source": [
        "np.ravel(a) # numpy의 모듈함수인 ravel 함수 사용"
      ],
      "execution_count": null,
      "outputs": [
        {
          "output_type": "execute_result",
          "data": {
            "text/plain": [
              "array([0, 1, 2, 3, 4, 5])"
            ]
          },
          "metadata": {},
          "execution_count": 110
        }
      ]
    },
    {
      "cell_type": "code",
      "metadata": {
        "id": "qbsqbAJZ53jX",
        "colab": {
          "base_uri": "https://localhost:8080/"
        },
        "outputId": "b10a6198-8748-45f9-d4a4-57ef7db62e20"
      },
      "source": [
        "a.ravel() #a의 다차원 배열의 기본 내장 함수"
      ],
      "execution_count": null,
      "outputs": [
        {
          "output_type": "execute_result",
          "data": {
            "text/plain": [
              "array([0, 1, 2, 3, 4, 5])"
            ]
          },
          "metadata": {},
          "execution_count": 111
        }
      ]
    },
    {
      "cell_type": "markdown",
      "metadata": {
        "id": "YZHKRyvk89wK"
      },
      "source": [
        "### numpy.ndarray.flatten()"
      ]
    },
    {
      "cell_type": "markdown",
      "metadata": {
        "id": "5aABNEj89ERE"
      },
      "source": [
        "Return a copy of the array collapsed into one dimension."
      ]
    },
    {
      "cell_type": "code",
      "metadata": {
        "id": "V3IjMMqZ5Og5",
        "colab": {
          "base_uri": "https://localhost:8080/"
        },
        "outputId": "1a5c7bd3-e524-446d-c000-bfc5de3aa795"
      },
      "source": [
        "# np.flatten(a) # Numpy 모듈 함수가 아님 (사용 불가)\n",
        "a.flatten()     # ndarray 객체의 메소드로만 사용 가능"
      ],
      "execution_count": null,
      "outputs": [
        {
          "output_type": "execute_result",
          "data": {
            "text/plain": [
              "array([0, 1, 2, 3, 4, 5])"
            ]
          },
          "metadata": {},
          "execution_count": 112
        }
      ]
    },
    {
      "cell_type": "markdown",
      "metadata": {
        "id": "7ZvKr7dS_MxT"
      },
      "source": [
        "**ravel()과 flatten() 차이점**\n",
        "- flatten은 객체의 매소드로만 사용 가능\n",
        "- ravel()은 뷰(참조)를 반환, flatten은 복사본을 반환"
      ]
    },
    {
      "cell_type": "markdown",
      "metadata": {
        "id": "-e2xFxz9Ym87"
      },
      "source": [
        "## 연결"
      ]
    },
    {
      "cell_type": "markdown",
      "metadata": {
        "id": "tHanj3jX37oT"
      },
      "source": [
        "### numpy.concatenate\n",
        "- shape가 같아야 붙음\n",
        "- axis=0 : 열방향으로 붙음\n",
        "- axis=1 : 행방향으로 붙음"
      ]
    },
    {
      "cell_type": "code",
      "metadata": {
        "id": "O67AqHaB3qqK"
      },
      "source": [
        "a = np.array([[1, 2], [3, 4]])\n",
        "b = np.array([[5, 6]])"
      ],
      "execution_count": null,
      "outputs": []
    },
    {
      "cell_type": "code",
      "metadata": {
        "id": "mvr_CL7C4EjK",
        "colab": {
          "base_uri": "https://localhost:8080/"
        },
        "outputId": "2132485f-9a68-4e9b-84d1-3e91e5379312"
      },
      "source": [
        "np.concatenate((a, b), axis=0) #위에서 아래로 행방향으로 접합"
      ],
      "execution_count": null,
      "outputs": [
        {
          "output_type": "execute_result",
          "data": {
            "text/plain": [
              "array([[1, 2],\n",
              "       [3, 4],\n",
              "       [5, 6]])"
            ]
          },
          "metadata": {},
          "execution_count": 114
        }
      ]
    },
    {
      "cell_type": "code",
      "metadata": {
        "id": "bMkQiBU0ySuX",
        "colab": {
          "base_uri": "https://localhost:8080/"
        },
        "outputId": "14b0e55c-d54f-46b9-8dc9-a55abc375fc1"
      },
      "source": [
        "a"
      ],
      "execution_count": null,
      "outputs": [
        {
          "output_type": "execute_result",
          "data": {
            "text/plain": [
              "array([[1, 2],\n",
              "       [3, 4]])"
            ]
          },
          "metadata": {},
          "execution_count": 115
        }
      ]
    },
    {
      "cell_type": "code",
      "metadata": {
        "id": "ffqEvbSqyUM9",
        "colab": {
          "base_uri": "https://localhost:8080/"
        },
        "outputId": "8ffba476-680b-4fa5-e0e3-b4cfba71abf8"
      },
      "source": [
        "a[0:1].T"
      ],
      "execution_count": null,
      "outputs": [
        {
          "output_type": "execute_result",
          "data": {
            "text/plain": [
              "array([[1],\n",
              "       [2]])"
            ]
          },
          "metadata": {},
          "execution_count": 116
        }
      ]
    },
    {
      "cell_type": "code",
      "source": [
        "b.T"
      ],
      "metadata": {
        "colab": {
          "base_uri": "https://localhost:8080/"
        },
        "id": "wmHFu-egw1dU",
        "outputId": "3f11d9aa-8ce6-4177-d202-539ea7b5ba70"
      },
      "execution_count": null,
      "outputs": [
        {
          "output_type": "execute_result",
          "data": {
            "text/plain": [
              "array([[5],\n",
              "       [6]])"
            ]
          },
          "metadata": {},
          "execution_count": 118
        }
      ]
    },
    {
      "cell_type": "code",
      "metadata": {
        "id": "YwrtBYd54EUw",
        "colab": {
          "base_uri": "https://localhost:8080/"
        },
        "outputId": "ebf388a8-d448-4532-e86a-0027440e23c9"
      },
      "source": [
        "np.concatenate((a, b.T), axis=1)"
      ],
      "execution_count": null,
      "outputs": [
        {
          "output_type": "execute_result",
          "data": {
            "text/plain": [
              "array([[1, 2, 5],\n",
              "       [3, 4, 6]])"
            ]
          },
          "metadata": {},
          "execution_count": 119
        }
      ]
    },
    {
      "cell_type": "markdown",
      "metadata": {
        "id": "rVREocA94NhK"
      },
      "source": [
        "### 참조"
      ]
    },
    {
      "cell_type": "markdown",
      "metadata": {
        "id": "d0JgPbk903Pi"
      },
      "source": [
        "https://docs.scipy.org/doc/numpy/reference/routines.array-manipulation.html#joining-arrays"
      ]
    },
    {
      "cell_type": "markdown",
      "metadata": {
        "id": "NEfhcSP6Ym6r"
      },
      "source": [
        "# **6.다차원 배열 연산**"
      ]
    },
    {
      "cell_type": "markdown",
      "metadata": {
        "id": "QPREx67Z3B9K"
      },
      "source": [
        "기본적인 수학함수는 배열의 각 요소별로 동작하며 연산자를 통해 동작하거나 numpy 함수모듈을 통해 동작합니다.\n",
        "\n",
        "다차원 배열간 연산시, **shape가 맞아야** 연산이 이루어집니다.\n",
        "- **요소별 합, 차, 곱, 나눗셈의 경우** : shape가 일치해야 합니다.\n",
        "- **dot의 경우** : 앞 배열의 열과 뒤 배열의 행의 크기가 일치해야 합니다.\n",
        "\n",
        "https://docs.scipy.org/doc/numpy/reference/routines.math.html"
      ]
    },
    {
      "cell_type": "code",
      "metadata": {
        "id": "KB6qg3SB3Bde"
      },
      "source": [
        "import numpy as np\n",
        "\n",
        "x = np.array([[1., 2.], [3., 4.]])\n",
        "y = np.array([[5., 6.], [7., 8.]])\n",
        "\n",
        "# 요소별 합; 둘 다 다음의 배열을 만듭니다\n",
        "# [[ 6.0  8.0]\n",
        "#  [10.0 12.0]]\n",
        "print(x + y)\n",
        "print(np.add(x, y))\n",
        "\n",
        "# 요소별 차; 둘 다 다음의 배열을 만듭니다\n",
        "# [[-4.0 -4.0]\n",
        "#  [-4.0 -4.0]]\n",
        "print(x - y)\n",
        "print(np.subtract(x, y))\n",
        "\n",
        "# 요소별 곱; 둘 다 다음의 배열을 만듭니다\n",
        "# [[ 5.0 12.0]\n",
        "#  [21.0 32.0]]\n",
        "print(x * y)\n",
        "print(np.multiply(x, y))\n",
        "\n",
        "# 요소별 나눗셈; 둘 다 다음의 배열을 만듭니다\n",
        "# [[ 0.2         0.33333333]\n",
        "#  [ 0.42857143  0.5       ]]\n",
        "print(x / y)\n",
        "print(np.divide(x, y))\n",
        "\n",
        "# 요소별 제곱근; 다음의 배열을 만듭니다\n",
        "# [[ 1.          1.41421356]\n",
        "#  [ 1.73205081  2.        ]]\n",
        "print(np.sqrt(x))"
      ],
      "execution_count": null,
      "outputs": []
    },
    {
      "cell_type": "markdown",
      "metadata": {
        "id": "dB_z-c6e3VOk"
      },
      "source": [
        "Numpy에선 벡터의 내적, 벡터와 행렬의 곱, 행렬곱을 위해 `*`대신 `dot`함수를 사용합니다.\n",
        "\n",
        "`dot`은 Numpy 모듈 함수로서도 배열 객체의 메소드로서도 이용 가능한 합수입니다"
      ]
    },
    {
      "cell_type": "code",
      "metadata": {
        "id": "3PFt0rCE3Y_M"
      },
      "source": [
        "import numpy as np\n",
        "\n",
        "x = np.array([[1,2],[3,4]])\n",
        "y = np.array([[5,6],[7,8]])\n",
        "\n",
        "v = np.array([9,10])\n",
        "w = np.array([11, 12])\n",
        "\n",
        "# 벡터의 내적; 둘 다 결과는 219\n",
        "print(v.dot(w))   #numpy array 객체의 매개함수\n",
        "print(np.dot(v, w))  #numpy 모듈 함수\n",
        "\n",
        "# 행렬과 벡터의 곱; 둘 다 결과는 dimension 1인 배열 [29 67]\n",
        "print(x.dot(v))\n",
        "print(np.dot(x, v))\n",
        "\n",
        "# 행렬곱; 둘 다 결과는 dimension 2인 배열\n",
        "# [[19 22]\n",
        "#  [43 50]]\n",
        "print(x.dot(y))\n",
        "print(np.dot(x, y))"
      ],
      "execution_count": null,
      "outputs": []
    },
    {
      "cell_type": "markdown",
      "metadata": {
        "id": "FlyVDye2Ymo7"
      },
      "source": [
        "# **7.NumPy 고급 기능**"
      ]
    },
    {
      "cell_type": "markdown",
      "metadata": {
        "id": "clp8mtKH35Sm"
      },
      "source": [
        "브로트캐스팅은 Numpy에서 shape가 다른 배열 간에도 산술 연산이 가능하게 하는 메커니즘입니다. 종종 작은 배열과 큰 배열이 있을 때, 큰 배열을 대상으로 작은 배열을 여러 번 연산하고자 할 때가 있습니다. 예를 들어, 행렬의 각 행에 상수 벡터를 더하는 걸 생각해보세요. 이는 다음과 같은 방식으로 처리될 수 있습니다:"
      ]
    },
    {
      "cell_type": "code",
      "metadata": {
        "id": "Jt-LJxZS365d"
      },
      "source": [
        "import numpy as np\n",
        "\n",
        "# 행렬 x의 각 행에 벡터 v를 더한 뒤,\n",
        "# 그 결과를 행렬 y에 저장하고자 합니다\n",
        "x = np.array([[1,2,3], [4,5,6], [7,8,9], [10, 11, 12]])  #4차원 배열\n",
        "# x =   \"[[1  2  3]\n",
        "#         [4  5  6]\n",
        "#         [7  8  9]\n",
        "#         [10 11 12]]\"\n",
        "\n",
        "v = np.array([1, 0, 1])   #1차원 배열\n"
      ],
      "execution_count": null,
      "outputs": []
    },
    {
      "cell_type": "code",
      "metadata": {
        "id": "mM8Ns-s27dcc",
        "colab": {
          "base_uri": "https://localhost:8080/"
        },
        "outputId": "42ff5c95-8334-4821-f4ea-938838ae53cc"
      },
      "source": [
        "x"
      ],
      "execution_count": null,
      "outputs": [
        {
          "output_type": "execute_result",
          "data": {
            "text/plain": [
              "array([[ 1,  2,  3],\n",
              "       [ 4,  5,  6],\n",
              "       [ 7,  8,  9],\n",
              "       [10, 11, 12]])"
            ]
          },
          "metadata": {},
          "execution_count": 2
        }
      ]
    },
    {
      "cell_type": "code",
      "metadata": {
        "id": "-7qf8vW17gfh",
        "colab": {
          "base_uri": "https://localhost:8080/"
        },
        "outputId": "4d136cd6-1f48-4490-81ec-e583f7916ca9"
      },
      "source": [
        "v"
      ],
      "execution_count": null,
      "outputs": [
        {
          "output_type": "execute_result",
          "data": {
            "text/plain": [
              "array([1, 0, 1])"
            ]
          },
          "metadata": {},
          "execution_count": 3
        }
      ]
    },
    {
      "cell_type": "code",
      "metadata": {
        "id": "NlMN8-eD7itj",
        "colab": {
          "base_uri": "https://localhost:8080/"
        },
        "outputId": "78b9f788-b7ae-4583-a079-cf369e360cfd"
      },
      "source": [
        "x.shape"
      ],
      "execution_count": null,
      "outputs": [
        {
          "output_type": "execute_result",
          "data": {
            "text/plain": [
              "(4, 3)"
            ]
          },
          "metadata": {},
          "execution_count": 4
        }
      ]
    },
    {
      "cell_type": "code",
      "metadata": {
        "id": "mdTItwZH7khS",
        "colab": {
          "base_uri": "https://localhost:8080/"
        },
        "outputId": "c202163d-3f9f-402a-c082-78b42bf9a543"
      },
      "source": [
        "v.shape"
      ],
      "execution_count": null,
      "outputs": [
        {
          "output_type": "execute_result",
          "data": {
            "text/plain": [
              "(3,)"
            ]
          },
          "metadata": {},
          "execution_count": 5
        }
      ]
    },
    {
      "cell_type": "code",
      "metadata": {
        "id": "VxaXYMf17oc3",
        "colab": {
          "base_uri": "https://localhost:8080/"
        },
        "outputId": "050994cf-01f3-419e-a660-8aa9d509d609"
      },
      "source": [
        "y = np.empty_like(x)   # x와 동일한 shape를 가지며 비어있는 행렬 생성\n",
        "\n",
        "y"
      ],
      "execution_count": null,
      "outputs": [
        {
          "output_type": "execute_result",
          "data": {
            "text/plain": [
              "array([[99071092587184,              0,              0],\n",
              "       [             0,              0,              0],\n",
              "       [             0,              0,              0],\n",
              "       [             0,              0,              0]])"
            ]
          },
          "metadata": {},
          "execution_count": 6
        }
      ]
    },
    {
      "cell_type": "code",
      "metadata": {
        "id": "ytOKGmgf7s8A",
        "colab": {
          "base_uri": "https://localhost:8080/"
        },
        "outputId": "afe485c2-cdf8-4db4-8ed9-a1ac80e237a2"
      },
      "source": [
        "# 명시적 반복문을 통해 행렬 x의 각 행에 벡터 v를 더하는 방법\n",
        "for i in range(4):\n",
        "    y[i, :] = x[i, :] + v\n",
        "\n",
        "# 이제 y는 다음과 같습니다\n",
        "# [[ 2  2  4]\n",
        "#  [ 5  5  7]\n",
        "#  [ 8  8 10]\n",
        "#  [11 11 13]]\n",
        "print(y)"
      ],
      "execution_count": null,
      "outputs": [
        {
          "output_type": "stream",
          "name": "stdout",
          "text": [
            "[[ 2  2  4]\n",
            " [ 5  5  7]\n",
            " [ 8  8 10]\n",
            " [11 11 13]]\n"
          ]
        }
      ]
    },
    {
      "cell_type": "markdown",
      "metadata": {
        "id": "TS7aVqJH4AZd"
      },
      "source": [
        "위의 방식대로 하면 됩니다; 그러나 `x`가 매우 큰 행렬이라면, 파이썬의 반복문을 이용한 위 코드는 매우 느려질 수 있습니다.\n",
        "\n",
        "벡터 `v`를 행렬 `x`의 각 행에 더하는 것은 `v`를 여러 개 복사해 수직으로 쌓은 행렬 `vv`를 만들고 이 `vv`를 `x`에 더하는것과 동일합니다.\n",
        "\n",
        "이 과정을 아래처럼 구현할 수 있습니다:"
      ]
    },
    {
      "cell_type": "code",
      "metadata": {
        "id": "ALVbwRLD4EU5"
      },
      "source": [
        "import numpy as np\n",
        "\n",
        "# 벡터 v를 행렬 x의 각 행에 더한 뒤,\n",
        "# 그 결과를 행렬 y에 저장하고자 합니다\n",
        "x = np.array([[1,2,3], [4,5,6], [7,8,9], [10, 11, 12]])\n",
        "v = np.array([1, 0, 1])\n"
      ],
      "execution_count": null,
      "outputs": []
    },
    {
      "cell_type": "code",
      "metadata": {
        "id": "KjJQJFHR8MvE",
        "colab": {
          "base_uri": "https://localhost:8080/"
        },
        "outputId": "7fbea49d-1d5b-46bb-8555-ca986f6fb620"
      },
      "source": [
        "vv = np.tile(v, (4, 1))   # tile 함수 : v의 복사본 4개를 위로 차곡차곡 쌓은 것이 vv\n",
        "\n",
        "vv.shape"
      ],
      "execution_count": null,
      "outputs": [
        {
          "output_type": "execute_result",
          "data": {
            "text/plain": [
              "(4, 3)"
            ]
          },
          "metadata": {},
          "execution_count": 11
        }
      ]
    },
    {
      "cell_type": "code",
      "metadata": {
        "id": "SftbRUUj8Ykc",
        "colab": {
          "base_uri": "https://localhost:8080/"
        },
        "outputId": "99d9cc2b-50d3-4f99-c631-862f45f44c23"
      },
      "source": [
        "print(vv)                 # 출력 \"[[1 0 1]\n",
        "                          #       [1 0 1]\n",
        "                          #       [1 0 1]\n",
        "                          #       [1 0 1]]\"\n",
        "y = x + vv  # x와 vv의 요소별 합\n",
        "print(y)    # 출력 \"[[ 2  2  4\n",
        "            #       [ 5  5  7]\n",
        "            #       [ 8  8 10]\n",
        "            #       [11 11 13]]\""
      ],
      "execution_count": null,
      "outputs": [
        {
          "output_type": "stream",
          "name": "stdout",
          "text": [
            "[[1 0 1]\n",
            " [1 0 1]\n",
            " [1 0 1]\n",
            " [1 0 1]]\n",
            "[[ 2  2  4]\n",
            " [ 5  5  7]\n",
            " [ 8  8 10]\n",
            " [11 11 13]]\n"
          ]
        }
      ]
    },
    {
      "cell_type": "markdown",
      "metadata": {
        "id": "Q5fnf7ub4DNk"
      },
      "source": [
        "Numpy 브로드캐스팅을 이용한다면 이렇게 v의 복사본을 여러 개 만들지 않아도 동일한 연산을 할 수 있습니다. 아래는 브로드캐스팅을 이용한 예시 코드입니다:"
      ]
    },
    {
      "cell_type": "code",
      "metadata": {
        "id": "bCqCOn4l4NGD"
      },
      "source": [
        "import numpy as np\n",
        "\n",
        "# 벡터 v를 행렬 x의 각 행에 더한 뒤,\n",
        "# 그 결과를 행렬 y에 저장하고자 합니다\n",
        "x = np.array([[1,2,3], [4,5,6], [7,8,9], [10, 11, 12]])\n",
        "v = np.array([1, 0, 1])\n",
        "y = x + v  # numpy가 스스로 브로드캐스팅을 이용하여 v를 x의 각 행에 더하기 (shape를 변경해줘서 더함)\n",
        "print(y)  # 출력 \"[[ 2  2  4]\n",
        "          #       [ 5  5  7]\n",
        "          #       [ 8  8 10]\n",
        "          #       [11 11 13]]\""
      ],
      "execution_count": null,
      "outputs": []
    },
    {
      "cell_type": "markdown",
      "metadata": {
        "id": "0YKozO6EBgEQ"
      },
      "source": [
        "(강의 처음에 나온, 수학점수 다차원 배열에 +1 한 코드도 사실은 브로드캐스팅이었습니다!)"
      ]
    },
    {
      "cell_type": "code",
      "source": [
        "x+1"
      ],
      "metadata": {
        "colab": {
          "base_uri": "https://localhost:8080/"
        },
        "id": "4rLpUg65UJ91",
        "outputId": "4b89470d-9720-41ba-cbb9-d5fee16ed27a"
      },
      "execution_count": null,
      "outputs": [
        {
          "output_type": "execute_result",
          "data": {
            "text/plain": [
              "array([[ 2,  3,  4],\n",
              "       [ 5,  6,  7],\n",
              "       [ 8,  9, 10],\n",
              "       [11, 12, 13]])"
            ]
          },
          "metadata": {},
          "execution_count": 13
        }
      ]
    },
    {
      "cell_type": "code",
      "source": [
        "np.ones(x.shape) #1은 스칼라인데 x.shape로 브로드캐스팅하여 numpy가 더해줌."
      ],
      "metadata": {
        "colab": {
          "base_uri": "https://localhost:8080/"
        },
        "id": "tUtjzyqaUMGb",
        "outputId": "fa8a3567-332c-40e3-941b-6a6889d49aae"
      },
      "execution_count": null,
      "outputs": [
        {
          "output_type": "execute_result",
          "data": {
            "text/plain": [
              "array([[1., 1., 1.],\n",
              "       [1., 1., 1.],\n",
              "       [1., 1., 1.],\n",
              "       [1., 1., 1.]])"
            ]
          },
          "metadata": {},
          "execution_count": 14
        }
      ]
    },
    {
      "cell_type": "markdown",
      "metadata": {
        "id": "Xz6ed7rh4TjN"
      },
      "source": [
        "x의 shape가 (4, 3)이고 v의 shape가 (3,)라도 브로드캐스팅으로 인해 y = x + v는 문제없이 수행됩니다.\n",
        "\n",
        "이때 `v`는 `v`의 복사본이 차곡차곡 쌓인 shape (4, 3)처럼 간주되어 `x`와 동일한 shape가 되며 이들 간의 요소별 덧셈연산이 y에 저장됩니다.\n",
        "\n",
        "두 배열의 브로드캐스팅은 아래의 규칙을 따릅니다:\n",
        "\n",
        "1. 두 배열이 동일한 dimension을 가지고 있지 않다면, 낮은 dimension의 1차원 배열이 높은 dimension 배열의 shape로 간주합니다.\n",
        "2. 특정 차원에서 두 배열이 동일한 크기를 갖거나, 두 배열 중 하나의 크기가 1이라면 그 두 배열은 특정 차원에서 compatible하다고 여겨집니다.\n",
        "3. 두 행렬이 모든 차원에서 compatible하다면, 브로드캐스팅이 가능합니다.\n",
        "4. 브로드캐스팅이 이뤄지면, 각 배열 shape의 요소별 최소공배수로 이루어진 shape가 두 배열의 shape로 간주합니다.\n",
        "5. 차원에 상관없이 크기가 1인 배열과 1보다 큰 배열이 있을 때, 크기가 1인 배열은 자신의 차원 수만큼 복사되어 쌓인 것처럼 간주합니다."
      ]
    },
    {
      "cell_type": "markdown",
      "metadata": {
        "id": "ngKciAsj4bM-"
      },
      "source": [
        "브로드캐스팅을 지원하는 함수를 universal functions라고 합니다.\n",
        "\n",
        "https://docs.scipy.org/doc/numpy/reference/ufuncs.html\n",
        "\n",
        "브로드캐스팅을 응용한 예시들입니다:"
      ]
    },
    {
      "cell_type": "code",
      "metadata": {
        "id": "y3rAVEb34d03"
      },
      "source": [
        "import numpy as np\n",
        "\n",
        "v = np.array([1,2,3])  # v의 shape는 (3,)\n",
        "w = np.array([4,5])    # w의 shape는 (2,)\n",
        "x = np.array([[1,2,3],\n",
        "              [4,5,6]])"
      ],
      "execution_count": null,
      "outputs": []
    },
    {
      "cell_type": "code",
      "metadata": {
        "id": "YybmNf-Uynmr",
        "colab": {
          "base_uri": "https://localhost:8080/"
        },
        "outputId": "549fc9dc-a94e-4b37-885a-a44aec8ec7a7"
      },
      "source": [
        "print(x)"
      ],
      "execution_count": null,
      "outputs": [
        {
          "output_type": "stream",
          "name": "stdout",
          "text": [
            "[[1 2 3]\n",
            " [4 5 6]]\n"
          ]
        }
      ]
    },
    {
      "cell_type": "code",
      "metadata": {
        "id": "2Nl3kWPTyuha",
        "colab": {
          "base_uri": "https://localhost:8080/"
        },
        "outputId": "e8d38df3-a573-4e88-d0aa-ab45336b807d"
      },
      "source": [
        "# 벡터를 행렬의 각 행에 더하기\n",
        "# x는 shape가 (2, 3)이고 v는 shape가 (3,)이므로 이 둘을 브로드캐스팅하면 shape가 (2, 3)인\n",
        "# 아래와 같은 행렬이 나옵니다:\n",
        "# [[2 4 6]\n",
        "#  [5 7 9]]\n",
        "print(x + v)"
      ],
      "execution_count": null,
      "outputs": [
        {
          "output_type": "stream",
          "name": "stdout",
          "text": [
            "[[2 4 6]\n",
            " [5 7 9]]\n"
          ]
        }
      ]
    },
    {
      "cell_type": "markdown",
      "source": [
        "Transpose를 이용해서 배열 맞지 않은 w와 x 더하기"
      ],
      "metadata": {
        "id": "LPousGnVU391"
      }
    },
    {
      "cell_type": "code",
      "metadata": {
        "id": "fOq_hbEW993m",
        "colab": {
          "base_uri": "https://localhost:8080/"
        },
        "outputId": "a1b5941e-2bf3-44b0-f575-691d1f96c26b"
      },
      "source": [
        "x.T"
      ],
      "execution_count": null,
      "outputs": [
        {
          "output_type": "execute_result",
          "data": {
            "text/plain": [
              "array([[1, 4],\n",
              "       [2, 5],\n",
              "       [3, 6]])"
            ]
          },
          "metadata": {},
          "execution_count": 18
        }
      ]
    },
    {
      "cell_type": "code",
      "metadata": {
        "id": "-kkH3_069_sa",
        "colab": {
          "base_uri": "https://localhost:8080/"
        },
        "outputId": "40220d4b-1e1a-4a7d-b4ff-af1325b5b6b6"
      },
      "source": [
        "w"
      ],
      "execution_count": null,
      "outputs": [
        {
          "output_type": "execute_result",
          "data": {
            "text/plain": [
              "array([4, 5])"
            ]
          },
          "metadata": {},
          "execution_count": 19
        }
      ]
    },
    {
      "cell_type": "code",
      "metadata": {
        "id": "OY6jCvOF-Cls",
        "colab": {
          "base_uri": "https://localhost:8080/"
        },
        "outputId": "92816105-b85e-4fb7-9476-aa31c7c41d52"
      },
      "source": [
        "x.T + w"
      ],
      "execution_count": null,
      "outputs": [
        {
          "output_type": "execute_result",
          "data": {
            "text/plain": [
              "array([[ 5,  9],\n",
              "       [ 6, 10],\n",
              "       [ 7, 11]])"
            ]
          },
          "metadata": {},
          "execution_count": 20
        }
      ]
    },
    {
      "cell_type": "code",
      "metadata": {
        "id": "Sn8mkBYE-HaZ",
        "colab": {
          "base_uri": "https://localhost:8080/"
        },
        "outputId": "71e6f4de-0bee-4ca8-9018-fad4410a274f"
      },
      "source": [
        "(x.T + w).T"
      ],
      "execution_count": null,
      "outputs": [
        {
          "output_type": "execute_result",
          "data": {
            "text/plain": [
              "array([[ 5,  6,  7],\n",
              "       [ 9, 10, 11]])"
            ]
          },
          "metadata": {},
          "execution_count": 21
        }
      ]
    },
    {
      "cell_type": "code",
      "metadata": {
        "id": "R1sGvZNnyyWm",
        "colab": {
          "base_uri": "https://localhost:8080/"
        },
        "outputId": "99b45e25-8b2b-437d-f1a6-70d4c870bab1"
      },
      "source": [
        "# 벡터를 행렬의 각 행에 더하기\n",
        "# x는 shape가 (2, 3)이고 w는 shape가 (2,)입니다.\n",
        "# x의 전치행렬은 shape가 (3,2)이며 이는 w와 브로드캐스팅이 가능하고 결과로 shape가 (3,2)인 행렬이 생깁니다;\n",
        "# 이 행렬을 전치하면 shape가 (2,3)인 행렬이 나오며\n",
        "# 이는 행렬 x의 각 열에 벡터 w을 더한 결과와 동일합니다.\n",
        "# 아래의 행렬입니다:\n",
        "# [[ 5  6  7]\n",
        "#  [ 9 10 11]]\n",
        "print((x.T + w).T)"
      ],
      "execution_count": null,
      "outputs": [
        {
          "output_type": "stream",
          "name": "stdout",
          "text": [
            "[[ 5  6  7]\n",
            " [ 9 10 11]]\n"
          ]
        }
      ]
    },
    {
      "cell_type": "markdown",
      "source": [
        "reshape 이용해서 w와 x 더하기"
      ],
      "metadata": {
        "id": "REoBoH3DU-rP"
      }
    },
    {
      "cell_type": "code",
      "metadata": {
        "id": "O8flNn3d-csG",
        "colab": {
          "base_uri": "https://localhost:8080/"
        },
        "outputId": "9f3ec70f-e0a5-4bda-e0da-21c9f94ede46"
      },
      "source": [
        "w  #1차원"
      ],
      "execution_count": null,
      "outputs": [
        {
          "output_type": "execute_result",
          "data": {
            "text/plain": [
              "array([4, 5])"
            ]
          },
          "metadata": {},
          "execution_count": 23
        }
      ]
    },
    {
      "cell_type": "code",
      "metadata": {
        "id": "IS1AtfzQ-ege",
        "colab": {
          "base_uri": "https://localhost:8080/"
        },
        "outputId": "9718ad80-fb0f-49b9-d7fa-1f9ccdd2e8f2"
      },
      "source": [
        " np.reshape(w, (2, 1))  #열 벡터로 변환"
      ],
      "execution_count": null,
      "outputs": [
        {
          "output_type": "execute_result",
          "data": {
            "text/plain": [
              "array([[4],\n",
              "       [5]])"
            ]
          },
          "metadata": {},
          "execution_count": 24
        }
      ]
    },
    {
      "cell_type": "code",
      "metadata": {
        "id": "buxpt-e7yx5E",
        "colab": {
          "base_uri": "https://localhost:8080/"
        },
        "outputId": "8228fbfd-2eae-44df-f83f-635eb5d289ed"
      },
      "source": [
        "# 다른 방법은 w를 shape가 (2,1)인 열벡터로 변환하는 것입니다;\n",
        "# 그런 다음 이를 바로 x에 브로드캐스팅해 더하면\n",
        "# 동일한 결과가 나옵니다.\n",
        "print(x + np.reshape(w, (2, 1)))"
      ],
      "execution_count": null,
      "outputs": [
        {
          "output_type": "stream",
          "name": "stdout",
          "text": [
            "[[ 5  6  7]\n",
            " [ 9 10 11]]\n"
          ]
        }
      ]
    },
    {
      "cell_type": "code",
      "metadata": {
        "id": "Dg-XjQ8EyxqD",
        "colab": {
          "base_uri": "https://localhost:8080/"
        },
        "outputId": "b7689d0d-cfb2-4dcf-cad7-0d83f3d4a025"
      },
      "source": [
        "# 행렬의 스칼라배:\n",
        "# x 의 shape는 (2, 3)입니다. Numpy는 스칼라를 shape가 ()인 배열로 취급합니다;\n",
        "# 그렇기에 스칼라 값은 (2,3) shape로 브로드캐스트 될 수 있고,\n",
        "# 아래와 같은 결과를 만들어 냅니다:\n",
        "# [[ 2  4  6]\n",
        "#  [ 8 10 12]]\n",
        "print(x * 2)"
      ],
      "execution_count": null,
      "outputs": [
        {
          "output_type": "stream",
          "name": "stdout",
          "text": [
            "[[ 2  4  6]\n",
            " [ 8 10 12]]\n"
          ]
        }
      ]
    },
    {
      "cell_type": "markdown",
      "metadata": {
        "id": "7nq1PTCS4lyk"
      },
      "source": [
        "브로드캐스팅은 보통 코드를 간결하고 빠르게 해줍니다, 그러니 가능한 많이 사용하세요."
      ]
    }
  ]
}