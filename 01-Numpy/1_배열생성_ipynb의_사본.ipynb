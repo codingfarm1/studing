{
  "nbformat": 4,
  "nbformat_minor": 0,
  "metadata": {
    "colab": {
      "provenance": []
    },
    "kernelspec": {
      "display_name": "Python 3",
      "language": "python",
      "name": "python3"
    }
  },
  "cells": [
    {
      "metadata": {
        "id": "HtPwysdT8heT"
      },
      "cell_type": "markdown",
      "source": [
        "# 배열 생성 루틴"
      ]
    },
    {
      "metadata": {
        "id": "KWDqmRos8heU"
      },
      "cell_type": "markdown",
      "source": [
        "## Ones and zeros"
      ]
    },
    {
      "metadata": {
        "id": "OUp3BBoy8heV"
      },
      "cell_type": "code",
      "source": [
        "import numpy as np"
      ],
      "execution_count": null,
      "outputs": []
    },
    {
      "metadata": {
        "id": "C7Kysj6y8heX"
      },
      "cell_type": "markdown",
      "source": [
        "2*2 integers 다차원 배열을 초기화 하지 않은 상태로 생성하세요."
      ]
    },
    {
      "metadata": {
        "id": "OtYG0tjj8heY",
        "outputId": "917d3077-e94a-48b4-da69-38021a017ab0",
        "colab": {
          "base_uri": "https://localhost:8080/"
        }
      },
      "cell_type": "code",
      "source": [
        "np.empty((2,2), dtype=int)"
      ],
      "execution_count": null,
      "outputs": [
        {
          "output_type": "execute_result",
          "data": {
            "text/plain": [
              "array([[102574952287530,               0],\n",
              "       [              0,               0]])"
            ]
          },
          "metadata": {},
          "execution_count": 2
        }
      ]
    },
    {
      "metadata": {
        "id": "bwsOgHgH8heb"
      },
      "cell_type": "markdown",
      "source": [
        "X = np.array([1,2,3], [4,5,6], np.int32) 일 때,\n",
        "X와 동일한 shape를 가지는 다차원 배열을 초기화 하지 않은 상태로 생성하세요."
      ]
    },
    {
      "metadata": {
        "id": "RJn9Pk-O8heb",
        "outputId": "127c71c2-6b01-4e44-a3d2-d8548d288738",
        "colab": {
          "base_uri": "https://localhost:8080/"
        }
      },
      "cell_type": "code",
      "source": [
        "X = np.array([[1,2,3], [4,5,6]], np.int32)\n",
        "\n",
        "np.empty_like(X)"
      ],
      "execution_count": null,
      "outputs": [
        {
          "output_type": "execute_result",
          "data": {
            "text/plain": [
              "array([[         0, 1072693248,          0],\n",
              "       [1072693248,          0, 1072693248]], dtype=int32)"
            ]
          },
          "metadata": {},
          "execution_count": 3
        }
      ]
    },
    {
      "metadata": {
        "id": "imqaV0M88hee"
      },
      "cell_type": "markdown",
      "source": [
        "크기가 3인 단위행렬을 생성하세요."
      ]
    },
    {
      "metadata": {
        "id": "gyIcftFt8hee",
        "outputId": "ac0f2da6-dad5-44b7-8122-66ecca46b96e",
        "colab": {
          "base_uri": "https://localhost:8080/"
        }
      },
      "cell_type": "code",
      "source": [
        "np.identity(3)"
      ],
      "execution_count": null,
      "outputs": [
        {
          "output_type": "execute_result",
          "data": {
            "text/plain": [
              "array([[1., 0., 0.],\n",
              "       [0., 1., 0.],\n",
              "       [0., 0., 1.]])"
            ]
          },
          "metadata": {},
          "execution_count": 6
        }
      ]
    },
    {
      "metadata": {
        "id": "4x_qajzs8heh",
        "outputId": "04e7777c-945e-4a6d-c8f8-189f8451523b",
        "colab": {
          "base_uri": "https://localhost:8080/"
        }
      },
      "cell_type": "code",
      "source": [
        "np.eye(3)"
      ],
      "execution_count": null,
      "outputs": [
        {
          "output_type": "execute_result",
          "data": {
            "text/plain": [
              "array([[1., 0., 0.],\n",
              "       [0., 1., 0.],\n",
              "       [0., 0., 1.]])"
            ]
          },
          "metadata": {},
          "execution_count": 7
        }
      ]
    },
    {
      "metadata": {
        "id": "VFRRrJ9D8hek"
      },
      "cell_type": "markdown",
      "source": [
        "모든 원소가 1로 채워진 3*2 실수형 다차원 배열을 생성하세요."
      ]
    },
    {
      "metadata": {
        "id": "t6vKGD938hel",
        "outputId": "d3671ac1-4050-4f8f-bbbe-5802b3416dd0",
        "colab": {
          "base_uri": "https://localhost:8080/"
        }
      },
      "cell_type": "code",
      "source": [
        "np.ones((3,2), dtype=int)"
      ],
      "execution_count": null,
      "outputs": [
        {
          "output_type": "execute_result",
          "data": {
            "text/plain": [
              "array([[1, 1],\n",
              "       [1, 1],\n",
              "       [1, 1]])"
            ]
          },
          "metadata": {},
          "execution_count": 8
        }
      ]
    },
    {
      "metadata": {
        "id": "GTVOFhzE8heo"
      },
      "cell_type": "markdown",
      "source": [
        "x = np.arange(4, dtype=np.int64) 일 때,\n",
        "X와 동일한 shape를 가지고 모든 원소가 1인 다차원 배열을 생성하세요."
      ]
    },
    {
      "metadata": {
        "id": "ouBbvK7F8heo",
        "outputId": "a921a4ac-7493-42f0-959e-ee82004c5198",
        "colab": {
          "base_uri": "https://localhost:8080/"
        }
      },
      "cell_type": "code",
      "source": [
        "x = np.arange(4, dtype=np.int64)\n",
        "\n",
        "np.ones_like(x)"
      ],
      "execution_count": null,
      "outputs": [
        {
          "output_type": "execute_result",
          "data": {
            "text/plain": [
              "array([1, 1, 1, 1])"
            ]
          },
          "metadata": {},
          "execution_count": 11
        }
      ]
    },
    {
      "metadata": {
        "id": "Aae3hd178heu"
      },
      "cell_type": "markdown",
      "source": [
        "모든 원소가 0으로 채워진 3*2 실수형 다차원 배열을 생성하세요."
      ]
    },
    {
      "metadata": {
        "id": "OkRMwppD8hev",
        "outputId": "1843e591-5c18-4f77-ba8d-fbeda7e20843",
        "colab": {
          "base_uri": "https://localhost:8080/"
        }
      },
      "cell_type": "code",
      "source": [
        "np.zeros((3,2))"
      ],
      "execution_count": null,
      "outputs": [
        {
          "output_type": "execute_result",
          "data": {
            "text/plain": [
              "array([[0., 0.],\n",
              "       [0., 0.],\n",
              "       [0., 0.]])"
            ]
          },
          "metadata": {},
          "execution_count": 10
        }
      ]
    },
    {
      "metadata": {
        "id": "bkr2PwSJ8hex"
      },
      "cell_type": "markdown",
      "source": [
        "x = np.arange(4, dtype=np.int64) 일 때,\n",
        "\n",
        "x와 동일한 shape의 영행렬을 생성하세요."
      ]
    },
    {
      "metadata": {
        "id": "3ql8mTws8hey",
        "outputId": "6a2cad59-a3a8-4254-c9b4-b878ed235b94",
        "colab": {
          "base_uri": "https://localhost:8080/"
        }
      },
      "cell_type": "code",
      "source": [
        "x = np.arange(4, dtype=np.int64)\n",
        "\n",
        "np.zeros_like(x)"
      ],
      "execution_count": null,
      "outputs": [
        {
          "output_type": "execute_result",
          "data": {
            "text/plain": [
              "array([0, 0, 0, 0])"
            ]
          },
          "metadata": {},
          "execution_count": 12
        }
      ]
    },
    {
      "metadata": {
        "id": "txKzANtn8he0"
      },
      "cell_type": "markdown",
      "source": [
        "모든 원소가 6으로 채워진 2*5 uint형(부호없는 정수) 다차원 배열을 생성하세요."
      ]
    },
    {
      "metadata": {
        "id": "t2WN64Rm8he1",
        "outputId": "8927ecff-e798-4b61-d25f-4a9b048a5759",
        "colab": {
          "base_uri": "https://localhost:8080/"
        }
      },
      "cell_type": "code",
      "source": [
        "np.full((2,5), 6)"
      ],
      "execution_count": null,
      "outputs": [
        {
          "output_type": "execute_result",
          "data": {
            "text/plain": [
              "array([[6, 6, 6, 6, 6],\n",
              "       [6, 6, 6, 6, 6]])"
            ]
          },
          "metadata": {},
          "execution_count": 16
        }
      ]
    },
    {
      "metadata": {
        "id": "RdWU5Wkt8he4",
        "outputId": "2ecfbe41-2231-4d5c-af87-53e0e256dfca",
        "colab": {
          "base_uri": "https://localhost:8080/"
        }
      },
      "cell_type": "code",
      "source": [
        "6 * np.ones((2,5), dtype=int)"
      ],
      "execution_count": null,
      "outputs": [
        {
          "output_type": "execute_result",
          "data": {
            "text/plain": [
              "array([[6., 6., 6., 6., 6.],\n",
              "       [6., 6., 6., 6., 6.]])"
            ]
          },
          "metadata": {},
          "execution_count": 15
        }
      ]
    },
    {
      "metadata": {
        "id": "l9duF8VU8he7"
      },
      "cell_type": "markdown",
      "source": [
        "x = np.arange(4, dtype=np.int64)일 때,\n",
        "\n",
        "x와 동일한 shape이고 모든 원소가 6인 다차원 배열을 생성하세요."
      ]
    },
    {
      "metadata": {
        "id": "LSpBX7m88he8",
        "outputId": "cf6d997b-cfaf-4e7a-de38-ee6b1b9b13c5"
      },
      "cell_type": "code",
      "source": [
        "x = np.arange(4, dtype=np.int64)\n",
        "\n",
        "np.full_like(x, 6)"
      ],
      "execution_count": null,
      "outputs": [
        {
          "output_type": "execute_result",
          "data": {
            "text/plain": [
              "array([6, 6, 6, 6])"
            ]
          },
          "metadata": {
            "tags": []
          },
          "execution_count": 12
        }
      ]
    },
    {
      "metadata": {
        "id": "yZ6VHeZr8he_",
        "outputId": "5b2b92d2-764c-40a8-9feb-43c8fde48034"
      },
      "cell_type": "code",
      "source": [
        "6 * np.ones_like(x)"
      ],
      "execution_count": null,
      "outputs": [
        {
          "output_type": "execute_result",
          "data": {
            "text/plain": [
              "array([6, 6, 6, 6])"
            ]
          },
          "metadata": {
            "tags": []
          },
          "execution_count": 13
        }
      ]
    },
    {
      "metadata": {
        "id": "xg4td96X8hfC"
      },
      "cell_type": "markdown",
      "source": [
        "## From existing data"
      ]
    },
    {
      "metadata": {
        "id": "_MIGNaIL8hfC"
      },
      "cell_type": "markdown",
      "source": [
        "[1, 2, 3] 배열을 생성하세요"
      ]
    },
    {
      "metadata": {
        "id": "3oqvdI358hfD",
        "outputId": "8f96ea10-7fea-4f84-ee96-3745edfa9117",
        "colab": {
          "base_uri": "https://localhost:8080/",
          "height": 34
        }
      },
      "cell_type": "code",
      "source": [
        "np.array([1,2,3])"
      ],
      "execution_count": null,
      "outputs": [
        {
          "output_type": "execute_result",
          "data": {
            "text/plain": [
              "array([1, 2, 3])"
            ]
          },
          "metadata": {
            "tags": []
          },
          "execution_count": 18
        }
      ]
    },
    {
      "metadata": {
        "id": "qmVtyAtU8hfF"
      },
      "cell_type": "markdown",
      "source": [
        "x = [1, 2] 일 때(python list 상태)\n",
        "\n",
        "x를 배열로 변환하세요."
      ]
    },
    {
      "metadata": {
        "id": "95XdVp7r8hfG",
        "outputId": "e8ec195f-070e-48a8-b8a0-bb3da0cf9c19",
        "colab": {
          "base_uri": "https://localhost:8080/",
          "height": 34
        }
      },
      "cell_type": "code",
      "source": [
        "x = [1,2]\n",
        "\n",
        "np.array(x)"
      ],
      "execution_count": null,
      "outputs": [
        {
          "output_type": "execute_result",
          "data": {
            "text/plain": [
              "array([1, 2])"
            ]
          },
          "metadata": {
            "tags": []
          },
          "execution_count": 19
        }
      ]
    },
    {
      "metadata": {
        "id": "SvfisGDA8hfJ",
        "outputId": "eb7ec57a-68ad-436c-d39d-98e8f0d97cf7",
        "colab": {
          "base_uri": "https://localhost:8080/",
          "height": 34
        }
      },
      "cell_type": "code",
      "source": [
        "# 다른 솔루션\n",
        "np.asarray(x)"
      ],
      "execution_count": null,
      "outputs": [
        {
          "output_type": "execute_result",
          "data": {
            "text/plain": [
              "array([1, 2])"
            ]
          },
          "metadata": {
            "tags": []
          },
          "execution_count": 20
        }
      ]
    },
    {
      "metadata": {
        "id": "OwM6cmNR8hfT"
      },
      "cell_type": "markdown",
      "source": [
        "x = [1, 2] 일 때(python list 상태)\n",
        "\n",
        "x를 `float`형 배열로 변환하세요."
      ]
    },
    {
      "metadata": {
        "id": "MEc-19yL8hfT",
        "outputId": "5cb2c3d3-8134-4370-b741-e6a8f3386af1",
        "colab": {
          "base_uri": "https://localhost:8080/",
          "height": 34
        }
      },
      "cell_type": "code",
      "source": [
        "x = [1, 2]\n",
        "\n",
        "np.array(x, dtype = float)"
      ],
      "execution_count": null,
      "outputs": [
        {
          "output_type": "execute_result",
          "data": {
            "text/plain": [
              "array([1., 2.])"
            ]
          },
          "metadata": {
            "tags": []
          },
          "execution_count": 22
        }
      ]
    },
    {
      "metadata": {
        "id": "2I6yMIhB8hfX",
        "outputId": "7d5048e8-8357-4d74-e601-91e4b2989412",
        "colab": {
          "base_uri": "https://localhost:8080/",
          "height": 34
        }
      },
      "cell_type": "code",
      "source": [
        "# 다른 솔루션\n",
        "np.asarray(x, float)"
      ],
      "execution_count": null,
      "outputs": [
        {
          "output_type": "execute_result",
          "data": {
            "text/plain": [
              "array([1., 2.])"
            ]
          },
          "metadata": {
            "tags": []
          },
          "execution_count": 23
        }
      ]
    },
    {
      "metadata": {
        "id": "-YNpBPSV8hfZ",
        "outputId": "17c00261-37ce-411c-cad7-b2f3ca934448",
        "colab": {
          "base_uri": "https://localhost:8080/",
          "height": 34
        }
      },
      "cell_type": "code",
      "source": [
        "# 다른 솔루션\n",
        "np.asfarray(x)"
      ],
      "execution_count": null,
      "outputs": [
        {
          "output_type": "execute_result",
          "data": {
            "text/plain": [
              "array([1., 2.])"
            ]
          },
          "metadata": {
            "tags": []
          },
          "execution_count": 24
        }
      ]
    },
    {
      "metadata": {
        "id": "dZ7IVtFf8hfc"
      },
      "cell_type": "markdown",
      "source": [
        "## Numerical ranges"
      ]
    },
    {
      "metadata": {
        "id": "DADUhFZj8hfd"
      },
      "cell_type": "markdown",
      "source": [
        "2, 4, 6, 8, ..., 100 을 원소로 가지는 배열을 생성하세요."
      ]
    },
    {
      "metadata": {
        "id": "mUouo2na8hfd",
        "outputId": "d5a55027-b5cd-4bd7-a9da-480e4828a1aa",
        "colab": {
          "base_uri": "https://localhost:8080/",
          "height": 87
        }
      },
      "cell_type": "code",
      "source": [
        "np.arrange(2, 101, 2)"
      ],
      "execution_count": null,
      "outputs": [
        {
          "output_type": "execute_result",
          "data": {
            "text/plain": [
              "array([  2,   4,   6,   8,  10,  12,  14,  16,  18,  20,  22,  24,  26,\n",
              "        28,  30,  32,  34,  36,  38,  40,  42,  44,  46,  48,  50,  52,\n",
              "        54,  56,  58,  60,  62,  64,  66,  68,  70,  72,  74,  76,  78,\n",
              "        80,  82,  84,  86,  88,  90,  92,  94,  96,  98, 100])"
            ]
          },
          "metadata": {
            "tags": []
          },
          "execution_count": 26
        }
      ]
    },
    {
      "metadata": {
        "id": "nz3GBp928hfg"
      },
      "cell_type": "markdown",
      "source": [
        "3.0 에서 10.0 까지 50개의 원소가 균일하게 분포된 1차원 배열을 생성하세요."
      ]
    },
    {
      "metadata": {
        "id": "nZiYr0UBg1ce",
        "outputId": "7f2e8b3f-89da-4601-b9d4-51ba71703ff3",
        "colab": {
          "base_uri": "https://localhost:8080/"
        }
      },
      "cell_type": "code",
      "source": [
        "np.linspace(3.0, 10.0, 50)"
      ],
      "execution_count": null,
      "outputs": [
        {
          "output_type": "execute_result",
          "data": {
            "text/plain": [
              "array([ 3.        ,  3.14285714,  3.28571429,  3.42857143,  3.57142857,\n",
              "        3.71428571,  3.85714286,  4.        ,  4.14285714,  4.28571429,\n",
              "        4.42857143,  4.57142857,  4.71428571,  4.85714286,  5.        ,\n",
              "        5.14285714,  5.28571429,  5.42857143,  5.57142857,  5.71428571,\n",
              "        5.85714286,  6.        ,  6.14285714,  6.28571429,  6.42857143,\n",
              "        6.57142857,  6.71428571,  6.85714286,  7.        ,  7.14285714,\n",
              "        7.28571429,  7.42857143,  7.57142857,  7.71428571,  7.85714286,\n",
              "        8.        ,  8.14285714,  8.28571429,  8.42857143,  8.57142857,\n",
              "        8.71428571,  8.85714286,  9.        ,  9.14285714,  9.28571429,\n",
              "        9.42857143,  9.57142857,  9.71428571,  9.85714286, 10.        ])"
            ]
          },
          "metadata": {},
          "execution_count": 18
        }
      ]
    }
  ]
}
