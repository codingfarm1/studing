{
  "nbformat": 4,
  "nbformat_minor": 0,
  "metadata": {
    "colab": {
      "provenance": []
    },
    "kernelspec": {
      "display_name": "Python 3",
      "language": "python",
      "name": "python3"
    }
  },
  "cells": [
    {
      "metadata": {
        "id": "2Fx26KBF2fEZ"
      },
      "cell_type": "markdown",
      "source": [
        "# 배열 다루기 루틴"
      ]
    },
    {
      "metadata": {
        "id": "UrYXE7BP2fEa"
      },
      "cell_type": "code",
      "source": [
        "import numpy as np"
      ],
      "execution_count": null,
      "outputs": []
    },
    {
      "metadata": {
        "id": "Qvj-Z_p_2fEf"
      },
      "cell_type": "markdown",
      "source": [
        "Q1. x가 10x10x3의 다차원 배열일때, x의 두번째 차원이 150인 2차원 배열이 되도록 reshape하세요."
      ]
    },
    {
      "metadata": {
        "id": "h0_7cCqf2fEg",
        "outputId": "10f9a23e-8c2f-439d-d0fa-678bf26ebbeb",
        "colab": {
          "base_uri": "https://localhost:8080/"
        }
      },
      "cell_type": "code",
      "source": [
        "x = np.ones([10, 10, 3])\n",
        "\n",
        "np.reshape(x, (2, 150)).shape\n",
        "x.reshape(2,150).shape"
      ],
      "execution_count": null,
      "outputs": [
        {
          "output_type": "execute_result",
          "data": {
            "text/plain": [
              "(2, 150)"
            ]
          },
          "metadata": {},
          "execution_count": 17
        }
      ]
    },
    {
      "metadata": {
        "id": "4qJWk5p92fEj"
      },
      "cell_type": "markdown",
      "source": [
        "Q2. x가 [[1, 2, 3], [4, 5, 6]]일 때, [1 2 3 4 5 6]로 변환하세요."
      ]
    },
    {
      "metadata": {
        "id": "tdTUFBTB2fEj"
      },
      "cell_type": "code",
      "source": [
        "x = np.array([[1, 2, 3], [4, 5, 6]])"
      ],
      "execution_count": null,
      "outputs": []
    },
    {
      "metadata": {
        "id": "xAMjT7-22fEm",
        "outputId": "2338c355-0342-496f-9099-c95d8727e1f1",
        "colab": {
          "base_uri": "https://localhost:8080/"
        }
      },
      "cell_type": "code",
      "source": [
        "x.ravel()\n",
        "np.ravel(x)"
      ],
      "execution_count": null,
      "outputs": [
        {
          "output_type": "execute_result",
          "data": {
            "text/plain": [
              "array([1., 1., 1., 1., 1., 1., 1., 1., 1., 1., 1., 1., 1., 1., 1., 1., 1.,\n",
              "       1., 1., 1., 1., 1., 1., 1., 1., 1., 1., 1., 1., 1., 1., 1., 1., 1.,\n",
              "       1., 1., 1., 1., 1., 1., 1., 1., 1., 1., 1., 1., 1., 1., 1., 1., 1.,\n",
              "       1., 1., 1., 1., 1., 1., 1., 1., 1., 1., 1., 1., 1., 1., 1., 1., 1.,\n",
              "       1., 1., 1., 1., 1., 1., 1., 1., 1., 1., 1., 1., 1., 1., 1., 1., 1.,\n",
              "       1., 1., 1., 1., 1., 1., 1., 1., 1., 1., 1., 1., 1., 1., 1., 1., 1.,\n",
              "       1., 1., 1., 1., 1., 1., 1., 1., 1., 1., 1., 1., 1., 1., 1., 1., 1.,\n",
              "       1., 1., 1., 1., 1., 1., 1., 1., 1., 1., 1., 1., 1., 1., 1., 1., 1.,\n",
              "       1., 1., 1., 1., 1., 1., 1., 1., 1., 1., 1., 1., 1., 1., 1., 1., 1.,\n",
              "       1., 1., 1., 1., 1., 1., 1., 1., 1., 1., 1., 1., 1., 1., 1., 1., 1.,\n",
              "       1., 1., 1., 1., 1., 1., 1., 1., 1., 1., 1., 1., 1., 1., 1., 1., 1.,\n",
              "       1., 1., 1., 1., 1., 1., 1., 1., 1., 1., 1., 1., 1., 1., 1., 1., 1.,\n",
              "       1., 1., 1., 1., 1., 1., 1., 1., 1., 1., 1., 1., 1., 1., 1., 1., 1.,\n",
              "       1., 1., 1., 1., 1., 1., 1., 1., 1., 1., 1., 1., 1., 1., 1., 1., 1.,\n",
              "       1., 1., 1., 1., 1., 1., 1., 1., 1., 1., 1., 1., 1., 1., 1., 1., 1.,\n",
              "       1., 1., 1., 1., 1., 1., 1., 1., 1., 1., 1., 1., 1., 1., 1., 1., 1.,\n",
              "       1., 1., 1., 1., 1., 1., 1., 1., 1., 1., 1., 1., 1., 1., 1., 1., 1.,\n",
              "       1., 1., 1., 1., 1., 1., 1., 1., 1., 1., 1.])"
            ]
          },
          "metadata": {},
          "execution_count": 19
        }
      ]
    },
    {
      "metadata": {
        "id": "N0lGVvnJ2fEr",
        "outputId": "bba9a0c2-2442-4231-b578-f56642a96271",
        "colab": {
          "base_uri": "https://localhost:8080/"
        }
      },
      "cell_type": "code",
      "source": [
        "x.flatten()"
      ],
      "execution_count": null,
      "outputs": [
        {
          "output_type": "execute_result",
          "data": {
            "text/plain": [
              "array([1, 2, 3, 4, 5, 6])"
            ]
          },
          "metadata": {},
          "execution_count": 5
        }
      ]
    },
    {
      "metadata": {
        "id": "I6C3KsvP2fEt"
      },
      "cell_type": "markdown",
      "source": [
        "Q3. x가 [[1, 2, 3], [4, 5, 6]]일 때, flatten한 후 5번째 원소를 가져오세요."
      ]
    },
    {
      "metadata": {
        "id": "eGpLb14N2fEt",
        "outputId": "292bd1e6-f6ec-4e88-dd2c-e3e8403f9193",
        "colab": {
          "base_uri": "https://localhost:8080/"
        }
      },
      "cell_type": "code",
      "source": [
        "x = np.array([[1, 2, 3], [4, 5, 6]])\n",
        "out = x.flatten() #1차원 변환\n",
        "\n",
        "out[4]"
      ],
      "execution_count": null,
      "outputs": [
        {
          "output_type": "execute_result",
          "data": {
            "text/plain": [
              "5"
            ]
          },
          "metadata": {},
          "execution_count": 20
        }
      ]
    },
    {
      "metadata": {
        "id": "iDQk-4fq2fEw"
      },
      "cell_type": "markdown",
      "source": [
        "Q4.\n",
        "\n",
        "x= <br/>\n",
        "[[ 1 2 3]<br/>\n",
        "[ 4 5 6].<br/><br/>\n",
        "y = <br/>\n",
        "[[ 7 8 9]<br/>\n",
        "[10 11 12]].<br/>\n",
        "\n",
        "\n",
        "x와 y를 연결해서\n",
        "<br/>[[1, 2, 3, 7, 8, 9], <br/>[4, 5, 6, 10, 11, 12]]\n",
        "를 만드세요\n"
      ]
    },
    {
      "metadata": {
        "id": "tsSj1HC82fEx",
        "outputId": "c9f5bef9-9dc5-4052-befa-de241672099d",
        "colab": {
          "base_uri": "https://localhost:8080/"
        }
      },
      "cell_type": "code",
      "source": [
        "x = np.array([[1, 2, 3], [4, 5, 6]])\n",
        "y = np.array([[7, 8, 9], [10, 11, 12]])\n",
        "\n",
        "np.concatenate((x, y), axis=1)"
      ],
      "execution_count": null,
      "outputs": [
        {
          "output_type": "execute_result",
          "data": {
            "text/plain": [
              "array([[ 1,  2,  3,  7,  8,  9],\n",
              "       [ 4,  5,  6, 10, 11, 12]])"
            ]
          },
          "metadata": {},
          "execution_count": 13
        }
      ]
    },
    {
      "metadata": {
        "id": "psCD3p1t2fE1"
      },
      "cell_type": "markdown",
      "source": [
        "Q5.\n",
        "\n",
        "x= <br/>\n",
        "[[ 1 2 3]<br/>\n",
        "[ 4 5 6].<br/><br/>\n",
        "y = <br/>\n",
        "[[ 7 8 9]<br/>\n",
        "[10 11 12]].<br/>\n",
        "\n",
        "\n",
        "x와 y를 연결해서\n",
        "<br/>[[ 1  2  3]<br/>\n",
        " [ 4  5  6]<br/>\n",
        " [ 7  8  9]<br/>\n",
        " [10 11 12]]\n",
        "를 만드세요"
      ]
    },
    {
      "metadata": {
        "id": "zoVPpgEu2fE2",
        "outputId": "cddf8e79-c1cf-462e-86b7-27db87f501b3",
        "colab": {
          "base_uri": "https://localhost:8080/"
        }
      },
      "cell_type": "code",
      "source": [
        "x = np.array([[1, 2, 3], [4, 5, 6]])\n",
        "y = np.array([[7, 8, 9], [10, 11, 12]])\n",
        "\n",
        "\n",
        "np.concatenate((x, y), axis=0)"
      ],
      "execution_count": null,
      "outputs": [
        {
          "output_type": "execute_result",
          "data": {
            "text/plain": [
              "array([[ 1,  2,  3],\n",
              "       [ 4,  5,  6],\n",
              "       [ 7,  8,  9],\n",
              "       [10, 11, 12]])"
            ]
          },
          "metadata": {},
          "execution_count": 15
        }
      ]
    },
    {
      "metadata": {
        "id": "mEGOOvSp2fE5"
      },
      "cell_type": "markdown",
      "source": [
        "Q6. x가 [0, 1, 2]일 때, [0, 0, 1, 1, 2, 2]를 생성하세요."
      ]
    },
    {
      "metadata": {
        "id": "Sa6BTNKn2fE6",
        "outputId": "f641d16e-86f5-4e7b-d2e6-356417c841b4",
        "colab": {
          "base_uri": "https://localhost:8080/",
          "height": 34
        }
      },
      "cell_type": "code",
      "source": [
        "x = np.array([0, 1, 2])\n",
        "\n",
        "np.repeat(x, 2) #np.repeat(다차원배열, 반복 수)"
      ],
      "execution_count": null,
      "outputs": [
        {
          "output_type": "execute_result",
          "data": {
            "text/plain": [
              "array([0, 0, 1, 1, 2, 2])"
            ]
          },
          "metadata": {
            "tags": []
          },
          "execution_count": 12
        }
      ]
    },
    {
      "metadata": {
        "id": "FAlK4zcH2fE9"
      },
      "cell_type": "markdown",
      "source": [
        "Q7. x가 [0, 0, 0, 1, 2, 3, 0, 2, 1, 0]일 때,<br/>\n",
        "앞, 뒤의 0을 제거하세요."
      ]
    },
    {
      "metadata": {
        "id": "ANr3uzX32fE-",
        "outputId": "af37ae1a-635d-4490-e774-0c97af1f78d8",
        "colab": {
          "base_uri": "https://localhost:8080/"
        }
      },
      "cell_type": "code",
      "source": [
        "x = np.array((0, 0, 0, 1, 2, 3, 0, 2, 1, 0))\n",
        "\n",
        "a = x[1:-1] #slicing\n",
        "a\n",
        "\n",
        "np.trim_zeros(x)\n",
        "#CNN에서 zero padding 시 사용\n",
        "#앞 뒤의 0을 제거할 때 사용"
      ],
      "execution_count": null,
      "outputs": [
        {
          "output_type": "execute_result",
          "data": {
            "text/plain": [
              "array([1, 2, 3, 0, 2, 1])"
            ]
          },
          "metadata": {},
          "execution_count": 22
        }
      ]
    }
  ]
}