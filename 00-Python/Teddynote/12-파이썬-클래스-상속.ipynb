{
 "cells": [
  {
   "cell_type": "markdown",
   "metadata": {},
   "source": [
    "## Python의 Class와 상속(inheritance)의 개념"
   ]
  },
  {
   "cell_type": "markdown",
   "metadata": {},
   "source": [
    "- Python 문법에서의 상속(inheritance)란, **부모 클래스(Super Class)**의 속성(property)과 함수(method)를 그대로 물려 받는 개념입니다.\n",
    "- Super Class의 내용을 **자식 클래스(Sub Class)**가 물려 받게 되면, **Super Class의 속성과 함수를 자식 클래스에서 사용**할 수 있습니다.\n",
    "- class 에 속한 함수 (method)는 첫 번째 인자로 `self`를 입력합니다. (사실 self가 아니어도 상관없지만, 일반적으로 self를 많이 사용합니다.)\n",
    "- 자식클래스의 함수를 재정의하게 되면, **재정의된 함수로 실행**되게 됩니다."
   ]
  },
  {
   "cell_type": "code",
   "execution_count": 1,
   "metadata": {},
   "outputs": [],
   "source": [
    "class Person:\n",
    "    \"\"\"Super Class\"\"\"\n",
    "    # 클래스 변수\n",
    "    total_count = 0\n",
    "    \n",
    "    # 생성자 메서드(method)\n",
    "    def __init__(self):\n",
    "        self.name = '홍길동'\n",
    "        self.age = 1\n",
    "        Person.total_count+=1\n",
    "    \n",
    "    # class내 정의된 메서드(method)\n",
    "    def introduce(self):\n",
    "        print(f'제 이름은 {self.name} 이고, 나이는 {self.age}살 입니다.')"
   ]
  },
  {
   "cell_type": "markdown",
   "metadata": {},
   "source": [
    "### 인스턴스(instance) 생성과 객체(object)"
   ]
  },
  {
   "cell_type": "markdown",
   "metadata": {},
   "source": [
    "객체는 바로 밑의 예시에서 p1, p2, p3를 일컫습니다.\n",
    "\n",
    "정의된 클래스(class)로부터 생성된 녀석을 **인스턴스(instance) 혹은 객체(object)**라고 합니다.\n",
    "\n",
    "하지만, 용어의 온도차(?)는 존재합니다."
   ]
  },
  {
   "cell_type": "code",
   "execution_count": 2,
   "metadata": {},
   "outputs": [],
   "source": [
    "p1 = Person()\n",
    "p2 = Person()\n",
    "p3 = Person()"
   ]
  },
  {
   "cell_type": "code",
   "execution_count": 3,
   "metadata": {},
   "outputs": [
    {
     "name": "stdout",
     "output_type": "stream",
     "text": [
      "제 이름은 홍길동 이고, 나이는 1살 입니다.\n"
     ]
    }
   ],
   "source": [
    "p1.introduce()"
   ]
  },
  {
   "cell_type": "markdown",
   "metadata": {},
   "source": [
    "### 객체와 인스턴스의 차이\n",
    "\n",
    "**[점프투 파이썬](https://wikidocs.net/28)의 좋은 설명을 인용하도록 하겠습니다.**\n",
    "\n",
    "----\n",
    "클래스로 만든 객체를 인스턴스라고도 한다. \n",
    "\n",
    "그렇다면 객체와 인스턴스의 차이는 무엇일까? \n",
    "\n",
    "이렇게 생각해 보자. `p1 = Person()` 이렇게 만든 `p1`는 **객체**이다. \n",
    "\n",
    "그리고 `p1` 객체는 Person의 **인스턴스**이다. \n",
    "\n",
    "즉 **인스턴스**라는 말은 특정 객체(p1)가 어떤 클래스(Person)의 객체인지를 관계 위주로 설명할 때 사용한다. \n",
    "\n",
    "**\"p1는 인스턴스\"**보다는 **\"p1은 객체\"**라는 표현이 어울리며 **\"p1는 Person의 객체\"**보다는 **\"p1은 Person의 인스턴스\"**라는 표현이 훨씬 잘 어울린다."
   ]
  },
  {
   "cell_type": "markdown",
   "metadata": {},
   "source": [
    "### 클래스 변수의 출력"
   ]
  },
  {
   "cell_type": "markdown",
   "metadata": {},
   "source": [
    "클래스 변수는 모든 클래스가 공유하게 됩니다. 클래스의 객체가 **3번** 만들어 졌기 때문에 **3이 출력**되는 것을 확인할 수 있습니다."
   ]
  },
  {
   "cell_type": "code",
   "execution_count": 4,
   "metadata": {},
   "outputs": [
    {
     "data": {
      "text/plain": [
       "3"
      ]
     },
     "execution_count": 4,
     "metadata": {},
     "output_type": "execute_result"
    }
   ],
   "source": [
    "p1.__class__.total_count"
   ]
  },
  {
   "cell_type": "code",
   "execution_count": 5,
   "metadata": {},
   "outputs": [],
   "source": [
    "class Person:\n",
    "    \"\"\"Super Class\"\"\"\n",
    "    # 클래스 변수\n",
    "    total_count = 0\n",
    "    \n",
    "    # 생성자 메서드\n",
    "    def __init__(self, name, age):\n",
    "        self.name = name\n",
    "        self.age = age\n",
    "        Person.total_count+=1\n",
    "    \n",
    "    # class내 정의된 함수(method)\n",
    "    def introduce(self):\n",
    "        print(f'제 이름은 {self.name} 이고, 나이는 {self.age}살 입니다.')"
   ]
  },
  {
   "cell_type": "markdown",
   "metadata": {},
   "source": [
    "다음을 실행시 *오류*가 발생합니다.\n",
    "\n",
    "**생성자 메서드가 재정의** 되었기 때문입니다."
   ]
  },
  {
   "cell_type": "code",
   "execution_count": 6,
   "metadata": {},
   "outputs": [
    {
     "ename": "TypeError",
     "evalue": "__init__() missing 2 required positional arguments: 'name' and 'age'",
     "output_type": "error",
     "traceback": [
      "\u001b[0;31m---------------------------------------------------------------------------\u001b[0m",
      "\u001b[0;31mTypeError\u001b[0m                                 Traceback (most recent call last)",
      "\u001b[0;32m/tmp/ipykernel_3737434/2346419028.py\u001b[0m in \u001b[0;36m<module>\u001b[0;34m\u001b[0m\n\u001b[0;32m----> 1\u001b[0;31m \u001b[0mp4\u001b[0m \u001b[0;34m=\u001b[0m \u001b[0mPerson\u001b[0m\u001b[0;34m(\u001b[0m\u001b[0;34m)\u001b[0m\u001b[0;34m\u001b[0m\u001b[0;34m\u001b[0m\u001b[0m\n\u001b[0m",
      "\u001b[0;31mTypeError\u001b[0m: __init__() missing 2 required positional arguments: 'name' and 'age'"
     ]
    }
   ],
   "source": [
    "p4 = Person()"
   ]
  },
  {
   "cell_type": "code",
   "execution_count": 7,
   "metadata": {},
   "outputs": [
    {
     "name": "stdout",
     "output_type": "stream",
     "text": [
      "제 이름은 김철수 이고, 나이는 22살 입니다.\n"
     ]
    }
   ],
   "source": [
    "p5 = Person('김철수', 22)\n",
    "p5.introduce()"
   ]
  },
  {
   "cell_type": "markdown",
   "metadata": {},
   "source": [
    "## 클래스 상속 (inheritance) 받기"
   ]
  },
  {
   "cell_type": "code",
   "execution_count": 8,
   "metadata": {},
   "outputs": [],
   "source": [
    "class Student(Person):\n",
    "    \"\"\"Sub Class\"\"\"\n",
    "\n",
    "    def __init__(self):\n",
    "        super().__init__()\n",
    "\n",
    "    def print_name(self):\n",
    "        print(f'제 이름은 {self.name} 입니다.')\n",
    "        \n",
    "    def print_age(self):\n",
    "        print(f'제 나이는 {self.age} 입니다.')"
   ]
  },
  {
   "cell_type": "code",
   "execution_count": 9,
   "metadata": {},
   "outputs": [
    {
     "ename": "TypeError",
     "evalue": "__init__() missing 2 required positional arguments: 'name' and 'age'",
     "output_type": "error",
     "traceback": [
      "\u001b[0;31m---------------------------------------------------------------------------\u001b[0m",
      "\u001b[0;31mTypeError\u001b[0m                                 Traceback (most recent call last)",
      "\u001b[0;32m/tmp/ipykernel_3737434/391622993.py\u001b[0m in \u001b[0;36m<module>\u001b[0;34m\u001b[0m\n\u001b[0;32m----> 1\u001b[0;31m \u001b[0ms1\u001b[0m \u001b[0;34m=\u001b[0m \u001b[0mStudent\u001b[0m\u001b[0;34m(\u001b[0m\u001b[0;34m)\u001b[0m\u001b[0;34m\u001b[0m\u001b[0;34m\u001b[0m\u001b[0m\n\u001b[0m",
      "\u001b[0;32m/tmp/ipykernel_3737434/3151107577.py\u001b[0m in \u001b[0;36m__init__\u001b[0;34m(self)\u001b[0m\n\u001b[1;32m      3\u001b[0m \u001b[0;34m\u001b[0m\u001b[0m\n\u001b[1;32m      4\u001b[0m     \u001b[0;32mdef\u001b[0m \u001b[0m__init__\u001b[0m\u001b[0;34m(\u001b[0m\u001b[0mself\u001b[0m\u001b[0;34m)\u001b[0m\u001b[0;34m:\u001b[0m\u001b[0;34m\u001b[0m\u001b[0;34m\u001b[0m\u001b[0m\n\u001b[0;32m----> 5\u001b[0;31m         \u001b[0msuper\u001b[0m\u001b[0;34m(\u001b[0m\u001b[0;34m)\u001b[0m\u001b[0;34m.\u001b[0m\u001b[0m__init__\u001b[0m\u001b[0;34m(\u001b[0m\u001b[0;34m)\u001b[0m\u001b[0;34m\u001b[0m\u001b[0;34m\u001b[0m\u001b[0m\n\u001b[0m\u001b[1;32m      6\u001b[0m \u001b[0;34m\u001b[0m\u001b[0m\n\u001b[1;32m      7\u001b[0m     \u001b[0;32mdef\u001b[0m \u001b[0mprint_name\u001b[0m\u001b[0;34m(\u001b[0m\u001b[0mself\u001b[0m\u001b[0;34m)\u001b[0m\u001b[0;34m:\u001b[0m\u001b[0;34m\u001b[0m\u001b[0;34m\u001b[0m\u001b[0m\n",
      "\u001b[0;31mTypeError\u001b[0m: __init__() missing 2 required positional arguments: 'name' and 'age'"
     ]
    }
   ],
   "source": [
    "s1 = Student()"
   ]
  },
  {
   "cell_type": "markdown",
   "metadata": {},
   "source": [
    "**오류를 어떻게 해결할 수 있을까?**"
   ]
  },
  {
   "cell_type": "markdown",
   "metadata": {},
   "source": [
    "### Sub Class 에서의 오류"
   ]
  },
  {
   "cell_type": "markdown",
   "metadata": {},
   "source": [
    "Student 클래스는 Person 클래스를 상속받아 구현하게 되면서, 생성자 (__init__) 함수에서 `name`, `age` argument를 요구합니다. 이 Rule을 지켜주지 못하면 에러가 발생합니다."
   ]
  },
  {
   "cell_type": "markdown",
   "metadata": {},
   "source": [
    "### 첫 번째 해결책"
   ]
  },
  {
   "cell_type": "markdown",
   "metadata": {},
   "source": [
    "`super().__init__()` 호출시 name과 age argument를 넘겨줍니다."
   ]
  },
  {
   "cell_type": "code",
   "execution_count": 10,
   "metadata": {},
   "outputs": [],
   "source": [
    "class Student(Person):\n",
    "    \"\"\"Sub Class\"\"\"\n",
    "\n",
    "    def __init__(self):\n",
    "        super().__init__('테디', 30)"
   ]
  },
  {
   "cell_type": "code",
   "execution_count": 11,
   "metadata": {},
   "outputs": [],
   "source": [
    "student = Student()"
   ]
  },
  {
   "cell_type": "markdown",
   "metadata": {},
   "source": [
    "### 두 번재 해결책"
   ]
  },
  {
   "cell_type": "markdown",
   "metadata": {},
   "source": [
    "Student 클래스의 `__init__()`을 `.__init__(name, age)` 인자를 받는 생성자 메서드로 **재정의**할 수 있습니다."
   ]
  },
  {
   "cell_type": "code",
   "execution_count": 12,
   "metadata": {},
   "outputs": [],
   "source": [
    "class Student(Person):\n",
    "    \"\"\"Sub Class\"\"\"\n",
    "\n",
    "    def __init__(self, name, age):\n",
    "        super().__init__(name, age)"
   ]
  },
  {
   "cell_type": "code",
   "execution_count": 13,
   "metadata": {},
   "outputs": [
    {
     "name": "stdout",
     "output_type": "stream",
     "text": [
      "제 이름은 테디 이고, 나이는 30살 입니다.\n"
     ]
    }
   ],
   "source": [
    "student = Student('테디', 30)\n",
    "student.introduce()"
   ]
  },
  {
   "cell_type": "markdown",
   "metadata": {},
   "source": [
    "### 메서드 오버라이딩"
   ]
  },
  {
   "cell_type": "markdown",
   "metadata": {},
   "source": [
    "- 메서드 오버라이딩은 부모로부터 물려받은(상속받은) 메서드를 재정의하여 사용할 때 사용합니다.\n",
    "- 부모로부터 물려받은 다른 기능은 그대로 사용하되, 몇몇 메서드만 수정하여 활용하고 싶을 때 사용합니다."
   ]
  },
  {
   "cell_type": "code",
   "execution_count": 14,
   "metadata": {},
   "outputs": [],
   "source": [
    "class Person:\n",
    "    \"\"\"Super Class\"\"\"\n",
    "    \n",
    "    # PErson의 생성자 메서드\n",
    "    def __init__(self, name='홍길동', age=20):\n",
    "        self.name = name\n",
    "        self.age = age\n",
    "    \n",
    "    # Person의 메서드\n",
    "    def introduce(self):\n",
    "        print(f'난 Person이야. 내 이름은 {self.name} 이고, 나이는 {self.age}살이야.')"
   ]
  },
  {
   "cell_type": "markdown",
   "metadata": {},
   "source": [
    "### 케이스 1. 클래스 메서드 오버라이딩을 안 하는 경우"
   ]
  },
  {
   "cell_type": "code",
   "execution_count": 15,
   "metadata": {},
   "outputs": [],
   "source": [
    "class Student(Person):\n",
    "    \"\"\"Sub Class\"\"\"\n",
    "\n",
    "    def __init__(self):\n",
    "        super().__init__()"
   ]
  },
  {
   "cell_type": "markdown",
   "metadata": {},
   "source": [
    "다음과 같이 부모클래스 (Super Class)의 `introduce()`가 실행됨을 확인할 수 있습니다."
   ]
  },
  {
   "cell_type": "code",
   "execution_count": 16,
   "metadata": {},
   "outputs": [
    {
     "name": "stdout",
     "output_type": "stream",
     "text": [
      "난 Person이야. 내 이름은 홍길동 이고, 나이는 20살이야.\n"
     ]
    }
   ],
   "source": [
    "student = Student()\n",
    "student.introduce()"
   ]
  },
  {
   "cell_type": "markdown",
   "metadata": {},
   "source": [
    "### 케이스 2. 클래스 메서드 오버라이딩을 한 경우"
   ]
  },
  {
   "cell_type": "code",
   "execution_count": 17,
   "metadata": {},
   "outputs": [],
   "source": [
    "class Student(Person):\n",
    "    \"\"\"Sub Class\"\"\"\n",
    "\n",
    "    def __init__(self):\n",
    "        super().__init__()\n",
    "\n",
    "    # 메서드 오버라이딩\n",
    "    def introduce(self):\n",
    "        print(f'난 Student야. 내 이름은 {self.name}이고, 나이는 비밀이야.')"
   ]
  },
  {
   "cell_type": "markdown",
   "metadata": {},
   "source": [
    "메서드 오버라이딩을 하게 되면, **자식클래스 (Sub Class)에서 재정의 한 메서드가 호출** 되게 됩니다. (부모클래스의 메서드는 무시됩니다.)"
   ]
  },
  {
   "cell_type": "code",
   "execution_count": 18,
   "metadata": {},
   "outputs": [
    {
     "name": "stdout",
     "output_type": "stream",
     "text": [
      "난 Student야. 내 이름은 홍길동이고, 나이는 비밀이야.\n"
     ]
    }
   ],
   "source": [
    "student = Student()\n",
    "student.introduce()"
   ]
  },
  {
   "cell_type": "markdown",
   "metadata": {},
   "source": [
    "### 케이스 3. 클래스 메서드 오버라이딩을 하고 그 안에서 `super()`를 호출한 경우"
   ]
  },
  {
   "cell_type": "code",
   "execution_count": 19,
   "metadata": {},
   "outputs": [],
   "source": [
    "class Student(Person):\n",
    "    \"\"\"Sub Class\"\"\"\n",
    "\n",
    "    def __init__(self):\n",
    "        super().__init__()\n",
    "\n",
    "    # 메서드 오버라이딩\n",
    "    def introduce(self):\n",
    "        # 부모의 메서드 호출\n",
    "        super().introduce()\n",
    "        print(f'난 Student야. 내 이름은 {self.name}이고, 나이는 비밀이야.')"
   ]
  },
  {
   "cell_type": "markdown",
   "metadata": {},
   "source": [
    "만약, 부모클래스의 메서드를 호출하고 싶다면, `super().introduce()` 형식으로 호출 할 수 있습니다."
   ]
  },
  {
   "cell_type": "code",
   "execution_count": 20,
   "metadata": {},
   "outputs": [
    {
     "name": "stdout",
     "output_type": "stream",
     "text": [
      "난 Person이야. 내 이름은 홍길동 이고, 나이는 20살이야.\n",
      "난 Student야. 내 이름은 홍길동이고, 나이는 비밀이야.\n"
     ]
    }
   ],
   "source": [
    "student = Student()\n",
    "student.introduce()"
   ]
  },
  {
   "cell_type": "markdown",
   "metadata": {},
   "source": [
    "## 상속 구조 확인"
   ]
  },
  {
   "cell_type": "markdown",
   "metadata": {},
   "source": [
    "- 상속의 구조는 `클래스명.mro()`로 확인할 수 있습니다.\n",
    "- 구조는 상속 받은 순서대로 표시됩니다.\n",
    "- 모든 class는 object를 상속받기 때문에 *항상 object가 마지막에 표기* 됩니다."
   ]
  },
  {
   "cell_type": "code",
   "execution_count": 21,
   "metadata": {},
   "outputs": [
    {
     "data": {
      "text/plain": [
       "[__main__.Student, __main__.Person, object]"
      ]
     },
     "execution_count": 21,
     "metadata": {},
     "output_type": "execute_result"
    }
   ],
   "source": [
    "Student.mro()"
   ]
  }
 ],
 "metadata": {
  "kernelspec": {
   "display_name": "Python 3 (ipykernel)",
   "language": "python",
   "name": "python3"
  },
  "language_info": {
   "codemirror_mode": {
    "name": "ipython",
    "version": 3
   },
   "file_extension": ".py",
   "mimetype": "text/x-python",
   "name": "python",
   "nbconvert_exporter": "python",
   "pygments_lexer": "ipython3",
   "version": "3.7.10"
  }
 },
 "nbformat": 4,
 "nbformat_minor": 2
}
